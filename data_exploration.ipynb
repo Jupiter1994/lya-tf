{
 "cells": [
  {
   "cell_type": "code",
   "execution_count": 1,
   "id": "a8800f35-099d-4950-843d-d9910d175679",
   "metadata": {},
   "outputs": [],
   "source": [
    "import h5py"
   ]
  },
  {
   "cell_type": "markdown",
   "id": "393867f4-1c94-438e-9151-bb53c3f5eb90",
   "metadata": {},
   "source": [
    "## Load in the data"
   ]
  },
  {
   "cell_type": "code",
   "execution_count": 37,
   "id": "8736a6ec-d4ca-412a-9295-fe3e82a03fa4",
   "metadata": {},
   "outputs": [],
   "source": [
    "filename = \"../../../../cscratch1/sd/jupiter/sim2_z3_FGPA_cgs.h5\"\n",
    "\n",
    "h5 = h5py.File(filename,'r')"
   ]
  },
  {
   "cell_type": "code",
   "execution_count": 48,
   "id": "44db1048-5544-4b96-af22-ae41adbfc038",
   "metadata": {
    "collapsed": true,
    "jupyter": {
     "outputs_hidden": true
    },
    "tags": []
   },
   "outputs": [
    {
     "name": "stdout",
     "output_type": "stream",
     "text": [
      "<Attributes of HDF5 object at 46913298275760>\n",
      "<Attributes of HDF5 object at 46913325631744>\n",
      "<Attributes of HDF5 object at 46913325632144>\n",
      "<Attributes of HDF5 object at 46913325631984>\n",
      "<Attributes of HDF5 object at 46913298275760>\n",
      "<Attributes of HDF5 object at 46913325632304>\n",
      "<Attributes of HDF5 object at 46913325631744>\n",
      "<Attributes of HDF5 object at 46913325632464>\n",
      "<Attributes of HDF5 object at 46913325631984>\n",
      "<Attributes of HDF5 object at 46913325632304>\n",
      "<Attributes of HDF5 object at 46913298275760>\n",
      "<Attributes of HDF5 object at 46913298275760>\n",
      "<Attributes of HDF5 object at 46913325631744>\n",
      "<Attributes of HDF5 object at 46913325632464>\n",
      "<Attributes of HDF5 object at 46913325631984>\n",
      "<Attributes of HDF5 object at 46913325632304>\n",
      "<Attributes of HDF5 object at 46913325631744>\n",
      "<Attributes of HDF5 object at 46913325632464>\n",
      "<Attributes of HDF5 object at 46913325631984>\n",
      "<Attributes of HDF5 object at 46913325632304>\n",
      "<Attributes of HDF5 object at 46913325631744>\n",
      "<Attributes of HDF5 object at 46913298275760>\n"
     ]
    }
   ],
   "source": [
    "# none of the objects have attributes\n",
    "def print_attrs(name, object):\n",
    "    print(object.attrs)\n",
    "    \n",
    "h5.visititems(print_attrs)"
   ]
  },
  {
   "cell_type": "code",
   "execution_count": 31,
   "id": "e4fd365f-8569-4ebc-85ea-a41e416c46ce",
   "metadata": {},
   "outputs": [
    {
     "name": "stdout",
     "output_type": "stream",
     "text": [
      "Datasets in /aux_fields: ['DM_vx', 'DM_vy', 'DM_vz']\n",
      "\n",
      "Datasets in /derived_fields: ['HI_number_density', 'flux_real', 'flux_red', 'tau_real', 'tau_red']\n",
      "\n",
      "Datasets in /domain: []\n",
      "\n",
      "Datasets in /native_fields: ['baryon_density', 'matter_density', 'particle_vx', 'particle_vy', 'particle_vz', 'temperature', 'velocity_x', 'velocity_y', 'velocity_z']\n",
      "\n",
      "Datasets in /universe: []\n",
      "\n"
     ]
    }
   ],
   "source": [
    "# print the dataset names\n",
    "for key in h5.keys():\n",
    "    temp = h5[key]\n",
    "    print(f'Datasets in {temp.name}: {list(temp.keys())}\\n')"
   ]
  },
  {
   "cell_type": "code",
   "execution_count": 38,
   "id": "1711b972-633c-47d0-920e-46063223a9a8",
   "metadata": {},
   "outputs": [
    {
     "data": {
      "text/plain": [
       "(1024, 1024, 1024)"
      ]
     },
     "execution_count": 38,
     "metadata": {},
     "output_type": "execute_result"
    }
   ],
   "source": [
    "# all datasets are 1024^3\n",
    "h5['native_fields']['velocity_x'].shape"
   ]
  },
  {
   "cell_type": "code",
   "execution_count": 49,
   "id": "869b9e98-7b11-4410-8500-5d445d1af8aa",
   "metadata": {},
   "outputs": [],
   "source": [
    "h5.close()"
   ]
  },
  {
   "cell_type": "code",
   "execution_count": null,
   "id": "8fd46f12-bbdd-4eb1-85a1-c679e46cb89d",
   "metadata": {},
   "outputs": [],
   "source": []
  }
 ],
 "metadata": {
  "kernelspec": {
   "display_name": "Lya-TF",
   "language": "python",
   "name": "lya-tf"
  },
  "language_info": {
   "codemirror_mode": {
    "name": "ipython",
    "version": 3
   },
   "file_extension": ".py",
   "mimetype": "text/x-python",
   "name": "python",
   "nbconvert_exporter": "python",
   "pygments_lexer": "ipython3",
   "version": "3.8.10"
  }
 },
 "nbformat": 4,
 "nbformat_minor": 5
}
