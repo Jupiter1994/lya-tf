{
 "cells": [
  {
   "cell_type": "code",
   "execution_count": 1,
   "id": "f557ebbe-5f78-46db-8212-46ef3097f20b",
   "metadata": {
    "tags": []
   },
   "outputs": [],
   "source": [
    "import h5py\n",
    "import numpy as np\n",
    "import scipy.ndimage\n",
    "import scipy.optimize\n",
    "import tensorflow as tf\n",
    "# import tensorflow_probability as tfp\n",
    "# from tensorflow import keras\n",
    "\n",
    "#import time\n",
    "\n",
    "import matplotlib.pyplot as plt"
   ]
  },
  {
   "cell_type": "markdown",
   "id": "e7ed1d9c-a03b-4d06-9732-b752b45a2192",
   "metadata": {
    "tags": []
   },
   "source": [
    "# Fitting the DM-to-baryon formulas"
   ]
  },
  {
   "cell_type": "markdown",
   "id": "7daaaa7c-c418-4c9b-861e-27e1d6e4f0a2",
   "metadata": {},
   "source": [
    "We define the following variables:\n",
    "1. $T$ is the temperature. $\\rho$ is the ratio of dark matter density to the mean DM density, and $\\rho_b$ is the same quantity for baryons.\n",
    "2. $\\rho'$ is the gradient of the density field. For cell $i$ in a skewer, we make the approximation $\\rho' \\approx c(\\rho_{i+1}-\\rho_{i-1})$, where $c$ is some constant that is simply absorbed by $v_0$ (see the below formula).\n",
    "3. $T_0$, $\\rho_{b,0}$, and $v_0$ are scaling constants, and the $\\gamma$'s are the exponential parameters.\n",
    "4. $\\sigma_T$, $\\sigma_\\rho$, $\\sigma_v$ are the smoothing scales for temperature, baryon density, and baryon velocity, respectively. (These are all on the order of ~1.)\n",
    "\n",
    "Baryon temperature:\n",
    "$$T = T_0 [\\text{gaussian_smoothing}(\\rho, \\sigma_T)]^{\\gamma_T-1} $$\n",
    "Baryon density:\n",
    "$$\\rho_b = \\rho_{b,0} [\\text{gaussian_smoothing}(\\rho, \\sigma_\\rho)]^{\\gamma_\\rho-1} $$\n",
    "Baryon velocity:\n",
    "$$v = v_0 [\\text{gaussian_smoothing}(\\rho', \\sigma_v)]^{\\gamma_v-1} $$"
   ]
  },
  {
   "cell_type": "markdown",
   "id": "6b264ccf-0a42-46cf-bcd6-4dd6754029af",
   "metadata": {},
   "source": [
    "## Gaussian filter function\n",
    "In the (differentiable) optimization process, `gaussian_blur` replaces `scipy.ndimage.gaussian_filter`."
   ]
  },
  {
   "cell_type": "code",
   "execution_count": 2,
   "id": "90d522b2-df60-4a5a-96d2-f37812409294",
   "metadata": {},
   "outputs": [],
   "source": [
    "def gaussian_blur(img, kernel_size, sigma):\n",
    "    def gauss_kernel(channels, kernel_size, sigma):\n",
    "        ax = tf.range(-kernel_size // 2 + 1.0, kernel_size // 2 + 1.0)\n",
    "        xx, yy = tf.meshgrid(ax, ax)\n",
    "        kernel = tf.exp(-(xx ** 2 + yy ** 2) / (2.0 * sigma ** 2))\n",
    "        kernel = kernel / tf.reduce_sum(kernel)\n",
    "        kernel = tf.tile(kernel[..., tf.newaxis], [1, 1, channels])\n",
    "        return kernel\n",
    "\n",
    "    img = tf.reshape(img, [1, img.shape[-2], img.shape[-1], 1]) # e.g. (1, 1024, 1024, 1)\n",
    "    \n",
    "    gaussian_kernel = gauss_kernel(tf.shape(img)[-1], kernel_size, sigma)\n",
    "    gaussian_kernel = gaussian_kernel[..., tf.newaxis]\n",
    "    gaussian_kernel = tf.cast(gaussian_kernel, 'float64')\n",
    "\n",
    "    result = tf.nn.depthwise_conv2d(img, gaussian_kernel, [1, 1, 1, 1],\n",
    "                                  padding='SAME', data_format='NHWC')\n",
    "    return result"
   ]
  },
  {
   "cell_type": "markdown",
   "id": "79884a99-c92f-47ab-b2a4-b487828dec9c",
   "metadata": {
    "tags": []
   },
   "source": [
    "## Load in data"
   ]
  },
  {
   "cell_type": "code",
   "execution_count": 3,
   "id": "51583a3f-f999-4588-a560-2cd4878e57c1",
   "metadata": {},
   "outputs": [],
   "source": [
    "filename = \"../../../../../cscratch1/sd/jupiter/sim2_z3_FGPA_cgs.h5\"\n",
    "tf_filename = \"../lya_fields/results/tf_fields1x1x1024.h5\"\n",
    "\n",
    "h5 = h5py.File(filename,'r')\n",
    "tf_h5 = h5py.File(tf_filename,'r')\n",
    "\n",
    "# full fields\n",
    "DM_dens = h5['native_fields']['matter_density'][()] # rho\n",
    "baryon_dens = h5['native_fields']['baryon_density'][()] # rho_b\n",
    "temperature = h5['native_fields']['temperature'][()] # T\n",
    "baryon_vel = h5['native_fields']['velocity_z'][()] # v\n",
    "\n",
    "# treal = tf_h5['tau_real'][()] # real-space optical depth (lya-tf)\n",
    "# treal_g = h5['derived_fields']['tau_real'][()] # real-space optical depth (Gimlet)\n",
    "# tred = tf_h5['tau_red'][()] # redshift-space optical depth (lya-tf)\n",
    "\n",
    "h5.close()\n",
    "tf_h5.close()"
   ]
  },
  {
   "cell_type": "code",
   "execution_count": 4,
   "id": "c80586cb-a887-4b77-8508-d684c579bc11",
   "metadata": {},
   "outputs": [],
   "source": [
    "# train on one part of the snapshot\n",
    "train_inds = (512,\n",
    "              slice(0, 1024),\n",
    "              slice(0, 1024))\n",
    "rho_train = DM_dens[train_inds]\n",
    "rhob_train = baryon_dens[train_inds]\n",
    "temp_train = temperature[train_inds]\n",
    "vel_train = baryon_vel[train_inds]\n",
    "\n",
    "# test on one skewer\n",
    "test_inds = (0, 0, slice(0, 1024))\n",
    "rho_test = DM_dens[test_inds]\n",
    "rhob_test = baryon_dens[test_inds]\n",
    "temp_test = temperature[test_inds]\n",
    "vel_test = baryon_vel[test_inds]\n",
    "\n",
    "rho_train = tf.cast(rho_train, 'float64')"
   ]
  },
  {
   "cell_type": "code",
   "execution_count": 5,
   "id": "837dd432-c34c-403e-a62c-07e61369befa",
   "metadata": {
    "tags": []
   },
   "outputs": [],
   "source": [
    "def bary_model(rho, x0, sigma, gamma):\n",
    "    '''\n",
    "    The model for fitting x = x0 * [gaussian_smoothing(rho_DM, sigma)]^(gamma-1),\n",
    "    where x is the baryon property.\n",
    "    \n",
    "    '''\n",
    "    \n",
    "    return x0 * (scipy.ndimage.gaussian_filter(rho, sigma))**(gamma - 1)\n",
    "\n",
    "def bary_model_diff(rho, x0, sigma, gamma):\n",
    "    '''\n",
    "    The (differentiable) model for fitting x = x0 * [gaussian_smoothing(rho_DM, sigma)]^(gamma-1),\n",
    "    where x is the baryon property.\n",
    "    \n",
    "    '''\n",
    "    \n",
    "    result = x0 * (gaussian_blur(rho, sigma*2, sigma))**(gamma - 1)\n",
    "    return tf.squeeze(result)\n",
    "\n",
    "def obj_fn(params, x):\n",
    "    '''\n",
    "    The objective function to be minimized for fitting. \n",
    "    \n",
    "    PARAMETERS\n",
    "    ----------\n",
    "    params: (x0, sigma, gamma)\n",
    "    x: the baryon property to fit; can be 'rho' (baryon density),\n",
    "    't' (temperature), or 'v' (velocity)\n",
    "    \n",
    "    '''\n",
    "    \n",
    "    x0, sigma, gamma = params\n",
    "    \n",
    "    x_pred = bary_model_diff(rho_train, x0, sigma, gamma)\n",
    "    \n",
    "    if x == 'rho':\n",
    "        return np.mean(np.square(rhob_train - x_pred))\n",
    "    elif x == 't':\n",
    "        return np.mean(np.square(temp_train - x_pred))\n",
    "    elif x == 'v':\n",
    "        return np.mean(np.square(vel_train - x_pred))\n",
    "    else:\n",
    "        raise ValueError(\"Invalid argument: x must be 'rho', 't', or 'v'\")\n",
    "        \n",
    "def obj_fn_logT(params):\n",
    "    '''\n",
    "    The objective function to be minimized for fitting log(T). When using scipy.optimize.minimize,\n",
    "    fitting log(T_0) may yield better results than fitting T_0, but it's much slower (on the order\n",
    "    of tens of minutes for 10 iterations).\n",
    "    \n",
    "    PARAMETERS\n",
    "    ----------\n",
    "    params: (logT0, sigma, gamma)\n",
    "    \n",
    "    '''\n",
    "    \n",
    "    logT0, sigma, gamma = params\n",
    "    \n",
    "    logT_pred = logT0 + (gamma - 1)*np.log10(gaussian_blur(rho_train, sigma*2, sigma))\n",
    "    \n",
    "    return np.mean(np.square(temp_train - 10**logT_pred))"
   ]
  },
  {
   "cell_type": "markdown",
   "id": "c2c63337-dfd0-4e8d-a2e5-b5afe722a083",
   "metadata": {
    "tags": []
   },
   "source": [
    "## Testing gaussian filters"
   ]
  },
  {
   "cell_type": "code",
   "execution_count": null,
   "id": "96c96950-2e83-4ac5-9a06-f9da563ba12c",
   "metadata": {},
   "outputs": [],
   "source": [
    "x0 = 3\n",
    "sigma = 1.5\n",
    "gamma = 1.6\n",
    "\n",
    "# using ndimage.gaussian_filter, sigma = 1.5\n",
    "plt.figure(figsize=(3,3))\n",
    "plt.imshow(np.log10(bary_model(rho_train, x0, sigma, gamma)))\n",
    "plt.title(\"gaussian_filter\")\n",
    "plt.colorbar()\n",
    "plt.show()\n",
    "\n",
    "plt.figure(figsize=(3,3))\n",
    "plt.imshow(np.log10(bary_model_diff(rho_train, x0, sigma, gamma)))\n",
    "plt.title(\"gaussian_blur, kernel = 2 * sigma\")\n",
    "plt.colorbar()\n",
    "plt.show()\n",
    "\n",
    "result = x0 * (gaussian_blur(rho_train, sigma*5, sigma))**(gamma - 1)\n",
    "plt.figure(figsize=(3,3))\n",
    "plt.imshow(np.log10(result[0,...,0]))\n",
    "plt.title(\"gaussian_blur, kernel = 5 * sigma\")\n",
    "plt.colorbar()\n",
    "plt.show()"
   ]
  },
  {
   "cell_type": "markdown",
   "id": "03db0a50-c83d-4f1a-909c-49f7a7b1fc09",
   "metadata": {
    "tags": []
   },
   "source": [
    "## Using scipy.optimize.minimize"
   ]
  },
  {
   "cell_type": "markdown",
   "id": "e82c6263-0ac6-4054-9a8a-e26112cddbe0",
   "metadata": {},
   "source": [
    "This works with gaussian_blur, which is differentiable, but not gaussian_filter."
   ]
  },
  {
   "cell_type": "markdown",
   "id": "feb13674-07a7-4333-81f7-5580b7d28722",
   "metadata": {
    "jp-MarkdownHeadingCollapsed": true,
    "tags": []
   },
   "source": [
    "### Optimizing for $\\rho_b$'s 3 parameters"
   ]
  },
  {
   "cell_type": "code",
   "execution_count": 90,
   "id": "262ad0a4-89c2-44fa-a002-b85e1cdc0516",
   "metadata": {},
   "outputs": [
    {
     "data": {
      "text/plain": [
       "(0.7772019, 1, 1.6)"
      ]
     },
     "execution_count": 90,
     "metadata": {},
     "output_type": "execute_result"
    }
   ],
   "source": [
    "# initial guess\n",
    "guess = (np.mean(rhob_train), 1, 1.6) # np.mean(rhob_train) ~ 0.8\n",
    "print(guess)"
   ]
  },
  {
   "cell_type": "code",
   "execution_count": 91,
   "id": "779487f6-6e95-406e-9e24-a49a3d97341e",
   "metadata": {
    "tags": []
   },
   "outputs": [
    {
     "name": "stdout",
     "output_type": "stream",
     "text": [
      "Optimization terminated successfully.\n",
      "         Current function value: 1.143215\n",
      "         Iterations: 14\n",
      "         Function evaluations: 76\n",
      "         Gradient evaluations: 19\n"
     ]
    }
   ],
   "source": [
    "guess = (1.51538566, 3.8727029, 1.81753521) # after ~50 iterations\n",
    "\n",
    "options = {'maxiter': 100, 'disp': True}\n",
    "result = scipy.optimize.minimize(obj_fn, guess, args=('rho'), options = options)"
   ]
  },
  {
   "cell_type": "code",
   "execution_count": 88,
   "id": "00495f3a-8970-4a82-8f55-274ec578154c",
   "metadata": {
    "tags": []
   },
   "outputs": [
    {
     "data": {
      "text/plain": [
       "15.82663167315113"
      ]
     },
     "execution_count": 88,
     "metadata": {},
     "output_type": "execute_result"
    }
   ],
   "source": [
    "# previous value of objective function\n",
    "obj_fn(guess, 'rho')"
   ]
  },
  {
   "cell_type": "code",
   "execution_count": 92,
   "id": "5a10c625-0fba-41c7-955d-3c43222721e1",
   "metadata": {
    "tags": []
   },
   "outputs": [
    {
     "data": {
      "text/plain": [
       "      fun: 1.143214990188187\n",
       " hess_inv: array([[ 3.91936367e-01, -2.69964119e-01, -5.44534764e-02],\n",
       "       [-2.69964119e-01,  1.47710389e+01,  8.42450277e-02],\n",
       "       [-5.44534764e-02,  8.42450277e-02,  8.38617752e-03]])\n",
       "      jac: array([-3.42726707e-07,  4.47034836e-08, -2.38418579e-06])\n",
       "  message: 'Optimization terminated successfully.'\n",
       "     nfev: 76\n",
       "      nit: 14\n",
       "     njev: 19\n",
       "   status: 0\n",
       "  success: True\n",
       "        x: array([1.15997566, 3.3063766 , 1.89804891])"
      ]
     },
     "execution_count": 92,
     "metadata": {},
     "output_type": "execute_result"
    }
   ],
   "source": [
    "result"
   ]
  },
  {
   "cell_type": "markdown",
   "id": "347e2d5a-686a-4e73-9c2f-f451a2a3e85b",
   "metadata": {
    "jp-MarkdownHeadingCollapsed": true,
    "tags": []
   },
   "source": [
    "### Optimizing for $T$"
   ]
  },
  {
   "cell_type": "code",
   "execution_count": 113,
   "id": "cece809b-75e7-4523-abbd-7d3bf0ca23fe",
   "metadata": {},
   "outputs": [],
   "source": [
    "guess = (10000, 1, 1.6) # initial guess"
   ]
  },
  {
   "cell_type": "code",
   "execution_count": 130,
   "id": "b299b250-5270-48eb-a853-36af5a1ac9e9",
   "metadata": {
    "tags": []
   },
   "outputs": [
    {
     "name": "stdout",
     "output_type": "stream",
     "text": [
      "Warning: Desired error not necessarily achieved due to precision loss.\n",
      "         Current function value: 2591739.344650\n",
      "         Iterations: 1\n",
      "         Function evaluations: 333\n",
      "         Gradient evaluations: 81\n"
     ]
    }
   ],
   "source": [
    "#guess = (1.26209647e+04, 1.00005124e+00, 1.41253306e+00) # after 9 iterations\n",
    "guess = (1.23905759e+04, 4.00677777e+00, 1.45035417e+00) # after 7 more\n",
    "\n",
    "options = {'maxiter': 100, 'disp': True}\n",
    "result = scipy.optimize.minimize(obj_fn, guess, args=('t'), options = options)"
   ]
  },
  {
   "cell_type": "code",
   "execution_count": 126,
   "id": "6437dc31-8fe5-4025-aaba-dd09d9dc5cab",
   "metadata": {
    "tags": []
   },
   "outputs": [
    {
     "data": {
      "text/plain": [
       "2666814.3737380845"
      ]
     },
     "execution_count": 126,
     "metadata": {},
     "output_type": "execute_result"
    }
   ],
   "source": [
    "# previous value of objective function\n",
    "obj_fn(guess, 't')"
   ]
  },
  {
   "cell_type": "code",
   "execution_count": 131,
   "id": "888081f4-daa1-406e-a185-258226537f51",
   "metadata": {
    "tags": []
   },
   "outputs": [
    {
     "data": {
      "text/plain": [
       "      fun: 2591739.344649665\n",
       " hess_inv: array([[ 1.00000000e+00,  1.89709833e-07, -1.28199423e-05],\n",
       "       [ 1.89709833e-07,  1.00031348e+00,  4.58965484e-04],\n",
       "       [-1.28199423e-05,  4.58965484e-04,  2.11727328e-07]])\n",
       "      jac: array([ 1.16781250e+02,  2.18061812e+05, -8.40696531e+05])\n",
       "  message: 'Desired error not necessarily achieved due to precision loss.'\n",
       "     nfev: 333\n",
       "      nit: 1\n",
       "     njev: 81\n",
       "   status: 2\n",
       "  success: False\n",
       "        x: array([1.23905759e+04, 4.00657396e+00, 1.46157072e+00])"
      ]
     },
     "execution_count": 131,
     "metadata": {},
     "output_type": "execute_result"
    }
   ],
   "source": [
    "result"
   ]
  },
  {
   "cell_type": "markdown",
   "id": "5ff40814-1ddb-4507-841f-4351748db2d0",
   "metadata": {
    "jp-MarkdownHeadingCollapsed": true,
    "tags": []
   },
   "source": [
    "### adjusting x0 and sigma"
   ]
  },
  {
   "cell_type": "markdown",
   "id": "255459ca-e411-4f7a-bf8b-dc65e6826aa2",
   "metadata": {},
   "source": [
    "https://stackoverflow.com/questions/61107875/how-to-pass-meshgrid-as-an-argument-to-a-function-which-only-allows-an-array-in"
   ]
  },
  {
   "cell_type": "markdown",
   "id": "d4a874e4-2240-4237-8677-ace5fc92448a",
   "metadata": {
    "tags": []
   },
   "source": [
    "### Optimizing for $v$"
   ]
  },
  {
   "cell_type": "code",
   "execution_count": null,
   "id": "628a9a88-caf5-4d19-bebb-f93c4e5fcb6b",
   "metadata": {},
   "outputs": [],
   "source": [
    "## testing np.roll\n",
    "# x1 = np.array([[[1, 2, 3]]])\n",
    "# print(x1.shape)\n",
    "# print(np.roll(x1, -1, axis=-1)) # 2, 3, 1\n",
    "# # (2,3,1) - (3,1,2) = (-1,2,-1)\n",
    "# print(np.roll(x1, -1, axis=-1) - np.roll(x1, 1, axis=-1))"
   ]
  },
  {
   "cell_type": "code",
   "execution_count": 6,
   "id": "c354e61f-cf27-4d36-913d-965ead74c9b9",
   "metadata": {
    "tags": []
   },
   "outputs": [],
   "source": [
    "rho_grad = np.roll(rho_train, -1, axis=-1) - \\\n",
    "        np.roll(rho_train, 1, axis=-1)"
   ]
  },
  {
   "cell_type": "code",
   "execution_count": 22,
   "id": "61a97816-bd12-4ee2-a37e-6c5dc90dd77b",
   "metadata": {},
   "outputs": [
    {
     "name": "stdout",
     "output_type": "stream",
     "text": [
      "mean of rho': 0.0\n",
      "std of rho': 11.561242410993842\n",
      "mean of v: -28386.48\n",
      "std of v: 8145820.5\n"
     ]
    }
   ],
   "source": [
    "print(\"mean of rho': \" + str(np.mean(rho_grad)))\n",
    "print(\"std of rho': \" + str(np.std(rho_grad)))\n",
    "print(\"mean of v: \" + str(np.mean(baryon_vel)))\n",
    "print(\"std of v: \" + str(np.std(baryon_vel)))"
   ]
  },
  {
   "cell_type": "code",
   "execution_count": 21,
   "id": "78ee956a-3c61-4386-ace9-47da23d8336d",
   "metadata": {},
   "outputs": [],
   "source": [
    "guess = (1e7, 1, 1.8) # initial guess"
   ]
  },
  {
   "cell_type": "code",
   "execution_count": 22,
   "id": "5c35d518-6259-4fca-8e2a-948842bf9cbf",
   "metadata": {
    "tags": []
   },
   "outputs": [
    {
     "name": "stderr",
     "output_type": "stream",
     "text": [
      "/global/homes/j/jupiter/.conda/envs/lya-tf/lib/python3.7/site-packages/scipy/optimize/_numdiff.py:557: RuntimeWarning: invalid value encountered in subtract\n",
      "  df = fun(x) - f0\n",
      "/global/homes/j/jupiter/.conda/envs/lya-tf/lib/python3.7/site-packages/scipy/optimize/_numdiff.py:557: RuntimeWarning: invalid value encountered in subtract\n",
      "  df = fun(x) - f0\n",
      "/global/homes/j/jupiter/.conda/envs/lya-tf/lib/python3.7/site-packages/scipy/optimize/_numdiff.py:557: RuntimeWarning: invalid value encountered in subtract\n",
      "  df = fun(x) - f0\n",
      "/global/homes/j/jupiter/.conda/envs/lya-tf/lib/python3.7/site-packages/scipy/optimize/_numdiff.py:557: RuntimeWarning: invalid value encountered in subtract\n",
      "  df = fun(x) - f0\n",
      "/global/homes/j/jupiter/.conda/envs/lya-tf/lib/python3.7/site-packages/scipy/optimize/_numdiff.py:557: RuntimeWarning: invalid value encountered in subtract\n",
      "  df = fun(x) - f0\n"
     ]
    },
    {
     "name": "stdout",
     "output_type": "stream",
     "text": [
      "Warning: Desired error not necessarily achieved due to precision loss.\n",
      "         Current function value: 45937734406951.367188\n",
      "         Iterations: 16\n",
      "         Function evaluations: 192\n",
      "         Gradient evaluations: 43\n"
     ]
    }
   ],
   "source": [
    "#guess = (5.45670809e+05, 1.00005053e+00, 1.6) # after 9 iterations\n",
    "\n",
    "options = {'maxiter': 100, 'disp': True}\n",
    "result = scipy.optimize.minimize(obj_fn, guess, args=('v'), options = options)"
   ]
  },
  {
   "cell_type": "code",
   "execution_count": 30,
   "id": "d1d6e211-8444-4cbc-b98c-24bc3c280123",
   "metadata": {
    "tags": []
   },
   "outputs": [
    {
     "data": {
      "text/plain": [
       "1.2910083290623558e+16"
      ]
     },
     "execution_count": 30,
     "metadata": {},
     "output_type": "execute_result"
    }
   ],
   "source": [
    "# previous value of objective function\n",
    "obj_fn(guess, 'v')"
   ]
  },
  {
   "cell_type": "code",
   "execution_count": 23,
   "id": "204bfd4a-8339-40e0-9d66-d3641c669b7b",
   "metadata": {
    "tags": []
   },
   "outputs": [
    {
     "data": {
      "text/plain": [
       "      fun: 45937734406951.37\n",
       " hess_inv: array([[ 1.76137207e-01, -5.31260048e-17,  5.03473937e-09],\n",
       "       [-5.31260048e-17,  1.07629465e-26,  3.07345584e-23],\n",
       "       [ 5.03473937e-09,  3.07345584e-23,  2.80755626e-16]])\n",
       "      jac: array([ 1.57286400e+06,  1.10100480e+07, -5.55488064e+12])\n",
       "  message: 'Desired error not necessarily achieved due to precision loss.'\n",
       "     nfev: 192\n",
       "      nit: 16\n",
       "     njev: 43\n",
       "   status: 2\n",
       "  success: False\n",
       "        x: array([1.46103156e+06, 1.00005113e+00, 1.00007690e+00])"
      ]
     },
     "execution_count": 23,
     "metadata": {},
     "output_type": "execute_result"
    }
   ],
   "source": [
    "result"
   ]
  }
 ],
 "metadata": {
  "kernelspec": {
   "display_name": "Lya-TF",
   "language": "python",
   "name": "lya-tf"
  },
  "language_info": {
   "codemirror_mode": {
    "name": "ipython",
    "version": 3
   },
   "file_extension": ".py",
   "mimetype": "text/x-python",
   "name": "python",
   "nbconvert_exporter": "python",
   "pygments_lexer": "ipython3",
   "version": "3.7.10"
  }
 },
 "nbformat": 4,
 "nbformat_minor": 5
}
