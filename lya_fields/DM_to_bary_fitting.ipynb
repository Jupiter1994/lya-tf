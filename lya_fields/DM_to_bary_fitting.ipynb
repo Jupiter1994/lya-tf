{
 "cells": [
  {
   "cell_type": "code",
   "execution_count": 1,
   "id": "f557ebbe-5f78-46db-8212-46ef3097f20b",
   "metadata": {
    "tags": []
   },
   "outputs": [],
   "source": [
    "import h5py\n",
    "import numpy as np\n",
    "import scipy.ndimage\n",
    "import scipy.optimize\n",
    "import tensorflow as tf\n",
    "# import tensorflow_probability as tfp\n",
    "# from tensorflow import keras\n",
    "\n",
    "#import time\n",
    "\n",
    "import matplotlib.pyplot as plt"
   ]
  },
  {
   "cell_type": "markdown",
   "id": "e7ed1d9c-a03b-4d06-9732-b752b45a2192",
   "metadata": {
    "tags": []
   },
   "source": [
    "# Fitting the DM-to-baryon formulas"
   ]
  },
  {
   "cell_type": "markdown",
   "id": "7daaaa7c-c418-4c9b-861e-27e1d6e4f0a2",
   "metadata": {},
   "source": [
    "We define the following variables:\n",
    "1. $T$ is the temperature. $\\rho$ is the ratio of dark matter density to the mean DM density, and $\\rho_b$ is the same quantity for baryons.\n",
    "2. $\\rho'$ is the gradient of the density field. For cell $i$ in a skewer, we make the approximation $\\rho' \\approx c(\\rho_{i+1}-\\rho_{i-1})$, where $c$ is some constant that is simply absorbed by $v_0$ (see the below formula).\n",
    "3. $T_0$, $\\rho_{b,0}$, and $v_0$ are scaling constants, and the $\\gamma$'s are the exponential parameters.\n",
    "4. $\\sigma_T$, $\\sigma_\\rho$, $\\sigma_v$ are the smoothing scales for temperature, baryon density, and baryon velocity, respectively. (These are all on the order of ~1.)\n",
    "\n",
    "Baryon temperature:\n",
    "$$T = T_0 [\\text{gaussian_smoothing}(\\rho, \\sigma_T)]^{\\gamma_T-1} $$\n",
    "Baryon density:\n",
    "$$\\rho_b = \\rho_{b,0} [\\text{gaussian_smoothing}(\\rho, \\sigma_\\rho)]^{\\gamma_\\rho-1} $$\n",
    "Baryon velocity:\n",
    "$$v = v_0 [\\text{gaussian_smoothing}(\\rho', \\sigma_v)]^{\\gamma_v-1} $$"
   ]
  },
  {
   "cell_type": "markdown",
   "id": "6b264ccf-0a42-46cf-bcd6-4dd6754029af",
   "metadata": {},
   "source": [
    "## Gaussian filter function\n",
    "In the (differentiable) optimization process, `gaussian_blur` replaces `scipy.ndimage.gaussian_filter`."
   ]
  },
  {
   "cell_type": "code",
   "execution_count": 2,
   "id": "90d522b2-df60-4a5a-96d2-f37812409294",
   "metadata": {},
   "outputs": [],
   "source": [
    "def gaussian_blur(img, kernel_size, sigma):\n",
    "    def gauss_kernel(channels, kernel_size, sigma):\n",
    "        ax = tf.range(-kernel_size // 2 + 1.0, kernel_size // 2 + 1.0)\n",
    "        xx, yy = tf.meshgrid(ax, ax)\n",
    "        kernel = tf.exp(-(xx ** 2 + yy ** 2) / (2.0 * sigma ** 2))\n",
    "        kernel = kernel / tf.reduce_sum(kernel)\n",
    "        kernel = tf.tile(kernel[..., tf.newaxis], [1, 1, channels])\n",
    "        return kernel\n",
    "\n",
    "    img = tf.reshape(img, [1, img.shape[-2], img.shape[-1], 1]) # e.g. (1, 1024, 1024, 1)\n",
    "    \n",
    "    gaussian_kernel = gauss_kernel(tf.shape(img)[-1], kernel_size, sigma)\n",
    "    gaussian_kernel = gaussian_kernel[..., tf.newaxis]\n",
    "    gaussian_kernel = tf.cast(gaussian_kernel, 'float64')\n",
    "\n",
    "    result = tf.nn.depthwise_conv2d(img, gaussian_kernel, [1, 1, 1, 1],\n",
    "                                  padding='SAME', data_format='NHWC')\n",
    "    return result"
   ]
  },
  {
   "cell_type": "markdown",
   "id": "79884a99-c92f-47ab-b2a4-b487828dec9c",
   "metadata": {
    "tags": []
   },
   "source": [
    "## Load in data"
   ]
  },
  {
   "cell_type": "code",
   "execution_count": 3,
   "id": "51583a3f-f999-4588-a560-2cd4878e57c1",
   "metadata": {},
   "outputs": [],
   "source": [
    "filename = \"../../../../../cscratch1/sd/jupiter/sim2_z3_FGPA_cgs.h5\"\n",
    "tf_filename = \"../lya_fields/results/tf_fields1x1x1024.h5\"\n",
    "\n",
    "h5 = h5py.File(filename,'r')\n",
    "tf_h5 = h5py.File(tf_filename,'r')\n",
    "\n",
    "# full fields\n",
    "DM_dens = h5['native_fields']['matter_density'][()] # rho\n",
    "baryon_dens = h5['native_fields']['baryon_density'][()] # rho_b\n",
    "temperature = h5['native_fields']['temperature'][()] # T\n",
    "baryon_vel = h5['native_fields']['velocity_z'][()] # v\n",
    "\n",
    "# treal = tf_h5['tau_real'][()] # real-space optical depth (lya-tf)\n",
    "# treal_g = h5['derived_fields']['tau_real'][()] # real-space optical depth (Gimlet)\n",
    "# tred = tf_h5['tau_red'][()] # redshift-space optical depth (lya-tf)\n",
    "\n",
    "h5.close()\n",
    "tf_h5.close()"
   ]
  },
  {
   "cell_type": "code",
   "execution_count": 4,
   "id": "c80586cb-a887-4b77-8508-d684c579bc11",
   "metadata": {},
   "outputs": [],
   "source": [
    "# train on one part of the snapshot\n",
    "train_inds = (512,\n",
    "              slice(0, 1024),\n",
    "              slice(0, 1024))\n",
    "rho_train = DM_dens[train_inds]\n",
    "rhob_train = baryon_dens[train_inds]\n",
    "temp_train = temperature[train_inds]\n",
    "vel_train = baryon_vel[train_inds]\n",
    "\n",
    "# test on one skewer\n",
    "test_inds = (0, 0, slice(0, 1024))\n",
    "rho_test = DM_dens[test_inds]\n",
    "rhob_test = baryon_dens[test_inds]\n",
    "temp_test = temperature[test_inds]\n",
    "vel_test = baryon_vel[test_inds]\n",
    "\n",
    "rho_train = tf.cast(rho_train, 'float64')"
   ]
  },
  {
   "cell_type": "code",
   "execution_count": 5,
   "id": "837dd432-c34c-403e-a62c-07e61369befa",
   "metadata": {
    "tags": []
   },
   "outputs": [],
   "source": [
    "def bary_model(rho, x0, sigma, gamma):\n",
    "    '''\n",
    "    The model for fitting x = x0 * [gaussian_smoothing(rho_DM, sigma)]^(gamma-1),\n",
    "    where x is the baryon property.\n",
    "    \n",
    "    '''\n",
    "    \n",
    "    return x0 * (scipy.ndimage.gaussian_filter(rho, sigma))**(gamma - 1)\n",
    "\n",
    "def bary_model_diff(rho, x0, sigma, gamma):\n",
    "    '''\n",
    "    The (differentiable) model for fitting x = x0 * [gaussian_smoothing(rho_DM, sigma)]^(gamma-1),\n",
    "    where x is the baryon property.\n",
    "    \n",
    "    '''\n",
    "    \n",
    "    result = x0 * (gaussian_blur(rho, sigma*2, sigma))**(gamma - 1)\n",
    "    return tf.squeeze(result)\n",
    "\n",
    "def obj_fn(params, x):\n",
    "    '''\n",
    "    The objective function to be minimized for fitting. \n",
    "    \n",
    "    PARAMETERS\n",
    "    ----------\n",
    "    params: (x0, sigma, gamma)\n",
    "    x: the baryon property to fit; can be 'rho' (baryon density),\n",
    "    't' (temperature), or 'v' (velocity)\n",
    "    \n",
    "    '''\n",
    "    \n",
    "    x0, sigma, gamma = params\n",
    "    \n",
    "    x_pred = bary_model_diff(rho_train, x0, sigma, gamma)\n",
    "    \n",
    "    if x == 'rho':\n",
    "        return np.mean(np.square(rhob_train - x_pred))\n",
    "    elif x == 't':\n",
    "        return np.mean(np.square(temp_train - x_pred))\n",
    "    elif x == 'v':\n",
    "        return np.mean(np.square(vel_train - x_pred))\n",
    "    else:\n",
    "        raise ValueError(\"Invalid argument: x must be 'rho', 't', or 'v'\")\n",
    "        \n",
    "def obj_fn_logT(params):\n",
    "    '''\n",
    "    The objective function to be minimized for fitting log(T). When using scipy.optimize.minimize,\n",
    "    fitting log(T_0) may yield better results than fitting T_0, but it's much slower (on the order\n",
    "    of tens of minutes for 10 iterations).\n",
    "    \n",
    "    PARAMETERS\n",
    "    ----------\n",
    "    params: (logT0, sigma, gamma)\n",
    "    \n",
    "    '''\n",
    "    \n",
    "    logT0, sigma, gamma = params\n",
    "    \n",
    "    logT_pred = logT0 + (gamma - 1)*np.log10(gaussian_blur(rho_train, sigma*2, sigma))\n",
    "    \n",
    "    return np.mean(np.square(temp_train - 10**logT_pred))"
   ]
  },
  {
   "cell_type": "markdown",
   "id": "c2c63337-dfd0-4e8d-a2e5-b5afe722a083",
   "metadata": {
    "tags": []
   },
   "source": [
    "## Testing gaussian filters"
   ]
  },
  {
   "cell_type": "code",
   "execution_count": null,
   "id": "96c96950-2e83-4ac5-9a06-f9da563ba12c",
   "metadata": {},
   "outputs": [],
   "source": [
    "x0 = 3\n",
    "sigma = 1.5\n",
    "gamma = 1.6\n",
    "\n",
    "# using ndimage.gaussian_filter, sigma = 1.5\n",
    "plt.figure(figsize=(3,3))\n",
    "plt.imshow(np.log10(bary_model(rho_train, x0, sigma, gamma)))\n",
    "plt.title(\"gaussian_filter\")\n",
    "plt.colorbar()\n",
    "plt.show()\n",
    "\n",
    "plt.figure(figsize=(3,3))\n",
    "plt.imshow(np.log10(bary_model_diff(rho_train, x0, sigma, gamma)))\n",
    "plt.title(\"gaussian_blur, kernel = 2 * sigma\")\n",
    "plt.colorbar()\n",
    "plt.show()\n",
    "\n",
    "result = x0 * (gaussian_blur(rho_train, sigma*5, sigma))**(gamma - 1)\n",
    "plt.figure(figsize=(3,3))\n",
    "plt.imshow(np.log10(result[0,...,0]))\n",
    "plt.title(\"gaussian_blur, kernel = 5 * sigma\")\n",
    "plt.colorbar()\n",
    "plt.show()"
   ]
  },
  {
   "cell_type": "markdown",
   "id": "03db0a50-c83d-4f1a-909c-49f7a7b1fc09",
   "metadata": {
    "tags": []
   },
   "source": [
    "## Using scipy.optimize.minimize"
   ]
  },
  {
   "cell_type": "markdown",
   "id": "e82c6263-0ac6-4054-9a8a-e26112cddbe0",
   "metadata": {},
   "source": [
    "This works with gaussian_blur, which is differentiable, but not gaussian_filter."
   ]
  },
  {
   "cell_type": "markdown",
   "id": "feb13674-07a7-4333-81f7-5580b7d28722",
   "metadata": {
    "jp-MarkdownHeadingCollapsed": true,
    "tags": []
   },
   "source": [
    "### Optimizing for $\\rho_b$'s 3 parameters"
   ]
  },
  {
   "cell_type": "code",
   "execution_count": 90,
   "id": "262ad0a4-89c2-44fa-a002-b85e1cdc0516",
   "metadata": {},
   "outputs": [
    {
     "data": {
      "text/plain": [
       "(0.7772019, 1, 1.6)"
      ]
     },
     "execution_count": 90,
     "metadata": {},
     "output_type": "execute_result"
    }
   ],
   "source": [
    "# initial guess\n",
    "guess = (np.mean(rhob_train), 1, 1.6) # np.mean(rhob_train) ~ 0.8\n",
    "print(guess)"
   ]
  },
  {
   "cell_type": "code",
   "execution_count": 91,
   "id": "779487f6-6e95-406e-9e24-a49a3d97341e",
   "metadata": {
    "tags": []
   },
   "outputs": [
    {
     "name": "stdout",
     "output_type": "stream",
     "text": [
      "Optimization terminated successfully.\n",
      "         Current function value: 1.143215\n",
      "         Iterations: 14\n",
      "         Function evaluations: 76\n",
      "         Gradient evaluations: 19\n"
     ]
    }
   ],
   "source": [
    "guess = (1.51538566, 3.8727029, 1.81753521) # after ~50 iterations\n",
    "\n",
    "options = {'maxiter': 100, 'disp': True}\n",
    "result = scipy.optimize.minimize(obj_fn, guess, args=('rho'), options = options)"
   ]
  },
  {
   "cell_type": "code",
   "execution_count": 88,
   "id": "00495f3a-8970-4a82-8f55-274ec578154c",
   "metadata": {
    "tags": []
   },
   "outputs": [
    {
     "data": {
      "text/plain": [
       "15.82663167315113"
      ]
     },
     "execution_count": 88,
     "metadata": {},
     "output_type": "execute_result"
    }
   ],
   "source": [
    "# previous value of objective function\n",
    "obj_fn(guess, 'rho')"
   ]
  },
  {
   "cell_type": "code",
   "execution_count": 92,
   "id": "5a10c625-0fba-41c7-955d-3c43222721e1",
   "metadata": {
    "tags": []
   },
   "outputs": [
    {
     "data": {
      "text/plain": [
       "      fun: 1.143214990188187\n",
       " hess_inv: array([[ 3.91936367e-01, -2.69964119e-01, -5.44534764e-02],\n",
       "       [-2.69964119e-01,  1.47710389e+01,  8.42450277e-02],\n",
       "       [-5.44534764e-02,  8.42450277e-02,  8.38617752e-03]])\n",
       "      jac: array([-3.42726707e-07,  4.47034836e-08, -2.38418579e-06])\n",
       "  message: 'Optimization terminated successfully.'\n",
       "     nfev: 76\n",
       "      nit: 14\n",
       "     njev: 19\n",
       "   status: 0\n",
       "  success: True\n",
       "        x: array([1.15997566, 3.3063766 , 1.89804891])"
      ]
     },
     "execution_count": 92,
     "metadata": {},
     "output_type": "execute_result"
    }
   ],
   "source": [
    "result"
   ]
  },
  {
   "cell_type": "markdown",
   "id": "347e2d5a-686a-4e73-9c2f-f451a2a3e85b",
   "metadata": {
    "jp-MarkdownHeadingCollapsed": true,
    "tags": []
   },
   "source": [
    "### Optimizing for $T$"
   ]
  },
  {
   "cell_type": "code",
   "execution_count": 113,
   "id": "cece809b-75e7-4523-abbd-7d3bf0ca23fe",
   "metadata": {},
   "outputs": [],
   "source": [
    "guess = (10000, 1, 1.6) # initial guess"
   ]
  },
  {
   "cell_type": "code",
   "execution_count": 130,
   "id": "b299b250-5270-48eb-a853-36af5a1ac9e9",
   "metadata": {
    "tags": []
   },
   "outputs": [
    {
     "name": "stdout",
     "output_type": "stream",
     "text": [
      "Warning: Desired error not necessarily achieved due to precision loss.\n",
      "         Current function value: 2591739.344650\n",
      "         Iterations: 1\n",
      "         Function evaluations: 333\n",
      "         Gradient evaluations: 81\n"
     ]
    }
   ],
   "source": [
    "#guess = (1.26209647e+04, 1.00005124e+00, 1.41253306e+00) # after 9 iterations\n",
    "guess = (1.23905759e+04, 4.00677777e+00, 1.45035417e+00) # after 7 more\n",
    "\n",
    "options = {'maxiter': 100, 'disp': True}\n",
    "result = scipy.optimize.minimize(obj_fn, guess, args=('t'), options = options)"
   ]
  },
  {
   "cell_type": "code",
   "execution_count": 126,
   "id": "6437dc31-8fe5-4025-aaba-dd09d9dc5cab",
   "metadata": {
    "tags": []
   },
   "outputs": [
    {
     "data": {
      "text/plain": [
       "2666814.3737380845"
      ]
     },
     "execution_count": 126,
     "metadata": {},
     "output_type": "execute_result"
    }
   ],
   "source": [
    "# previous value of objective function\n",
    "obj_fn(guess, 't')"
   ]
  },
  {
   "cell_type": "code",
   "execution_count": 131,
   "id": "888081f4-daa1-406e-a185-258226537f51",
   "metadata": {
    "tags": []
   },
   "outputs": [
    {
     "data": {
      "text/plain": [
       "      fun: 2591739.344649665\n",
       " hess_inv: array([[ 1.00000000e+00,  1.89709833e-07, -1.28199423e-05],\n",
       "       [ 1.89709833e-07,  1.00031348e+00,  4.58965484e-04],\n",
       "       [-1.28199423e-05,  4.58965484e-04,  2.11727328e-07]])\n",
       "      jac: array([ 1.16781250e+02,  2.18061812e+05, -8.40696531e+05])\n",
       "  message: 'Desired error not necessarily achieved due to precision loss.'\n",
       "     nfev: 333\n",
       "      nit: 1\n",
       "     njev: 81\n",
       "   status: 2\n",
       "  success: False\n",
       "        x: array([1.23905759e+04, 4.00657396e+00, 1.46157072e+00])"
      ]
     },
     "execution_count": 131,
     "metadata": {},
     "output_type": "execute_result"
    }
   ],
   "source": [
    "result"
   ]
  },
  {
   "cell_type": "markdown",
   "id": "5ff40814-1ddb-4507-841f-4351748db2d0",
   "metadata": {
    "jp-MarkdownHeadingCollapsed": true,
    "tags": []
   },
   "source": [
    "### adjusting x0 and sigma"
   ]
  },
  {
   "cell_type": "markdown",
   "id": "255459ca-e411-4f7a-bf8b-dc65e6826aa2",
   "metadata": {},
   "source": [
    "https://stackoverflow.com/questions/61107875/how-to-pass-meshgrid-as-an-argument-to-a-function-which-only-allows-an-array-in"
   ]
  },
  {
   "cell_type": "markdown",
   "id": "d4a874e4-2240-4237-8677-ace5fc92448a",
   "metadata": {
    "tags": []
   },
   "source": [
    "### Optimizing for $v$"
   ]
  },
  {
   "cell_type": "code",
   "execution_count": null,
   "id": "628a9a88-caf5-4d19-bebb-f93c4e5fcb6b",
   "metadata": {},
   "outputs": [],
   "source": [
    "## testing np.roll\n",
    "# x1 = np.array([[[1, 2, 3]]])\n",
    "# print(x1.shape)\n",
    "# print(np.roll(x1, -1, axis=-1)) # 2, 3, 1\n",
    "# # (2,3,1) - (3,1,2) = (-1,2,-1)\n",
    "# print(np.roll(x1, -1, axis=-1) - np.roll(x1, 1, axis=-1))"
   ]
  },
  {
   "cell_type": "code",
   "execution_count": 6,
   "id": "c354e61f-cf27-4d36-913d-965ead74c9b9",
   "metadata": {
    "tags": []
   },
   "outputs": [],
   "source": [
    "rho_grad = np.roll(rho_train, -1, axis=-1) - \\\n",
    "        np.roll(rho_train, 1, axis=-1)"
   ]
  },
  {
   "cell_type": "code",
   "execution_count": 22,
   "id": "61a97816-bd12-4ee2-a37e-6c5dc90dd77b",
   "metadata": {},
   "outputs": [
    {
     "name": "stdout",
     "output_type": "stream",
     "text": [
      "mean of rho': 0.0\n",
      "std of rho': 11.561242410993842\n",
      "mean of v: -28386.48\n",
      "std of v: 8145820.5\n"
     ]
    }
   ],
   "source": [
    "print(\"mean of rho': \" + str(np.mean(rho_grad)))\n",
    "print(\"std of rho': \" + str(np.std(rho_grad)))\n",
    "print(\"mean of v: \" + str(np.mean(baryon_vel)))\n",
    "print(\"std of v: \" + str(np.std(baryon_vel)))"
   ]
  },
  {
   "cell_type": "code",
   "execution_count": 21,
   "id": "78ee956a-3c61-4386-ace9-47da23d8336d",
   "metadata": {},
   "outputs": [],
   "source": [
    "guess = (1e7, 1, 1.8) # initial guess"
   ]
  },
  {
   "cell_type": "code",
   "execution_count": 22,
   "id": "5c35d518-6259-4fca-8e2a-948842bf9cbf",
   "metadata": {
    "tags": []
   },
   "outputs": [
    {
     "name": "stderr",
     "output_type": "stream",
     "text": [
      "/global/homes/j/jupiter/.conda/envs/lya-tf/lib/python3.7/site-packages/scipy/optimize/_numdiff.py:557: RuntimeWarning: invalid value encountered in subtract\n",
      "  df = fun(x) - f0\n",
      "/global/homes/j/jupiter/.conda/envs/lya-tf/lib/python3.7/site-packages/scipy/optimize/_numdiff.py:557: RuntimeWarning: invalid value encountered in subtract\n",
      "  df = fun(x) - f0\n",
      "/global/homes/j/jupiter/.conda/envs/lya-tf/lib/python3.7/site-packages/scipy/optimize/_numdiff.py:557: RuntimeWarning: invalid value encountered in subtract\n",
      "  df = fun(x) - f0\n",
      "/global/homes/j/jupiter/.conda/envs/lya-tf/lib/python3.7/site-packages/scipy/optimize/_numdiff.py:557: RuntimeWarning: invalid value encountered in subtract\n",
      "  df = fun(x) - f0\n",
      "/global/homes/j/jupiter/.conda/envs/lya-tf/lib/python3.7/site-packages/scipy/optimize/_numdiff.py:557: RuntimeWarning: invalid value encountered in subtract\n",
      "  df = fun(x) - f0\n"
     ]
    },
    {
     "name": "stdout",
     "output_type": "stream",
     "text": [
      "Warning: Desired error not necessarily achieved due to precision loss.\n",
      "         Current function value: 45937734406951.367188\n",
      "         Iterations: 16\n",
      "         Function evaluations: 192\n",
      "         Gradient evaluations: 43\n"
     ]
    }
   ],
   "source": [
    "#guess = (5.45670809e+05, 1.00005053e+00, 1.6) # after 9 iterations\n",
    "\n",
    "options = {'maxiter': 100, 'disp': True}\n",
    "result = scipy.optimize.minimize(obj_fn, guess, args=('v'), options = options)"
   ]
  },
  {
   "cell_type": "code",
   "execution_count": 30,
   "id": "d1d6e211-8444-4cbc-b98c-24bc3c280123",
   "metadata": {
    "tags": []
   },
   "outputs": [
    {
     "data": {
      "text/plain": [
       "1.2910083290623558e+16"
      ]
     },
     "execution_count": 30,
     "metadata": {},
     "output_type": "execute_result"
    }
   ],
   "source": [
    "# previous value of objective function\n",
    "obj_fn(guess, 'v')"
   ]
  },
  {
   "cell_type": "code",
   "execution_count": 23,
   "id": "204bfd4a-8339-40e0-9d66-d3641c669b7b",
   "metadata": {
    "tags": []
   },
   "outputs": [
    {
     "data": {
      "text/plain": [
       "      fun: 45937734406951.37\n",
       " hess_inv: array([[ 1.76137207e-01, -5.31260048e-17,  5.03473937e-09],\n",
       "       [-5.31260048e-17,  1.07629465e-26,  3.07345584e-23],\n",
       "       [ 5.03473937e-09,  3.07345584e-23,  2.80755626e-16]])\n",
       "      jac: array([ 1.57286400e+06,  1.10100480e+07, -5.55488064e+12])\n",
       "  message: 'Desired error not necessarily achieved due to precision loss.'\n",
       "     nfev: 192\n",
       "      nit: 16\n",
       "     njev: 43\n",
       "   status: 2\n",
       "  success: False\n",
       "        x: array([1.46103156e+06, 1.00005113e+00, 1.00007690e+00])"
      ]
     },
     "execution_count": 23,
     "metadata": {},
     "output_type": "execute_result"
    }
   ],
   "source": [
    "result"
   ]
  },
  {
   "cell_type": "code",
   "execution_count": 52,
   "id": "37d0163e-72e4-4059-901d-c4b666cb0b3e",
   "metadata": {},
   "outputs": [],
   "source": [
    "n = 11\n",
    "x0 = np.linspace(2.5, 3.5, n)\n",
    "sigma = np.linspace(1, 2, n)\n",
    "losses = np.ndarray((n,n))\n",
    "\n",
    "#X0, Sigma = np.meshgrid(x0, sigma)#, sparse=True)\n",
    "\n",
    "#result = map(lambda params: obj_fn_vec(params[0], params[1]), \\\n",
    "             #zip(X0.flatten(), Sigma.flatten()))\n",
    "    \n",
    "# losses = np.fromiter(result, dtype=np.float)\n",
    "# losses = np.reshape(losses, (n,n))"
   ]
  },
  {
   "cell_type": "code",
   "execution_count": 53,
   "id": "0b9ca88a-ed79-498c-b8f4-f05260912e3b",
   "metadata": {},
   "outputs": [
    {
     "name": "stdout",
     "output_type": "stream",
     "text": [
      "Duration: 13.456\n"
     ]
    }
   ],
   "source": [
    "start = time.time()\n",
    "\n",
    "for i in range(n):\n",
    "    for j in range(n):\n",
    "        params = (x0[i], sigma[j], 1.6, 'rho')\n",
    "        losses[i,j] = obj_fn(params)\n",
    "        \n",
    "print('Duration:', np.round(time.time() - start, 3))\n",
    "\n",
    "plt.imshow(losses)\n",
    "plt.colorbar()\n",
    "plt.show()"
   ]
  },
  {
   "cell_type": "code",
   "execution_count": 62,
   "id": "6913c431-0a0f-47b7-83e2-70236a33e90f",
   "metadata": {},
   "outputs": [
    {
     "name": "stdout",
     "output_type": "stream",
     "text": [
      "Minimum loss: 8.796258926391602\n",
      "\n",
      "Best values:\n",
      "x0 = 3.2\n",
      "sigma = 1.4\n"
     ]
    }
   ],
   "source": [
    "from numpy import unravel_index\n",
    "\n",
    "min_index = np.argmin(losses)\n",
    "min_ind = unravel_index(min_index, losses.shape)\n",
    "\n",
    "best_rho0 = x0[min_ind[0]]\n",
    "best_sigma_rho = sigma[min_ind[1]]\n",
    "\n",
    "print('Minimum loss:', losses[min_ind])\n",
    "print('\\nBest values:')\n",
    "print('rho0 = ' + str(best_rho0))\n",
    "print('sigma_rho = ' + str(best_sigma_rho))"
   ]
  },
  {
   "cell_type": "markdown",
   "id": "aebe9fa2-861e-4751-ae48-56c7d254d75b",
   "metadata": {},
   "source": [
    "Do the same for temperature."
   ]
  },
  {
   "cell_type": "code",
   "execution_count": 122,
   "id": "efcb5797-a8f9-4850-a594-05218533dfd8",
   "metadata": {},
   "outputs": [
    {
     "name": "stdout",
     "output_type": "stream",
     "text": [
      "28114178.0\n",
      "15023663.0\n",
      "11571787.0\n",
      "11959381.0\n",
      "13681554.0\n"
     ]
    }
   ],
   "source": [
    "for i in range(1, 6):\n",
    "    params = (10000, i, 1.6, 't')\n",
    "    print(obj_fn(params))"
   ]
  },
  {
   "cell_type": "code",
   "execution_count": 98,
   "id": "1f42ddee-0240-4f48-ac36-3594c30a35d0",
   "metadata": {},
   "outputs": [
    {
     "name": "stdout",
     "output_type": "stream",
     "text": [
      "mean(T): 8722.626\n"
     ]
    }
   ],
   "source": [
    "print('mean(T):', np.mean(temp_train))"
   ]
  },
  {
   "cell_type": "code",
   "execution_count": 138,
   "id": "d581d4ad-8321-4af1-ba05-67ef02a9d16a",
   "metadata": {},
   "outputs": [
    {
     "name": "stdout",
     "output_type": "stream",
     "text": [
      "Duration: 14.395\n"
     ]
    },
    {
     "data": {
      "image/png": "[encoded data removed]",
      "text/plain": [
       "<Figure size 640x480 with 2 Axes>"
      ]
     },
     "metadata": {},
     "output_type": "display_data"
    }
   ],
   "source": [
    "n = 11\n",
    "log10_t0 = np.linspace(3.98, 4.001, n)\n",
    "t0 = 10**log10_t0\n",
    "sigma_t = np.linspace(2.8, 3.5, n)\n",
    "\n",
    "losses = np.ndarray((n,n))\n",
    "\n",
    "start = time.time()\n",
    "\n",
    "for i in range(n):\n",
    "    for j in range(n):\n",
    "        #print('hi')\n",
    "        params = (t0[i], sigma_t[j], 1.6, 't')\n",
    "        losses[i,j] = obj_fn(params)\n",
    "        \n",
    "print('Duration:', np.round(time.time() - start, 3))\n",
    "\n",
    "plt.imshow(np.log10(losses))\n",
    "plt.colorbar()\n",
    "plt.show()"
   ]
  },
  {
   "cell_type": "code",
   "execution_count": 141,
   "id": "aad18348-b4bd-4a71-a574-a9708e6769b5",
   "metadata": {},
   "outputs": [
    {
     "data": {
      "text/plain": [
       "(6, 7)"
      ]
     },
     "execution_count": 141,
     "metadata": {},
     "output_type": "execute_result"
    }
   ],
   "source": [
    "min_ind"
   ]
  },
  {
   "cell_type": "code",
   "execution_count": 140,
   "id": "a23b8ac2-b3fe-4051-93bd-d3ddadfde854",
   "metadata": {},
   "outputs": [
    {
     "name": "stdout",
     "output_type": "stream",
     "text": [
      "Minimum loss: 11410698.0\n",
      "\n",
      "Best values:\n",
      "T_0 = 9831.0521528177\n",
      "sigma_T = 3.29\n"
     ]
    }
   ],
   "source": [
    "min_index = np.argmin(losses)\n",
    "min_ind = unravel_index(min_index, losses.shape)\n",
    "\n",
    "best_t0 = t0[min_ind[0]]\n",
    "best_sigma_t = sigma_t[min_ind[1]]\n",
    "\n",
    "print('Minimum loss:', losses[min_ind])\n",
    "print('\\nBest values:')\n",
    "print('T_0 = ' + str(best_t0))\n",
    "print('sigma_T = ' + str(best_sigma_t))"
   ]
  },
  {
   "cell_type": "markdown",
   "id": "2848a76e-b371-468a-83c3-50b3ea54301d",
   "metadata": {
    "tags": []
   },
   "source": [
    "### adjusting gamma"
   ]
  },
  {
   "cell_type": "code",
   "execution_count": null,
   "id": "1a883402-2d7d-4c90-81c1-1f78b84b9052",
   "metadata": {
    "tags": []
   },
   "outputs": [],
   "source": [
    "gammas = np.linspace(1.7, 1.71, 10)\n",
    "losses = np.empty_like(gammas)\n",
    "\n",
    "for i in range(len(gammas)):\n",
    "    losses[i] = obj_fn((3.2, 1.4, gammas[i], 'rho'))\n",
    "    \n",
    "plt.plot(losses)\n",
    "plt.show()"
   ]
  },
  {
   "cell_type": "code",
   "execution_count": 4,
   "id": "583d0a4a-4372-479e-9ab8-c6112096cf57",
   "metadata": {},
   "outputs": [],
   "source": [
    "import eos\n",
    "import grid\n",
    "import snapshot\n",
    "\n",
    "from spectrum import gmlt_spec_od_grid"
   ]
  },
  {
   "cell_type": "code",
   "execution_count": null,
   "id": "a0ba9fab-169c-4e43-83c6-c1802e6ae580",
   "metadata": {},
   "outputs": [],
   "source": [
    "## define the model; parameters taken from attempt 1\n",
    "rho_0, sigma_rho, gamma_rho = 1.15997566, 3.3063766, 1.89804891\n",
    "T_0, sigma_T, gamma_T = 1.23905759e+04, 4.00657396e+00, 1.46157072e+00\n",
    "\n",
    "def model(rho_pred):\n",
    "    # get rho and T skewers from analytical formulas\n",
    "    rhob = rho_0 * (gaussian_blur(rho_pred, sigma_rho*2, sigma_rho))**(gamma_rho - 1)\n",
    "    temp = T_0 * (gaussian_blur(rho_pred, sigma_T*2, sigma_T))**(gamma_T - 1)\n",
    "    rhob = tf.squeeze(rhob, axis=-1) # remove the last dimension\n",
    "    temp = tf.squeeze(temp, axis=-1)\n",
    "        \n",
    "    # get the n_hi grid via eos object\n",
    "    log10_rhob = tf.math.log(rhob) / np.log(10)\n",
    "    log10_temp = tf.math.log(temp) / np.log(10)\n",
    "    nhi_field = eos_obj.compute_nhi(log10_rhob, log10_temp)\n",
    "    nhi = grid.Grid(nhi_field, shape, size)\n",
    "    \n",
    "    # get real-space optical depth\n",
    "    vpara = np.zeros(shape)\n",
    "    treal_pred = gmlt_spec_od_grid(snap.universe, snap.z, nhi.size,\n",
    "                nhi.field, temp, vpara, shape[2])\n",
    "        \n",
    "    return treal_pred.field"
   ]
  },
  {
   "cell_type": "code",
   "execution_count": 5,
   "id": "a310cdf5-9354-4659-a656-6ef9271d01ef",
   "metadata": {
    "tags": []
   },
   "outputs": [],
   "source": [
    "## take a few skewers\n",
    "shape = [1, 2, 1024]\n",
    "size = [21.09375 / 1024 * x for x in shape]\n",
    "inds = (slice(0, shape[0]), slice(0, shape[1]), slice(0, shape[2]))\n",
    "rho_true = DM_dens[inds]\n",
    "\n",
    "## new workflow: instead of using treal_true from the simulation, we use\n",
    "# model(true delta_m) (ie FGPA) as treal_true \n",
    "#treal_true = treal[inds]\n",
    "treal_true = model(rho_true)\n",
    "\n",
    "# expand dimensions if shape is (1024,)\n",
    "# rho_true = rho_true[None, None, :]\n",
    "# treal_true = treal_true[None, None, :]\n",
    "\n",
    "## load in snapshot properties\n",
    "filename = \"../../../../../cscratch1/sd/jupiter/sim2_z3_FGPA_cgs.h5\"\n",
    "snap = snapshot.Snapshot(filename)\n",
    "\n",
    "a = snap.scale_factor\n",
    "z = snap.z\n",
    "u = snap.universe\n",
    "h = u.h\n",
    "omega_b = u.omega_b\n",
    "\n",
    "## define eos object\n",
    "rho_crit_100_cgs = 1.8788200386793017e-29\n",
    "mean_rhob_cgs = omega_b * h*h * rho_crit_100_cgs\n",
    "a3_inv = 1.0 / (a * a * a)\n",
    "rhob_cgs_conversion = mean_rhob_cgs * a3_inv\n",
    "\n",
    "eos_obj = eos.EOS_at_z(z, rhob_cgs_conversion)"
   ]
  },
  {
   "cell_type": "code",
   "execution_count": 6,
   "id": "080028fe-945e-41d1-8be3-55d582af2768",
   "metadata": {},
   "outputs": [
    {
     "data": {
      "text/plain": [
       "(1, 2, 1024)"
      ]
     },
     "execution_count": 6,
     "metadata": {},
     "output_type": "execute_result"
    }
   ],
   "source": [
    "rho_true.shape"
   ]
  },
  {
   "cell_type": "code",
   "execution_count": 7,
   "id": "d3b17c90-9d92-4037-bbe8-6d1425586ba0",
   "metadata": {},
   "outputs": [],
   "source": [
    "## create starting point for optimization (random noise)\n",
    "tf.random.set_seed(5)\n",
    "log10_noise = tf.random.normal(shape, 0, 0.5, tf.float64, seed=1)\n",
    "rho_pred = tf.Variable(10**log10_noise)"
   ]
  },
  {
   "cell_type": "code",
   "execution_count": 66,
   "id": "2f5ffd71-6318-44ad-940e-ea37ba6e26fa",
   "metadata": {
    "tags": []
   },
   "outputs": [
    {
     "name": "stdout",
     "output_type": "stream",
     "text": [
      "WARNING:tensorflow:11 out of the last 11 calls to <function pfor.<locals>.f at 0x2ab12a6789e0> triggered tf.function retracing. Tracing is expensive and the excessive number of tracings could be due to (1) creating @tf.function repeatedly in a loop, (2) passing tensors with different shapes, (3) passing Python objects instead of tensors. For (1), please define your @tf.function outside of the loop. For (2), @tf.function has experimental_relax_shapes=True option that relaxes argument shapes that can avoid unnecessary retracing. For (3), please refer to https://www.tensorflow.org/guide/function#controlling_retracing and https://www.tensorflow.org/api_docs/python/tf/function for  more details.\n",
      "(1, 2, 1024)\n"
     ]
    }
   ],
   "source": [
    "# check that the model works\n",
    "treal = model(rho_pred)\n",
    "print(treal.shape)"
   ]
  },
  {
   "cell_type": "markdown",
   "id": "ce065734-1df3-43fb-ab41-5e5d403f40b3",
   "metadata": {},
   "source": [
    "**From the docs for tfp.optimizer.lbfgs_minimize:**\n",
    "\n",
    "The input to loss_and_grads should have \"shape [..., n], where n is the size of the domain of input points, and all others are batching dimensions. The first component of the return value [of loss_and_grads] is a real Tensor of matching shape [...]. The second component (the gradient) is also of shape [..., n] like the input value to the function.\""
   ]
  },
  {
   "cell_type": "code",
   "execution_count": 22,
   "id": "2c035ed3-f352-49ec-88ee-6a94ec40f8f0",
   "metadata": {
    "tags": []
   },
   "outputs": [],
   "source": [
    "# loss function\n",
    "#mse = keras.losses.MeanSquaredError() # this sums all losses\n",
    "#mse = keras.metrics.mean_squared_error() # this has the same shape as the inputs\n",
    "\n",
    "# x is the predicted rho with shape [x,y,z,1]\n",
    "# loss_fn = lambda x: \\\n",
    "#     keras.metrics.mean_squared_error(model(x[...,0])[...,None], treal_true[...,None])\n",
    "loss_fn = lambda x: \\\n",
    "    keras.metrics.mean_squared_error(model(x[...,0])[...,None], treal_true[...,None])\n",
    "\n",
    "# compute both loss_fn and its gradients wrt x\n",
    "loss_and_grads = lambda x: tfp.math.value_and_gradient(loss_fn, x)"
   ]
  },
  {
   "cell_type": "code",
   "execution_count": 24,
   "id": "f81ee3c6-8bc3-4b3a-9546-ea1438b8e63a",
   "metadata": {},
   "outputs": [],
   "source": [
    "#loss_fn(rho_pred[...,None])\n",
    "#loss_fn(np.zeros([1,2,1024,1]))"
   ]
  },
  {
   "cell_type": "code",
   "execution_count": 25,
   "id": "543f5e76-3d6c-42d5-80ea-5ed6a718491e",
   "metadata": {
    "tags": []
   },
   "outputs": [],
   "source": [
    "# the returned values have the correct shapes\n",
    "# print('output of loss_fn:\\n')\n",
    "# print(loss_fn(rho_pred[...,None]))\n",
    "# print('\\noutput of loss_and_grads:\\n')\n",
    "# print(loss_and_grads(rho_pred[...,None]))"
   ]
  },
  {
   "cell_type": "markdown",
   "id": "41d507ef-e6b2-43ee-a7e7-625f04df495a",
   "metadata": {},
   "source": [
    "[LBFGS not working with tensorflow 2.0](https://github.com/tensorflow/probability/issues/398)"
   ]
  },
  {
   "cell_type": "code",
   "execution_count": 28,
   "id": "76a7b216-decd-4587-b1f2-47614614069c",
   "metadata": {
    "tags": []
   },
   "outputs": [
    {
     "name": "stdout",
     "output_type": "stream",
     "text": [
      "WARNING:tensorflow:11 out of the last 11 calls to <function pfor.<locals>.f at 0x2aaf5ff0f5f0> triggered tf.function retracing. Tracing is expensive and the excessive number of tracings could be due to (1) creating @tf.function repeatedly in a loop, (2) passing tensors with different shapes, (3) passing Python objects instead of tensors. For (1), please define your @tf.function outside of the loop. For (2), @tf.function has experimental_relax_shapes=True option that relaxes argument shapes that can avoid unnecessary retracing. For (3), please refer to https://www.tensorflow.org/guide/function#controlling_retracing and https://www.tensorflow.org/api_docs/python/tf/function for  more details.\n",
      "WARNING:tensorflow:11 out of the last 11 calls to <function pfor.<locals>.f at 0x2ab07e7a0830> triggered tf.function retracing. Tracing is expensive and the excessive number of tracings could be due to (1) creating @tf.function repeatedly in a loop, (2) passing tensors with different shapes, (3) passing Python objects instead of tensors. For (1), please define your @tf.function outside of the loop. For (2), @tf.function has experimental_relax_shapes=True option that relaxes argument shapes that can avoid unnecessary retracing. For (3), please refer to https://www.tensorflow.org/guide/function#controlling_retracing and https://www.tensorflow.org/api_docs/python/tf/function for  more details.\n"
     ]
    },
    {
     "ename": "InvalidArgumentError",
     "evalue": "Inputs to operation Select of type Select must have the same size and shape.  Input 0: [1,2,1024] != input 1: [1,2,1024,1] [Op:Select]",
     "output_type": "error",
     "traceback": [
      "\u001b[0;31m---------------------------------------------------------------------------\u001b[0m",
      "\u001b[0;31mInvalidArgumentError\u001b[0m                      Traceback (most recent call last)",
      "\u001b[0;32m<ipython-input-28-9c73d0ca52e2>\u001b[0m in \u001b[0;36m<module>\u001b[0;34m\u001b[0m\n\u001b[1;32m      3\u001b[0m \u001b[0mstart\u001b[0m \u001b[0;34m=\u001b[0m \u001b[0mrho_pred\u001b[0m\u001b[0;34m[\u001b[0m\u001b[0;34m...\u001b[0m\u001b[0;34m,\u001b[0m\u001b[0;32mNone\u001b[0m\u001b[0;34m]\u001b[0m\u001b[0;34m\u001b[0m\u001b[0;34m\u001b[0m\u001b[0m\n\u001b[1;32m      4\u001b[0m optim = tfp.optimizer.lbfgs_minimize(loss_and_grads, \\\n\u001b[0;32m----> 5\u001b[0;31m                                      initial_position=start)\n\u001b[0m\u001b[1;32m      6\u001b[0m \u001b[0;34m\u001b[0m\u001b[0m\n\u001b[1;32m      7\u001b[0m \u001b[0;31m# print('Initial loss:', loss_fn(rho_pred).numpy())\u001b[0m\u001b[0;34m\u001b[0m\u001b[0;34m\u001b[0m\u001b[0;34m\u001b[0m\u001b[0m\n",
      "\u001b[0;32m~/.conda/envs/lya-tf/lib/python3.7/site-packages/tensorflow_probability/python/optimizer/lbfgs.py\u001b[0m in \u001b[0;36mminimize\u001b[0;34m(value_and_gradients_function, initial_position, previous_optimizer_results, num_correction_pairs, tolerance, x_tolerance, f_relative_tolerance, initial_inverse_hessian_estimate, max_iterations, parallel_iterations, stopping_condition, max_line_search_iterations, name)\u001b[0m\n\u001b[1;32m    286\u001b[0m         \u001b[0mbody\u001b[0m\u001b[0;34m=\u001b[0m\u001b[0m_body\u001b[0m\u001b[0;34m,\u001b[0m\u001b[0;34m\u001b[0m\u001b[0;34m\u001b[0m\u001b[0m\n\u001b[1;32m    287\u001b[0m         \u001b[0mloop_vars\u001b[0m\u001b[0;34m=\u001b[0m\u001b[0;34m[\u001b[0m\u001b[0minitial_state\u001b[0m\u001b[0;34m]\u001b[0m\u001b[0;34m,\u001b[0m\u001b[0;34m\u001b[0m\u001b[0;34m\u001b[0m\u001b[0m\n\u001b[0;32m--> 288\u001b[0;31m         parallel_iterations=parallel_iterations)[0]\n\u001b[0m\u001b[1;32m    289\u001b[0m \u001b[0;34m\u001b[0m\u001b[0m\n\u001b[1;32m    290\u001b[0m \u001b[0;34m\u001b[0m\u001b[0m\n",
      "\u001b[0;32m~/.conda/envs/lya-tf/lib/python3.7/site-packages/tensorflow/python/util/deprecation.py\u001b[0m in \u001b[0;36mnew_func\u001b[0;34m(*args, **kwargs)\u001b[0m\n\u001b[1;32m    603\u001b[0m                   \u001b[0mfunc\u001b[0m\u001b[0;34m.\u001b[0m\u001b[0m__module__\u001b[0m\u001b[0;34m,\u001b[0m \u001b[0marg_name\u001b[0m\u001b[0;34m,\u001b[0m \u001b[0marg_value\u001b[0m\u001b[0;34m,\u001b[0m \u001b[0;34m'in a future version'\u001b[0m\u001b[0;34m\u001b[0m\u001b[0;34m\u001b[0m\u001b[0m\n\u001b[1;32m    604\u001b[0m                   if date is None else ('after %s' % date), instructions)\n\u001b[0;32m--> 605\u001b[0;31m       \u001b[0;32mreturn\u001b[0m \u001b[0mfunc\u001b[0m\u001b[0;34m(\u001b[0m\u001b[0;34m*\u001b[0m\u001b[0margs\u001b[0m\u001b[0;34m,\u001b[0m \u001b[0;34m**\u001b[0m\u001b[0mkwargs\u001b[0m\u001b[0;34m)\u001b[0m\u001b[0;34m\u001b[0m\u001b[0;34m\u001b[0m\u001b[0m\n\u001b[0m\u001b[1;32m    606\u001b[0m \u001b[0;34m\u001b[0m\u001b[0m\n\u001b[1;32m    607\u001b[0m     doc = _add_deprecated_arg_value_notice_to_docstring(\n",
      "\u001b[0;32m~/.conda/envs/lya-tf/lib/python3.7/site-packages/tensorflow/python/ops/control_flow_ops.py\u001b[0m in \u001b[0;36mwhile_loop_v2\u001b[0;34m(cond, body, loop_vars, shape_invariants, parallel_iterations, back_prop, swap_memory, maximum_iterations, name)\u001b[0m\n\u001b[1;32m   2497\u001b[0m       \u001b[0mname\u001b[0m\u001b[0;34m=\u001b[0m\u001b[0mname\u001b[0m\u001b[0;34m,\u001b[0m\u001b[0;34m\u001b[0m\u001b[0;34m\u001b[0m\u001b[0m\n\u001b[1;32m   2498\u001b[0m       \u001b[0mmaximum_iterations\u001b[0m\u001b[0;34m=\u001b[0m\u001b[0mmaximum_iterations\u001b[0m\u001b[0;34m,\u001b[0m\u001b[0;34m\u001b[0m\u001b[0;34m\u001b[0m\u001b[0m\n\u001b[0;32m-> 2499\u001b[0;31m       return_same_structure=True)\n\u001b[0m\u001b[1;32m   2500\u001b[0m \u001b[0;34m\u001b[0m\u001b[0m\n\u001b[1;32m   2501\u001b[0m \u001b[0;34m\u001b[0m\u001b[0m\n",
      "\u001b[0;32m~/.conda/envs/lya-tf/lib/python3.7/site-packages/tensorflow/python/ops/control_flow_ops.py\u001b[0m in \u001b[0;36mwhile_loop\u001b[0;34m(cond, body, loop_vars, shape_invariants, parallel_iterations, back_prop, swap_memory, name, maximum_iterations, return_same_structure)\u001b[0m\n\u001b[1;32m   2733\u001b[0m                                               list(loop_vars))\n\u001b[1;32m   2734\u001b[0m       \u001b[0;32mwhile\u001b[0m \u001b[0mcond\u001b[0m\u001b[0;34m(\u001b[0m\u001b[0;34m*\u001b[0m\u001b[0mloop_vars\u001b[0m\u001b[0;34m)\u001b[0m\u001b[0;34m:\u001b[0m\u001b[0;34m\u001b[0m\u001b[0;34m\u001b[0m\u001b[0m\n\u001b[0;32m-> 2735\u001b[0;31m         \u001b[0mloop_vars\u001b[0m \u001b[0;34m=\u001b[0m \u001b[0mbody\u001b[0m\u001b[0;34m(\u001b[0m\u001b[0;34m*\u001b[0m\u001b[0mloop_vars\u001b[0m\u001b[0;34m)\u001b[0m\u001b[0;34m\u001b[0m\u001b[0;34m\u001b[0m\u001b[0m\n\u001b[0m\u001b[1;32m   2736\u001b[0m         \u001b[0;32mif\u001b[0m \u001b[0mtry_to_pack\u001b[0m \u001b[0;32mand\u001b[0m \u001b[0;32mnot\u001b[0m \u001b[0misinstance\u001b[0m\u001b[0;34m(\u001b[0m\u001b[0mloop_vars\u001b[0m\u001b[0;34m,\u001b[0m \u001b[0;34m(\u001b[0m\u001b[0mlist\u001b[0m\u001b[0;34m,\u001b[0m \u001b[0m_basetuple\u001b[0m\u001b[0;34m)\u001b[0m\u001b[0;34m)\u001b[0m\u001b[0;34m:\u001b[0m\u001b[0;34m\u001b[0m\u001b[0;34m\u001b[0m\u001b[0m\n\u001b[1;32m   2737\u001b[0m           \u001b[0mpacked\u001b[0m \u001b[0;34m=\u001b[0m \u001b[0;32mTrue\u001b[0m\u001b[0;34m\u001b[0m\u001b[0;34m\u001b[0m\u001b[0m\n",
      "\u001b[0;32m~/.conda/envs/lya-tf/lib/python3.7/site-packages/tensorflow_probability/python/optimizer/lbfgs.py\u001b[0m in \u001b[0;36m_body\u001b[0;34m(current_state)\u001b[0m\n\u001b[1;32m    259\u001b[0m           \u001b[0mvalue_and_gradients_function\u001b[0m\u001b[0;34m,\u001b[0m \u001b[0msearch_direction\u001b[0m\u001b[0;34m,\u001b[0m\u001b[0;34m\u001b[0m\u001b[0;34m\u001b[0m\u001b[0m\n\u001b[1;32m    260\u001b[0m           \u001b[0mtolerance\u001b[0m\u001b[0;34m,\u001b[0m \u001b[0mf_relative_tolerance\u001b[0m\u001b[0;34m,\u001b[0m \u001b[0mx_tolerance\u001b[0m\u001b[0;34m,\u001b[0m \u001b[0mstopping_condition\u001b[0m\u001b[0;34m,\u001b[0m\u001b[0;34m\u001b[0m\u001b[0;34m\u001b[0m\u001b[0m\n\u001b[0;32m--> 261\u001b[0;31m           max_line_search_iterations)\n\u001b[0m\u001b[1;32m    262\u001b[0m \u001b[0;34m\u001b[0m\u001b[0m\n\u001b[1;32m    263\u001b[0m       \u001b[0;31m# If not failed or converged, update the Hessian estimate.\u001b[0m\u001b[0;34m\u001b[0m\u001b[0;34m\u001b[0m\u001b[0;34m\u001b[0m\u001b[0m\n",
      "\u001b[0;32m~/.conda/envs/lya-tf/lib/python3.7/site-packages/tensorflow_probability/python/optimizer/bfgs_utils.py\u001b[0m in \u001b[0;36mline_search_step\u001b[0;34m(state, value_and_gradients_function, search_direction, grad_tolerance, f_relative_tolerance, x_tolerance, stopping_condition, max_iterations)\u001b[0m\n\u001b[1;32m    213\u001b[0m       \u001b[0mvalue_at_zero\u001b[0m\u001b[0;34m=\u001b[0m\u001b[0mval_0\u001b[0m\u001b[0;34m,\u001b[0m\u001b[0;34m\u001b[0m\u001b[0;34m\u001b[0m\u001b[0m\n\u001b[1;32m    214\u001b[0m       \u001b[0mconverged\u001b[0m\u001b[0;34m=\u001b[0m\u001b[0minactive\u001b[0m\u001b[0;34m,\u001b[0m\u001b[0;34m\u001b[0m\u001b[0;34m\u001b[0m\u001b[0m\n\u001b[0;32m--> 215\u001b[0;31m       max_iterations=max_iterations)  # No search needed for these.\n\u001b[0m\u001b[1;32m    216\u001b[0m \u001b[0;34m\u001b[0m\u001b[0m\n\u001b[1;32m    217\u001b[0m   state_after_ls = update_fields(\n",
      "\u001b[0;32m~/.conda/envs/lya-tf/lib/python3.7/site-packages/tensorflow/python/util/deprecation.py\u001b[0m in \u001b[0;36mnew_func\u001b[0;34m(*args, **kwargs)\u001b[0m\n\u001b[1;32m    536\u001b[0m                 \u001b[0;34m'in a future version'\u001b[0m \u001b[0;32mif\u001b[0m \u001b[0mdate\u001b[0m \u001b[0;32mis\u001b[0m \u001b[0;32mNone\u001b[0m \u001b[0;32melse\u001b[0m \u001b[0;34m(\u001b[0m\u001b[0;34m'after %s'\u001b[0m \u001b[0;34m%\u001b[0m \u001b[0mdate\u001b[0m\u001b[0;34m)\u001b[0m\u001b[0;34m,\u001b[0m\u001b[0;34m\u001b[0m\u001b[0;34m\u001b[0m\u001b[0m\n\u001b[1;32m    537\u001b[0m                 instructions)\n\u001b[0;32m--> 538\u001b[0;31m       \u001b[0;32mreturn\u001b[0m \u001b[0mfunc\u001b[0m\u001b[0;34m(\u001b[0m\u001b[0;34m*\u001b[0m\u001b[0margs\u001b[0m\u001b[0;34m,\u001b[0m \u001b[0;34m**\u001b[0m\u001b[0mkwargs\u001b[0m\u001b[0;34m)\u001b[0m\u001b[0;34m\u001b[0m\u001b[0;34m\u001b[0m\u001b[0m\n\u001b[0m\u001b[1;32m    539\u001b[0m \u001b[0;34m\u001b[0m\u001b[0m\n\u001b[1;32m    540\u001b[0m     doc = _add_deprecated_arg_notice_to_docstring(\n",
      "\u001b[0;32m~/.conda/envs/lya-tf/lib/python3.7/site-packages/tensorflow_probability/python/optimizer/linesearch/hager_zhang.py\u001b[0m in \u001b[0;36mhager_zhang\u001b[0;34m(***failed resolving arguments***)\u001b[0m\n\u001b[1;32m    275\u001b[0m         \u001b[0miterations\u001b[0m\u001b[0;34m=\u001b[0m\u001b[0mtf\u001b[0m\u001b[0;34m.\u001b[0m\u001b[0mconvert_to_tensor\u001b[0m\u001b[0;34m(\u001b[0m\u001b[0;36m0\u001b[0m\u001b[0;34m)\u001b[0m\u001b[0;34m,\u001b[0m\u001b[0;34m\u001b[0m\u001b[0;34m\u001b[0m\u001b[0m\n\u001b[1;32m    276\u001b[0m         \u001b[0mleft\u001b[0m\u001b[0;34m=\u001b[0m\u001b[0mval_0\u001b[0m\u001b[0;34m,\u001b[0m\u001b[0;34m\u001b[0m\u001b[0;34m\u001b[0m\u001b[0m\n\u001b[0;32m--> 277\u001b[0;31m         right=hzl.val_where(init_converged, val_0, val_initial))\n\u001b[0m\u001b[1;32m    278\u001b[0m \u001b[0;34m\u001b[0m\u001b[0m\n\u001b[1;32m    279\u001b[0m     \u001b[0;32mdef\u001b[0m \u001b[0m_apply_bracket_and_search\u001b[0m\u001b[0;34m(\u001b[0m\u001b[0;34m)\u001b[0m\u001b[0;34m:\u001b[0m\u001b[0;34m\u001b[0m\u001b[0;34m\u001b[0m\u001b[0m\n",
      "\u001b[0;32m~/.conda/envs/lya-tf/lib/python3.7/site-packages/tensorflow_probability/python/optimizer/linesearch/internal/hager_zhang_lib.py\u001b[0m in \u001b[0;36mval_where\u001b[0;34m(cond, tval, fval)\u001b[0m\n\u001b[1;32m     44\u001b[0m   \u001b[0;32melif\u001b[0m \u001b[0misinstance\u001b[0m\u001b[0;34m(\u001b[0m\u001b[0mtval\u001b[0m\u001b[0;34m,\u001b[0m \u001b[0mtuple\u001b[0m\u001b[0;34m)\u001b[0m\u001b[0;34m:\u001b[0m\u001b[0;34m\u001b[0m\u001b[0;34m\u001b[0m\u001b[0m\n\u001b[1;32m     45\u001b[0m     \u001b[0mcls\u001b[0m \u001b[0;34m=\u001b[0m \u001b[0mtype\u001b[0m\u001b[0;34m(\u001b[0m\u001b[0mtval\u001b[0m\u001b[0;34m)\u001b[0m\u001b[0;34m\u001b[0m\u001b[0;34m\u001b[0m\u001b[0m\n\u001b[0;32m---> 46\u001b[0;31m     \u001b[0;32mreturn\u001b[0m \u001b[0mcls\u001b[0m\u001b[0;34m(\u001b[0m\u001b[0;34m*\u001b[0m\u001b[0;34m(\u001b[0m\u001b[0mval_where\u001b[0m\u001b[0;34m(\u001b[0m\u001b[0mcond\u001b[0m\u001b[0;34m,\u001b[0m \u001b[0mt\u001b[0m\u001b[0;34m,\u001b[0m \u001b[0mf\u001b[0m\u001b[0;34m)\u001b[0m \u001b[0;32mfor\u001b[0m \u001b[0mt\u001b[0m\u001b[0;34m,\u001b[0m \u001b[0mf\u001b[0m \u001b[0;32min\u001b[0m \u001b[0mzip\u001b[0m\u001b[0;34m(\u001b[0m\u001b[0mtval\u001b[0m\u001b[0;34m,\u001b[0m \u001b[0mfval\u001b[0m\u001b[0;34m)\u001b[0m\u001b[0;34m)\u001b[0m\u001b[0;34m)\u001b[0m\u001b[0;34m\u001b[0m\u001b[0;34m\u001b[0m\u001b[0m\n\u001b[0m\u001b[1;32m     47\u001b[0m   \u001b[0;32melse\u001b[0m\u001b[0;34m:\u001b[0m\u001b[0;34m\u001b[0m\u001b[0;34m\u001b[0m\u001b[0m\n\u001b[1;32m     48\u001b[0m     \u001b[0;32mraise\u001b[0m \u001b[0mException\u001b[0m\u001b[0;34m(\u001b[0m\u001b[0mTypeError\u001b[0m\u001b[0;34m)\u001b[0m\u001b[0;34m\u001b[0m\u001b[0;34m\u001b[0m\u001b[0m\n",
      "\u001b[0;32m~/.conda/envs/lya-tf/lib/python3.7/site-packages/tensorflow_probability/python/optimizer/linesearch/internal/hager_zhang_lib.py\u001b[0m in \u001b[0;36m<genexpr>\u001b[0;34m(.0)\u001b[0m\n\u001b[1;32m     44\u001b[0m   \u001b[0;32melif\u001b[0m \u001b[0misinstance\u001b[0m\u001b[0;34m(\u001b[0m\u001b[0mtval\u001b[0m\u001b[0;34m,\u001b[0m \u001b[0mtuple\u001b[0m\u001b[0;34m)\u001b[0m\u001b[0;34m:\u001b[0m\u001b[0;34m\u001b[0m\u001b[0;34m\u001b[0m\u001b[0m\n\u001b[1;32m     45\u001b[0m     \u001b[0mcls\u001b[0m \u001b[0;34m=\u001b[0m \u001b[0mtype\u001b[0m\u001b[0;34m(\u001b[0m\u001b[0mtval\u001b[0m\u001b[0;34m)\u001b[0m\u001b[0;34m\u001b[0m\u001b[0;34m\u001b[0m\u001b[0m\n\u001b[0;32m---> 46\u001b[0;31m     \u001b[0;32mreturn\u001b[0m \u001b[0mcls\u001b[0m\u001b[0;34m(\u001b[0m\u001b[0;34m*\u001b[0m\u001b[0;34m(\u001b[0m\u001b[0mval_where\u001b[0m\u001b[0;34m(\u001b[0m\u001b[0mcond\u001b[0m\u001b[0;34m,\u001b[0m \u001b[0mt\u001b[0m\u001b[0;34m,\u001b[0m \u001b[0mf\u001b[0m\u001b[0;34m)\u001b[0m \u001b[0;32mfor\u001b[0m \u001b[0mt\u001b[0m\u001b[0;34m,\u001b[0m \u001b[0mf\u001b[0m \u001b[0;32min\u001b[0m \u001b[0mzip\u001b[0m\u001b[0;34m(\u001b[0m\u001b[0mtval\u001b[0m\u001b[0;34m,\u001b[0m \u001b[0mfval\u001b[0m\u001b[0;34m)\u001b[0m\u001b[0;34m)\u001b[0m\u001b[0;34m)\u001b[0m\u001b[0;34m\u001b[0m\u001b[0;34m\u001b[0m\u001b[0m\n\u001b[0m\u001b[1;32m     47\u001b[0m   \u001b[0;32melse\u001b[0m\u001b[0;34m:\u001b[0m\u001b[0;34m\u001b[0m\u001b[0;34m\u001b[0m\u001b[0m\n\u001b[1;32m     48\u001b[0m     \u001b[0;32mraise\u001b[0m \u001b[0mException\u001b[0m\u001b[0;34m(\u001b[0m\u001b[0mTypeError\u001b[0m\u001b[0;34m)\u001b[0m\u001b[0;34m\u001b[0m\u001b[0;34m\u001b[0m\u001b[0m\n",
      "\u001b[0;32m~/.conda/envs/lya-tf/lib/python3.7/site-packages/tensorflow_probability/python/optimizer/linesearch/internal/hager_zhang_lib.py\u001b[0m in \u001b[0;36mval_where\u001b[0;34m(cond, tval, fval)\u001b[0m\n\u001b[1;32m     41\u001b[0m   \u001b[0;34m\"\"\"Like tf.where but works on namedtuples.\"\"\"\u001b[0m\u001b[0;34m\u001b[0m\u001b[0;34m\u001b[0m\u001b[0m\n\u001b[1;32m     42\u001b[0m   \u001b[0;32mif\u001b[0m \u001b[0misinstance\u001b[0m\u001b[0;34m(\u001b[0m\u001b[0mtval\u001b[0m\u001b[0;34m,\u001b[0m \u001b[0mtf\u001b[0m\u001b[0;34m.\u001b[0m\u001b[0mTensor\u001b[0m\u001b[0;34m)\u001b[0m\u001b[0;34m:\u001b[0m\u001b[0;34m\u001b[0m\u001b[0;34m\u001b[0m\u001b[0m\n\u001b[0;32m---> 43\u001b[0;31m     \u001b[0;32mreturn\u001b[0m \u001b[0mtf1\u001b[0m\u001b[0;34m.\u001b[0m\u001b[0mwhere\u001b[0m\u001b[0;34m(\u001b[0m\u001b[0mcond\u001b[0m\u001b[0;34m,\u001b[0m \u001b[0mtval\u001b[0m\u001b[0;34m,\u001b[0m \u001b[0mfval\u001b[0m\u001b[0;34m)\u001b[0m\u001b[0;34m\u001b[0m\u001b[0;34m\u001b[0m\u001b[0m\n\u001b[0m\u001b[1;32m     44\u001b[0m   \u001b[0;32melif\u001b[0m \u001b[0misinstance\u001b[0m\u001b[0;34m(\u001b[0m\u001b[0mtval\u001b[0m\u001b[0;34m,\u001b[0m \u001b[0mtuple\u001b[0m\u001b[0;34m)\u001b[0m\u001b[0;34m:\u001b[0m\u001b[0;34m\u001b[0m\u001b[0;34m\u001b[0m\u001b[0m\n\u001b[1;32m     45\u001b[0m     \u001b[0mcls\u001b[0m \u001b[0;34m=\u001b[0m \u001b[0mtype\u001b[0m\u001b[0;34m(\u001b[0m\u001b[0mtval\u001b[0m\u001b[0;34m)\u001b[0m\u001b[0;34m\u001b[0m\u001b[0;34m\u001b[0m\u001b[0m\n",
      "\u001b[0;32m~/.conda/envs/lya-tf/lib/python3.7/site-packages/tensorflow/python/util/dispatch.py\u001b[0m in \u001b[0;36mwrapper\u001b[0;34m(*args, **kwargs)\u001b[0m\n\u001b[1;32m    199\u001b[0m     \u001b[0;34m\"\"\"Call target, and fall back on dispatchers if there is a TypeError.\"\"\"\u001b[0m\u001b[0;34m\u001b[0m\u001b[0;34m\u001b[0m\u001b[0m\n\u001b[1;32m    200\u001b[0m     \u001b[0;32mtry\u001b[0m\u001b[0;34m:\u001b[0m\u001b[0;34m\u001b[0m\u001b[0;34m\u001b[0m\u001b[0m\n\u001b[0;32m--> 201\u001b[0;31m       \u001b[0;32mreturn\u001b[0m \u001b[0mtarget\u001b[0m\u001b[0;34m(\u001b[0m\u001b[0;34m*\u001b[0m\u001b[0margs\u001b[0m\u001b[0;34m,\u001b[0m \u001b[0;34m**\u001b[0m\u001b[0mkwargs\u001b[0m\u001b[0;34m)\u001b[0m\u001b[0;34m\u001b[0m\u001b[0;34m\u001b[0m\u001b[0m\n\u001b[0m\u001b[1;32m    202\u001b[0m     \u001b[0;32mexcept\u001b[0m \u001b[0;34m(\u001b[0m\u001b[0mTypeError\u001b[0m\u001b[0;34m,\u001b[0m \u001b[0mValueError\u001b[0m\u001b[0;34m)\u001b[0m\u001b[0;34m:\u001b[0m\u001b[0;34m\u001b[0m\u001b[0;34m\u001b[0m\u001b[0m\n\u001b[1;32m    203\u001b[0m       \u001b[0;31m# Note: convert_to_eager_tensor currently raises a ValueError, not a\u001b[0m\u001b[0;34m\u001b[0m\u001b[0;34m\u001b[0m\u001b[0;34m\u001b[0m\u001b[0m\n",
      "\u001b[0;32m~/.conda/envs/lya-tf/lib/python3.7/site-packages/tensorflow/python/ops/array_ops.py\u001b[0m in \u001b[0;36mwhere\u001b[0;34m(condition, x, y, name)\u001b[0m\n\u001b[1;32m   4481\u001b[0m       \u001b[0;32mreturn\u001b[0m \u001b[0mgen_array_ops\u001b[0m\u001b[0;34m.\u001b[0m\u001b[0mwhere\u001b[0m\u001b[0;34m(\u001b[0m\u001b[0mcondition\u001b[0m\u001b[0;34m=\u001b[0m\u001b[0mcondition\u001b[0m\u001b[0;34m,\u001b[0m \u001b[0mname\u001b[0m\u001b[0;34m=\u001b[0m\u001b[0mname\u001b[0m\u001b[0;34m)\u001b[0m\u001b[0;34m\u001b[0m\u001b[0;34m\u001b[0m\u001b[0m\n\u001b[1;32m   4482\u001b[0m   \u001b[0;32melif\u001b[0m \u001b[0mx\u001b[0m \u001b[0;32mis\u001b[0m \u001b[0;32mnot\u001b[0m \u001b[0;32mNone\u001b[0m \u001b[0;32mand\u001b[0m \u001b[0my\u001b[0m \u001b[0;32mis\u001b[0m \u001b[0;32mnot\u001b[0m \u001b[0;32mNone\u001b[0m\u001b[0;34m:\u001b[0m\u001b[0;34m\u001b[0m\u001b[0;34m\u001b[0m\u001b[0m\n\u001b[0;32m-> 4483\u001b[0;31m     \u001b[0;32mreturn\u001b[0m \u001b[0mgen_math_ops\u001b[0m\u001b[0;34m.\u001b[0m\u001b[0mselect\u001b[0m\u001b[0;34m(\u001b[0m\u001b[0mcondition\u001b[0m\u001b[0;34m=\u001b[0m\u001b[0mcondition\u001b[0m\u001b[0;34m,\u001b[0m \u001b[0mx\u001b[0m\u001b[0;34m=\u001b[0m\u001b[0mx\u001b[0m\u001b[0;34m,\u001b[0m \u001b[0my\u001b[0m\u001b[0;34m=\u001b[0m\u001b[0my\u001b[0m\u001b[0;34m,\u001b[0m \u001b[0mname\u001b[0m\u001b[0;34m=\u001b[0m\u001b[0mname\u001b[0m\u001b[0;34m)\u001b[0m\u001b[0;34m\u001b[0m\u001b[0;34m\u001b[0m\u001b[0m\n\u001b[0m\u001b[1;32m   4484\u001b[0m   \u001b[0;32melse\u001b[0m\u001b[0;34m:\u001b[0m\u001b[0;34m\u001b[0m\u001b[0;34m\u001b[0m\u001b[0m\n\u001b[1;32m   4485\u001b[0m     \u001b[0;32mraise\u001b[0m \u001b[0mValueError\u001b[0m\u001b[0;34m(\u001b[0m\u001b[0;34m\"x and y must both be non-None or both be None.\"\u001b[0m\u001b[0;34m)\u001b[0m\u001b[0;34m\u001b[0m\u001b[0;34m\u001b[0m\u001b[0m\n",
      "\u001b[0;32m~/.conda/envs/lya-tf/lib/python3.7/site-packages/tensorflow/python/ops/gen_math_ops.py\u001b[0m in \u001b[0;36mselect\u001b[0;34m(condition, x, y, name)\u001b[0m\n\u001b[1;32m   8674\u001b[0m       \u001b[0;32mreturn\u001b[0m \u001b[0m_result\u001b[0m\u001b[0;34m\u001b[0m\u001b[0;34m\u001b[0m\u001b[0m\n\u001b[1;32m   8675\u001b[0m     \u001b[0;32mexcept\u001b[0m \u001b[0m_core\u001b[0m\u001b[0;34m.\u001b[0m\u001b[0m_NotOkStatusException\u001b[0m \u001b[0;32mas\u001b[0m \u001b[0me\u001b[0m\u001b[0;34m:\u001b[0m\u001b[0;34m\u001b[0m\u001b[0;34m\u001b[0m\u001b[0m\n\u001b[0;32m-> 8676\u001b[0;31m       \u001b[0m_ops\u001b[0m\u001b[0;34m.\u001b[0m\u001b[0mraise_from_not_ok_status\u001b[0m\u001b[0;34m(\u001b[0m\u001b[0me\u001b[0m\u001b[0;34m,\u001b[0m \u001b[0mname\u001b[0m\u001b[0;34m)\u001b[0m\u001b[0;34m\u001b[0m\u001b[0;34m\u001b[0m\u001b[0m\n\u001b[0m\u001b[1;32m   8677\u001b[0m     \u001b[0;32mexcept\u001b[0m \u001b[0m_core\u001b[0m\u001b[0;34m.\u001b[0m\u001b[0m_FallbackException\u001b[0m\u001b[0;34m:\u001b[0m\u001b[0;34m\u001b[0m\u001b[0;34m\u001b[0m\u001b[0m\n\u001b[1;32m   8678\u001b[0m       \u001b[0;32mpass\u001b[0m\u001b[0;34m\u001b[0m\u001b[0;34m\u001b[0m\u001b[0m\n",
      "\u001b[0;32m~/.conda/envs/lya-tf/lib/python3.7/site-packages/tensorflow/python/framework/ops.py\u001b[0m in \u001b[0;36mraise_from_not_ok_status\u001b[0;34m(e, name)\u001b[0m\n\u001b[1;32m   6860\u001b[0m   \u001b[0mmessage\u001b[0m \u001b[0;34m=\u001b[0m \u001b[0me\u001b[0m\u001b[0;34m.\u001b[0m\u001b[0mmessage\u001b[0m \u001b[0;34m+\u001b[0m \u001b[0;34m(\u001b[0m\u001b[0;34m\" name: \"\u001b[0m \u001b[0;34m+\u001b[0m \u001b[0mname\u001b[0m \u001b[0;32mif\u001b[0m \u001b[0mname\u001b[0m \u001b[0;32mis\u001b[0m \u001b[0;32mnot\u001b[0m \u001b[0;32mNone\u001b[0m \u001b[0;32melse\u001b[0m \u001b[0;34m\"\"\u001b[0m\u001b[0;34m)\u001b[0m\u001b[0;34m\u001b[0m\u001b[0;34m\u001b[0m\u001b[0m\n\u001b[1;32m   6861\u001b[0m   \u001b[0;31m# pylint: disable=protected-access\u001b[0m\u001b[0;34m\u001b[0m\u001b[0;34m\u001b[0m\u001b[0;34m\u001b[0m\u001b[0m\n\u001b[0;32m-> 6862\u001b[0;31m   \u001b[0msix\u001b[0m\u001b[0;34m.\u001b[0m\u001b[0mraise_from\u001b[0m\u001b[0;34m(\u001b[0m\u001b[0mcore\u001b[0m\u001b[0;34m.\u001b[0m\u001b[0m_status_to_exception\u001b[0m\u001b[0;34m(\u001b[0m\u001b[0me\u001b[0m\u001b[0;34m.\u001b[0m\u001b[0mcode\u001b[0m\u001b[0;34m,\u001b[0m \u001b[0mmessage\u001b[0m\u001b[0;34m)\u001b[0m\u001b[0;34m,\u001b[0m \u001b[0;32mNone\u001b[0m\u001b[0;34m)\u001b[0m\u001b[0;34m\u001b[0m\u001b[0;34m\u001b[0m\u001b[0m\n\u001b[0m\u001b[1;32m   6863\u001b[0m   \u001b[0;31m# pylint: enable=protected-access\u001b[0m\u001b[0;34m\u001b[0m\u001b[0;34m\u001b[0m\u001b[0;34m\u001b[0m\u001b[0m\n\u001b[1;32m   6864\u001b[0m \u001b[0;34m\u001b[0m\u001b[0m\n",
      "\u001b[0;32m~/.conda/envs/lya-tf/lib/python3.7/site-packages/six.py\u001b[0m in \u001b[0;36mraise_from\u001b[0;34m(value, from_value)\u001b[0m\n",
      "\u001b[0;31mInvalidArgumentError\u001b[0m: Inputs to operation Select of type Select must have the same size and shape.  Input 0: [1,2,1024] != input 1: [1,2,1024,1] [Op:Select]"
     ]
    }
   ],
   "source": [
    "# optimizer\n",
    "#optim = tf.optimizers.Adam(learning_rate=0.1)\n",
    "start = rho_pred[...,None]\n",
    "optim = tfp.optimizer.lbfgs_minimize(loss_and_grads, \\\n",
    "                                     initial_position=start)\n",
    "\n",
    "# print('Initial loss:', loss_fn(rho_pred).numpy())\n",
    "\n",
    "# losses = tfp.math.minimize(loss_fn,\n",
    "#                            num_steps=3,\n",
    "#                            optimizer=optim)\n",
    "\n",
    "# print('Final loss:', losses[-1].numpy())\n",
    "# treal_pred_final = model(rho_pred) # final prediction for tau_real"
   ]
  },
  {
   "cell_type": "code",
   "execution_count": null,
   "id": "df77f3e8-964e-475d-93e3-2cc56a868212",
   "metadata": {},
   "outputs": [],
   "source": [
    "# TODO: replicate results with Gimlet's tau_real\n",
    "# ..."
   ]
  },
  {
   "cell_type": "code",
   "execution_count": null,
   "id": "96eafccf-d63b-4610-aa91-77a2442fa22c",
   "metadata": {
    "tags": []
   },
   "outputs": [],
   "source": [
    "# true and predicted log(input)\n",
    "plt.figure(figsize=(10,4))\n",
    "\n",
    "plt.plot(np.log10(rho_true), color='black', label='log10(rho) (true)')\n",
    "plt.plot(np.log10(rho_pred), 'blue', label = 'log10(rho) (pred)', alpha=0.5)\n",
    "plt.title('log10(rho)')\n",
    "plt.ylim(-5, 3)\n",
    "plt.legend()\n",
    "plt.show()\n",
    "\n",
    "# true and predicted \"data\"\n",
    "plt.figure(figsize=(10,4))\n",
    "plt.plot(treal_true, color='black', label='tau_real (true)')\n",
    "plt.plot(treal_pred_final, 'blue', label = 'tau_real (pred)', alpha=0.5)\n",
    "plt.title('tau_real')\n",
    "plt.legend()\n",
    "plt.show()\n",
    "\n",
    "# loss\n",
    "plt.figure(figsize=(10,4))\n",
    "plt.plot(np.log10(losses))\n",
    "plt.title('log10(loss)')\n",
    "plt.show()"
   ]
  },
  {
   "cell_type": "code",
   "execution_count": null,
   "id": "0cb0aa19-e816-42b3-ab5e-31020f166d4f",
   "metadata": {},
   "outputs": [],
   "source": []
  }
 ],
 "metadata": {
  "kernelspec": {
   "display_name": "Lya-TF",
   "language": "python",
   "name": "lya-tf"
  },
  "language_info": {
   "codemirror_mode": {
    "name": "ipython",
    "version": 3
   },
   "file_extension": ".py",
   "mimetype": "text/x-python",
   "name": "python",
   "nbconvert_exporter": "python",
   "pygments_lexer": "ipython3",
   "version": "3.7.10"
  }
 },
 "nbformat": 4,
 "nbformat_minor": 5
}
