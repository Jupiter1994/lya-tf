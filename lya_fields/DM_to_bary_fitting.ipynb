{
 "cells": [
  {
   "cell_type": "code",
   "execution_count": 1,
   "id": "f557ebbe-5f78-46db-8212-46ef3097f20b",
   "metadata": {
    "tags": []
   },
   "outputs": [],
   "source": [
    "import h5py\n",
    "import numpy as np\n",
    "import scipy.ndimage\n",
    "import scipy.optimize\n",
    "import tensorflow as tf\n",
    "# import tensorflow_probability as tfp\n",
    "# from tensorflow import keras\n",
    "\n",
    "#import time\n",
    "\n",
    "import matplotlib.pyplot as plt"
   ]
  },
  {
   "cell_type": "markdown",
   "id": "e7ed1d9c-a03b-4d06-9732-b752b45a2192",
   "metadata": {
    "tags": []
   },
   "source": [
    "# Fitting the DM-to-baryon formulas"
   ]
  },
  {
   "cell_type": "markdown",
   "id": "7daaaa7c-c418-4c9b-861e-27e1d6e4f0a2",
   "metadata": {},
   "source": [
    "We define the following variables:\n",
    "1. $T$ is the temperature. $\\rho$ is the ratio of dark matter density to the mean DM density, and $\\rho_b$ is the same quantity for baryons.\n",
    "2. $\\rho'$ is the gradient of the density field. For cell $i$ in a skewer, we make the approximation $\\rho' \\approx c(\\rho_{i+1}-\\rho_{i-1})$, where $c$ is some constant that is simply absorbed by $v_0$ (see the below formula).\n",
    "3. $T_0$, $\\rho_{b,0}$, and $v_0$ are scaling constants, and the $\\gamma$'s are the exponential parameters.\n",
    "4. $\\sigma_T$, $\\sigma_\\rho$, $\\sigma_v$ are the smoothing scales for temperature, baryon density, and baryon velocity, respectively. (These are all on the order of ~1.)\n",
    "\n",
    "Baryon temperature:\n",
    "$$T = T_0 [\\text{gaussian_smoothing}(\\rho, \\sigma_T)]^{\\gamma_T-1} $$\n",
    "Baryon density:\n",
    "$$\\rho_b = \\rho_{b,0} [\\text{gaussian_smoothing}(\\rho, \\sigma_\\rho)]^{\\gamma_\\rho-1} $$\n",
    "Baryon velocity:\n",
    "$$v = v_0 [\\text{gaussian_smoothing}(A \\rho' + B(\\rho')^2, \\sigma_v)]$$"
   ]
  },
  {
   "cell_type": "markdown",
   "id": "6b264ccf-0a42-46cf-bcd6-4dd6754029af",
   "metadata": {},
   "source": [
    "## Gaussian filter function\n",
    "In the (differentiable) optimization process, `gaussian_blur` replaces `scipy.ndimage.gaussian_filter`."
   ]
  },
  {
   "cell_type": "code",
   "execution_count": 2,
   "id": "90d522b2-df60-4a5a-96d2-f37812409294",
   "metadata": {},
   "outputs": [],
   "source": [
    "def gaussian_blur(img, kernel_size, sigma):\n",
    "    def gauss_kernel(channels, kernel_size, sigma):\n",
    "        ax = tf.range(-kernel_size // 2 + 1.0, kernel_size // 2 + 1.0)\n",
    "        xx, yy = tf.meshgrid(ax, ax)\n",
    "        kernel = tf.exp(-(xx ** 2 + yy ** 2) / (2.0 * sigma ** 2))\n",
    "        kernel = kernel / tf.reduce_sum(kernel)\n",
    "        kernel = tf.tile(kernel[..., tf.newaxis], [1, 1, channels])\n",
    "        return kernel\n",
    "\n",
    "    img = tf.reshape(img, [1, img.shape[-2], img.shape[-1], 1]) # e.g. (1, 1024, 1024, 1)\n",
    "    \n",
    "    gaussian_kernel = gauss_kernel(tf.shape(img)[-1], kernel_size, sigma)\n",
    "    gaussian_kernel = gaussian_kernel[..., tf.newaxis]\n",
    "    gaussian_kernel = tf.cast(gaussian_kernel, 'float64')\n",
    "\n",
    "    result = tf.nn.depthwise_conv2d(img, gaussian_kernel, [1, 1, 1, 1],\n",
    "                                  padding='SAME', data_format='NHWC')\n",
    "    return result"
   ]
  },
  {
   "cell_type": "markdown",
   "id": "79884a99-c92f-47ab-b2a4-b487828dec9c",
   "metadata": {
    "tags": []
   },
   "source": [
    "## Load in data"
   ]
  },
  {
   "cell_type": "code",
   "execution_count": 3,
   "id": "51583a3f-f999-4588-a560-2cd4878e57c1",
   "metadata": {},
   "outputs": [],
   "source": [
    "filename = \"../../../../../cscratch1/sd/jupiter/sim2_z3_FGPA_cgs.h5\"\n",
    "tf_filename = \"../lya_fields/results/tf_fields1x1x1024.h5\"\n",
    "\n",
    "h5 = h5py.File(filename,'r')\n",
    "tf_h5 = h5py.File(tf_filename,'r')\n",
    "\n",
    "# full fields\n",
    "DM_dens = h5['native_fields']['matter_density'][()] # rho\n",
    "baryon_dens = h5['native_fields']['baryon_density'][()] # rho_b\n",
    "temperature = h5['native_fields']['temperature'][()] # T\n",
    "baryon_vel = h5['native_fields']['velocity_z'][()] # v\n",
    "\n",
    "# treal = tf_h5['tau_real'][()] # real-space optical depth (lya-tf)\n",
    "# treal_g = h5['derived_fields']['tau_real'][()] # real-space optical depth (Gimlet)\n",
    "# tred = tf_h5['tau_red'][()] # redshift-space optical depth (lya-tf)\n",
    "\n",
    "h5.close()\n",
    "tf_h5.close()"
   ]
  },
  {
   "cell_type": "code",
   "execution_count": 97,
   "id": "c80586cb-a887-4b77-8508-d684c579bc11",
   "metadata": {},
   "outputs": [],
   "source": [
    "# train on one part of the snapshot\n",
    "train_inds = (512,\n",
    "              slice(0, 1024),\n",
    "              slice(0, 1024))\n",
    "rho_train = DM_dens[train_inds]\n",
    "rhob_train = baryon_dens[train_inds]\n",
    "temp_train = temperature[train_inds]\n",
    "vel_train = baryon_vel[train_inds]\n",
    "\n",
    "# test on one skewer\n",
    "test_inds = (0, 0, slice(0, 1024))\n",
    "rho_test = DM_dens[test_inds]\n",
    "rhob_test = baryon_dens[test_inds]\n",
    "temp_test = temperature[test_inds]\n",
    "vel_test = baryon_vel[test_inds]\n",
    "\n",
    "rho_train = tf.cast(rho_train, 'float64')"
   ]
  },
  {
   "cell_type": "code",
   "execution_count": 124,
   "id": "c354e61f-cf27-4d36-913d-965ead74c9b9",
   "metadata": {
    "tags": []
   },
   "outputs": [],
   "source": [
    "rho_grad = np.roll(rho_train, -1, axis=-1) - \\\n",
    "        np.roll(rho_train, 1, axis=-1)\n",
    "\n",
    "# rho_grad = tf.cast(rho_grad, 'float64')\n",
    "# rho_grad_blurred = tf.squeeze(gaussian_blur(rho_grad, 20, 10))"
   ]
  },
  {
   "cell_type": "code",
   "execution_count": 225,
   "id": "837dd432-c34c-403e-a62c-07e61369befa",
   "metadata": {
    "tags": []
   },
   "outputs": [],
   "source": [
    "def bary_model(rho, x0, sigma, gamma):\n",
    "    '''\n",
    "    The model for fitting x = x0 * [gaussian_smoothing(rho_DM, sigma)]^(gamma-1),\n",
    "    where x is the baryon property.\n",
    "    \n",
    "    '''\n",
    "    \n",
    "    return x0 * (scipy.ndimage.gaussian_filter(rho, sigma))**(gamma - 1)\n",
    "\n",
    "def bary_model_diff(rho, x0, sigma, gamma):\n",
    "    '''\n",
    "    The (differentiable) model for fitting x = x0 * [gaussian_smoothing(rho_DM, sigma)]^(gamma-1),\n",
    "    where x is the baryon property.\n",
    "    \n",
    "    '''\n",
    "    \n",
    "    result = x0 * (gaussian_blur(rho, sigma*2, sigma))**(gamma - 1)\n",
    "    return tf.squeeze(result)\n",
    "\n",
    "def bary_model_v(v0, a, b):\n",
    "    '''\n",
    "    The (differentiable) model for fitting v. See above for the formula.\n",
    "    \n",
    "    '''\n",
    "    \n",
    "    # only fit with one skewer\n",
    "    model = a * rho_grad[512,:] + b * np.square(rho_grad[512,:])\n",
    "    result = v0 * model\n",
    "    return result\n",
    "\n",
    "def obj_fn(params, x):\n",
    "    '''\n",
    "    The objective function to be minimized for fitting. \n",
    "    \n",
    "    PARAMETERS\n",
    "    ----------\n",
    "    params: (x0, sigma, gamma) or (v0, sigma, a, b)\n",
    "    x: the baryon property to fit; can be 'rho' (baryon density),\n",
    "    't' (temperature), or 'v' (velocity)\n",
    "    \n",
    "    '''\n",
    "    \n",
    "    if (x != 'v' and x != 'rho' and x != 't'):\n",
    "        raise ValueError(\"Invalid argument: x must be 'rho', 't', or 'v'\")\n",
    "    \n",
    "    if x == 'v':\n",
    "        v0, a, b = params\n",
    "        vel_pred = bary_model_v(v0, a, b)\n",
    "        \n",
    "        return np.mean(np.square(vel_train[512,:] - vel_pred))\n",
    "\n",
    "    else:\n",
    "        x0, sigma, gamma = params\n",
    "        x_pred = bary_model_diff(rho_train, x0, sigma, gamma)\n",
    "    \n",
    "        if x == 'rho':\n",
    "            return np.mean(np.square(rhob_train - x_pred))\n",
    "        else:\n",
    "            return np.mean(np.square(temp_train - x_pred))            \n",
    "        \n",
    "def obj_fn_logT(params):\n",
    "    '''\n",
    "    The objective function to be minimized for fitting log(T). When using scipy.optimize.minimize,\n",
    "    fitting log(T_0) may yield better results than fitting T_0, but it's much slower (on the order\n",
    "    of tens of minutes for 10 iterations).\n",
    "    \n",
    "    PARAMETERS\n",
    "    ----------\n",
    "    params: (logT0, sigma, gamma)\n",
    "    \n",
    "    '''\n",
    "    \n",
    "    logT0, sigma, gamma = params\n",
    "    \n",
    "    logT_pred = logT0 + (gamma - 1)*np.log10(gaussian_blur(rho_train, sigma*2, sigma))\n",
    "    \n",
    "    return np.mean(np.square(temp_train - 10**logT_pred))"
   ]
  },
  {
   "cell_type": "markdown",
   "id": "c2c63337-dfd0-4e8d-a2e5-b5afe722a083",
   "metadata": {
    "jp-MarkdownHeadingCollapsed": true,
    "tags": []
   },
   "source": [
    "## Testing gaussian filters"
   ]
  },
  {
   "cell_type": "code",
   "execution_count": null,
   "id": "96c96950-2e83-4ac5-9a06-f9da563ba12c",
   "metadata": {},
   "outputs": [],
   "source": [
    "x0 = 3\n",
    "sigma = 1.5\n",
    "gamma = 1.6\n",
    "\n",
    "# using ndimage.gaussian_filter, sigma = 1.5\n",
    "plt.figure(figsize=(3,3))\n",
    "plt.imshow(np.log10(bary_model(rho_train, x0, sigma, gamma)))\n",
    "plt.title(\"gaussian_filter\")\n",
    "plt.colorbar()\n",
    "plt.show()\n",
    "\n",
    "plt.figure(figsize=(3,3))\n",
    "plt.imshow(np.log10(bary_model_diff(rho_train, x0, sigma, gamma)))\n",
    "plt.title(\"gaussian_blur, kernel = 2 * sigma\")\n",
    "plt.colorbar()\n",
    "plt.show()\n",
    "\n",
    "result = x0 * (gaussian_blur(rho_train, sigma*5, sigma))**(gamma - 1)\n",
    "plt.figure(figsize=(3,3))\n",
    "plt.imshow(np.log10(result[0,...,0]))\n",
    "plt.title(\"gaussian_blur, kernel = 5 * sigma\")\n",
    "plt.colorbar()\n",
    "plt.show()"
   ]
  },
  {
   "cell_type": "markdown",
   "id": "03db0a50-c83d-4f1a-909c-49f7a7b1fc09",
   "metadata": {
    "tags": []
   },
   "source": [
    "## Using scipy.optimize.minimize"
   ]
  },
  {
   "cell_type": "markdown",
   "id": "e82c6263-0ac6-4054-9a8a-e26112cddbe0",
   "metadata": {},
   "source": [
    "This works with gaussian_blur, which is differentiable, but not gaussian_filter."
   ]
  },
  {
   "cell_type": "markdown",
   "id": "feb13674-07a7-4333-81f7-5580b7d28722",
   "metadata": {
    "jp-MarkdownHeadingCollapsed": true,
    "tags": []
   },
   "source": [
    "### Optimizing for $\\rho_b$'s 3 parameters"
   ]
  },
  {
   "cell_type": "code",
   "execution_count": 90,
   "id": "262ad0a4-89c2-44fa-a002-b85e1cdc0516",
   "metadata": {},
   "outputs": [
    {
     "data": {
      "text/plain": [
       "(0.7772019, 1, 1.6)"
      ]
     },
     "execution_count": 90,
     "metadata": {},
     "output_type": "execute_result"
    }
   ],
   "source": [
    "# initial guess\n",
    "guess = (np.mean(rhob_train), 1, 1.6) # np.mean(rhob_train) ~ 0.8\n",
    "print(guess)"
   ]
  },
  {
   "cell_type": "code",
   "execution_count": 91,
   "id": "779487f6-6e95-406e-9e24-a49a3d97341e",
   "metadata": {
    "tags": []
   },
   "outputs": [
    {
     "name": "stdout",
     "output_type": "stream",
     "text": [
      "Optimization terminated successfully.\n",
      "         Current function value: 1.143215\n",
      "         Iterations: 14\n",
      "         Function evaluations: 76\n",
      "         Gradient evaluations: 19\n"
     ]
    }
   ],
   "source": [
    "guess = (1.51538566, 3.8727029, 1.81753521) # after ~50 iterations\n",
    "\n",
    "options = {'maxiter': 100, 'disp': True}\n",
    "result = scipy.optimize.minimize(obj_fn, guess, args=('rho'), options = options)"
   ]
  },
  {
   "cell_type": "code",
   "execution_count": 88,
   "id": "00495f3a-8970-4a82-8f55-274ec578154c",
   "metadata": {
    "tags": []
   },
   "outputs": [
    {
     "data": {
      "text/plain": [
       "15.82663167315113"
      ]
     },
     "execution_count": 88,
     "metadata": {},
     "output_type": "execute_result"
    }
   ],
   "source": [
    "# previous value of objective function\n",
    "obj_fn(guess, 'rho')"
   ]
  },
  {
   "cell_type": "code",
   "execution_count": 92,
   "id": "5a10c625-0fba-41c7-955d-3c43222721e1",
   "metadata": {
    "tags": []
   },
   "outputs": [
    {
     "data": {
      "text/plain": [
       "      fun: 1.143214990188187\n",
       " hess_inv: array([[ 3.91936367e-01, -2.69964119e-01, -5.44534764e-02],\n",
       "       [-2.69964119e-01,  1.47710389e+01,  8.42450277e-02],\n",
       "       [-5.44534764e-02,  8.42450277e-02,  8.38617752e-03]])\n",
       "      jac: array([-3.42726707e-07,  4.47034836e-08, -2.38418579e-06])\n",
       "  message: 'Optimization terminated successfully.'\n",
       "     nfev: 76\n",
       "      nit: 14\n",
       "     njev: 19\n",
       "   status: 0\n",
       "  success: True\n",
       "        x: array([1.15997566, 3.3063766 , 1.89804891])"
      ]
     },
     "execution_count": 92,
     "metadata": {},
     "output_type": "execute_result"
    }
   ],
   "source": [
    "result"
   ]
  },
  {
   "cell_type": "markdown",
   "id": "347e2d5a-686a-4e73-9c2f-f451a2a3e85b",
   "metadata": {
    "jp-MarkdownHeadingCollapsed": true,
    "tags": []
   },
   "source": [
    "### Optimizing for $T$"
   ]
  },
  {
   "cell_type": "code",
   "execution_count": 113,
   "id": "cece809b-75e7-4523-abbd-7d3bf0ca23fe",
   "metadata": {},
   "outputs": [],
   "source": [
    "guess = (10000, 1, 1.6) # initial guess"
   ]
  },
  {
   "cell_type": "code",
   "execution_count": 130,
   "id": "b299b250-5270-48eb-a853-36af5a1ac9e9",
   "metadata": {
    "tags": []
   },
   "outputs": [
    {
     "name": "stdout",
     "output_type": "stream",
     "text": [
      "Warning: Desired error not necessarily achieved due to precision loss.\n",
      "         Current function value: 2591739.344650\n",
      "         Iterations: 1\n",
      "         Function evaluations: 333\n",
      "         Gradient evaluations: 81\n"
     ]
    }
   ],
   "source": [
    "#guess = (1.26209647e+04, 1.00005124e+00, 1.41253306e+00) # after 9 iterations\n",
    "guess = (1.23905759e+04, 4.00677777e+00, 1.45035417e+00) # after 7 more\n",
    "\n",
    "options = {'maxiter': 100, 'disp': True}\n",
    "result = scipy.optimize.minimize(obj_fn, guess, args=('t'), options = options)"
   ]
  },
  {
   "cell_type": "code",
   "execution_count": 126,
   "id": "6437dc31-8fe5-4025-aaba-dd09d9dc5cab",
   "metadata": {
    "tags": []
   },
   "outputs": [
    {
     "data": {
      "text/plain": [
       "2666814.3737380845"
      ]
     },
     "execution_count": 126,
     "metadata": {},
     "output_type": "execute_result"
    }
   ],
   "source": [
    "# previous value of objective function\n",
    "obj_fn(guess, 't')"
   ]
  },
  {
   "cell_type": "code",
   "execution_count": 131,
   "id": "888081f4-daa1-406e-a185-258226537f51",
   "metadata": {
    "tags": []
   },
   "outputs": [
    {
     "data": {
      "text/plain": [
       "      fun: 2591739.344649665\n",
       " hess_inv: array([[ 1.00000000e+00,  1.89709833e-07, -1.28199423e-05],\n",
       "       [ 1.89709833e-07,  1.00031348e+00,  4.58965484e-04],\n",
       "       [-1.28199423e-05,  4.58965484e-04,  2.11727328e-07]])\n",
       "      jac: array([ 1.16781250e+02,  2.18061812e+05, -8.40696531e+05])\n",
       "  message: 'Desired error not necessarily achieved due to precision loss.'\n",
       "     nfev: 333\n",
       "      nit: 1\n",
       "     njev: 81\n",
       "   status: 2\n",
       "  success: False\n",
       "        x: array([1.23905759e+04, 4.00657396e+00, 1.46157072e+00])"
      ]
     },
     "execution_count": 131,
     "metadata": {},
     "output_type": "execute_result"
    }
   ],
   "source": [
    "result"
   ]
  },
  {
   "cell_type": "markdown",
   "id": "d4a874e4-2240-4237-8677-ace5fc92448a",
   "metadata": {
    "tags": []
   },
   "source": [
    "### Optimizing for $v$"
   ]
  },
  {
   "cell_type": "code",
   "execution_count": 43,
   "id": "61a97816-bd12-4ee2-a37e-6c5dc90dd77b",
   "metadata": {},
   "outputs": [
    {
     "name": "stdout",
     "output_type": "stream",
     "text": [
      "mean of rho': 133.6623260857627\n",
      "std of rho': 11.561242410993842\n",
      "mean of v: -28386.48\n",
      "std of v: 8145820.5\n"
     ]
    }
   ],
   "source": [
    "print(\"mean of rho': \" + str(np.mean(rho_grad + np.square(rho_grad))))\n",
    "print(\"std of rho': \" + str(np.std(rho_grad)))\n",
    "print(\"mean of v: \" + str(np.mean(baryon_vel)))\n",
    "print(\"std of v: \" + str(np.std(baryon_vel)))"
   ]
  },
  {
   "cell_type": "code",
   "execution_count": 226,
   "id": "78ee956a-3c61-4386-ace9-47da23d8336d",
   "metadata": {},
   "outputs": [],
   "source": [
    "guess = (1e5, 1, 0) # initial guess"
   ]
  },
  {
   "cell_type": "code",
   "execution_count": 227,
   "id": "5c35d518-6259-4fca-8e2a-948842bf9cbf",
   "metadata": {
    "tags": []
   },
   "outputs": [
    {
     "name": "stdout",
     "output_type": "stream",
     "text": [
      "Warning: Desired error not necessarily achieved due to precision loss.\n",
      "         Current function value: 32703219700554.289062\n",
      "         Iterations: 3\n",
      "         Function evaluations: 44\n",
      "         Gradient evaluations: 11\n"
     ]
    }
   ],
   "source": [
    "#  after  iterations\n",
    "\n",
    "options = {'maxiter': 100, 'disp': True}\n",
    "result = scipy.optimize.minimize(obj_fn, guess, args=('v'), options = options)"
   ]
  },
  {
   "cell_type": "code",
   "execution_count": 228,
   "id": "d1d6e211-8444-4cbc-b98c-24bc3c280123",
   "metadata": {
    "tags": []
   },
   "outputs": [
    {
     "data": {
      "text/plain": [
       "32862422210081.207"
      ]
     },
     "execution_count": 228,
     "metadata": {},
     "output_type": "execute_result"
    }
   ],
   "source": [
    "# previous value of objective function\n",
    "guess = (1e5, 1, 1e-4)\n",
    "obj_fn(guess, 'v')"
   ]
  },
  {
   "cell_type": "code",
   "execution_count": 229,
   "id": "204bfd4a-8339-40e0-9d66-d3641c669b7b",
   "metadata": {
    "tags": []
   },
   "outputs": [
    {
     "data": {
      "text/plain": [
       "      fun: 32703219700554.29\n",
       " hess_inv: array([[ 1.29435975e-01,  6.38913041e-09, -6.38919036e-09],\n",
       "       [ 6.38913041e-09,  1.71828189e-14, -1.71823068e-14],\n",
       "       [-6.38919036e-09, -1.71823068e-14,  1.71823085e-14]])\n",
       "      jac: array([      0.,       0., -524288.])\n",
       "  message: 'Desired error not necessarily achieved due to precision loss.'\n",
       "     nfev: 44\n",
       "      nit: 3\n",
       "     njev: 11\n",
       "   status: 2\n",
       "  success: False\n",
       "        x: array([ 1.00000000e+05,  4.11546475e-01, -6.55984891e-02])"
      ]
     },
     "execution_count": 229,
     "metadata": {},
     "output_type": "execute_result"
    }
   ],
   "source": [
    "result"
   ]
  },
  {
   "cell_type": "markdown",
   "id": "2600f9d7-f915-4ef8-bfa7-1117c53c5a25",
   "metadata": {},
   "source": [
    "### Plot fitted vs. original v (1D)"
   ]
  },
  {
   "cell_type": "code",
   "execution_count": 232,
   "id": "c2147fb7-73ed-4dda-ab19-97d43cbb5520",
   "metadata": {},
   "outputs": [
    {
     "data": {
      "text/plain": [
       "TensorShape([1024])"
      ]
     },
     "execution_count": 232,
     "metadata": {},
     "output_type": "execute_result"
    }
   ],
   "source": [
    "v0, a, b = result.x\n",
    "\n",
    "pred_v = bary_model_v(v0, a, b)\n",
    "pred_v.shape"
   ]
  },
  {
   "cell_type": "code",
   "execution_count": 253,
   "id": "de26b00f-35a4-4026-bc14-d798825b4a00",
   "metadata": {},
   "outputs": [],
   "source": [
    "skewer = scipy.ndimage.gaussian_filter1d(rho_grad[512,:] * 1e6, sigma=2.5)"
   ]
  },
  {
   "cell_type": "code",
   "execution_count": 254,
   "id": "0c4c697f-8113-43dd-8e5c-45dd7c83f4d4",
   "metadata": {},
   "outputs": [
    {
     "data": {
      "image/png": "[encoded data removed]",
      "text/plain": [
       "<Figure size 640x480 with 1 Axes>"
      ]
     },
     "metadata": {},
     "output_type": "display_data"
    }
   ],
   "source": [
    "plt.plot(np.asarray(skewer), label=\"rho_grad skewer\")\n",
    "plt.plot(np.asarray(vel_train[512,:]), label=\"true v\")\n",
    "\n",
    "#plt.plot(np.asarray(pred_v), label=\"pred v\")\n",
    "\n",
    "plt.legend()\n",
    "plt.show()"
   ]
  },
  {
   "cell_type": "markdown",
   "id": "df28d08f-e0d1-49f7-96fe-e2a6e82ea728",
   "metadata": {},
   "source": [
    "### Plot fitted vs. original v (2D)"
   ]
  },
  {
   "cell_type": "code",
   "execution_count": 203,
   "id": "ca834991-06ac-4054-9c9f-2f89da1d98d1",
   "metadata": {},
   "outputs": [
    {
     "data": {
      "text/plain": [
       "<matplotlib.colorbar.Colorbar at 0x2ab125cf4450>"
      ]
     },
     "execution_count": 203,
     "metadata": {},
     "output_type": "execute_result"
    }
   ],
   "source": [
    "#rho_grad_blurred = tf.squeeze(gaussian_blur(rho_grad, 40, 20))\n",
    "\n",
    "plt.imshow(rho_grad, vmin=-1, vmax=1)\n",
    "plt.colorbar()\n",
    "#plt.show()"
   ]
  },
  {
   "cell_type": "code",
   "execution_count": null,
   "id": "f87684ac-ef20-454f-b78c-e77a86e47cf4",
   "metadata": {},
   "outputs": [],
   "source": [
    "v0, sig_v, a, b = \\\n",
    "    1e7, 10, 1, 0\n",
    "fitted_v = bary_model_v(v0, sig_v, a, b)\n",
    "#print(np.min(fitted_v))\n",
    "\n",
    "\n",
    "# plt.imshow(vel_train)\n",
    "# plt.title(\"true v\")\n",
    "# plt.colorbar()\n",
    "# plt.show()\n",
    "\n",
    "sig = 10\n",
    "vel_train = tf.cast(vel_train, 'float64')\n",
    "blurred_vel = gaussian_blur(vel_train, sig*2, sig)\n",
    "blurred_vel = tf.squeeze(blurred_vel)\n",
    "plt.imshow(blurred_vel)\n",
    "plt.title(\"blurred v\")\n",
    "plt.colorbar()\n",
    "plt.show()\n",
    "\n",
    "#rho_grad = tf.cast(rho_grad, 'float64')\n",
    "rho_grad_blurred = tf.squeeze(gaussian_blur(rho_grad, 40, 20))\n",
    "\n",
    "plt.imshow(rho_grad_blurred + 1e-5*np.square(rho_grad_blurred))\n",
    "plt.title(\"formula with rho_grad_blurred\")\n",
    "plt.colorbar()\n",
    "plt.show()\n",
    "\n",
    "# plt.imshow(fitted_v)\n",
    "# plt.title(\"fitted v\")\n",
    "# plt.colorbar()\n",
    "# plt.show()"
   ]
  },
  {
   "cell_type": "code",
   "execution_count": null,
   "id": "642f51b8-ad81-45dc-9929-48cfa9791f65",
   "metadata": {},
   "outputs": [],
   "source": []
  }
 ],
 "metadata": {
  "kernelspec": {
   "display_name": "Lya-TF",
   "language": "python",
   "name": "lya-tf"
  },
  "language_info": {
   "codemirror_mode": {
    "name": "ipython",
    "version": 3
   },
   "file_extension": ".py",
   "mimetype": "text/x-python",
   "name": "python",
   "nbconvert_exporter": "python",
   "pygments_lexer": "ipython3",
   "version": "3.7.10"
  }
 },
 "nbformat": 4,
 "nbformat_minor": 5
}
