{
 "cells": [
  {
   "cell_type": "code",
   "execution_count": 1,
   "id": "931197dd-56e5-4129-b911-9cc9fd21ab2b",
   "metadata": {},
   "outputs": [],
   "source": [
    "import h5py\n",
    "import numpy as np\n",
    "import matplotlib as mpl\n",
    "import matplotlib.pyplot as plt\n",
    "import tensorflow as tf"
   ]
  },
  {
   "cell_type": "markdown",
   "id": "ef71de85-432e-4391-b865-d05ba73f35a2",
   "metadata": {},
   "source": [
    "## Load in the fields"
   ]
  },
  {
   "cell_type": "code",
   "execution_count": 2,
   "id": "970151b7-da70-4b3a-9cf9-dfe36b6e7034",
   "metadata": {},
   "outputs": [],
   "source": [
    "# contains the simulation's native fields \n",
    "sim_path = \"../../../../../cscratch1/sd/jupiter/sim2_z3_FGPA_cgs.h5\"\n",
    "\n",
    "# dimensions of each tf-derived field\n",
    "shape = [2, 2, 1024]\n",
    "# string representing the subsection's dimensions, e.g. '4x4x4'\n",
    "dims_str = str(shape[0]) + 'x' + str(shape[1]) + 'x' + str(shape[2])\n",
    "\n",
    "device_name = tf.test.gpu_device_name()\n",
    "if device_name == '/device:GPU:0':\n",
    "    dims_str += 'gpu'\n",
    "\n",
    "# the fields computed by lya_fields.py\n",
    "tf_path = \"results/tf_fields\" + dims_str + \".h5\"\n",
    "\n",
    "h5_sim = h5py.File(sim_path,'r')\n",
    "h5_tf = h5py.File(tf_path,'r')"
   ]
  },
  {
   "cell_type": "code",
   "execution_count": 3,
   "id": "10eca426-d06f-4f46-b09c-7888faf0d4f8",
   "metadata": {},
   "outputs": [],
   "source": [
    "# h5_tf.keys()\n",
    "\n",
    "# test slices\n",
    "# x = np.arange(12).reshape(2,3,2)\n",
    "# inds = (0, slice(1,2), slice(0,2))\n",
    "# x[inds]"
   ]
  },
  {
   "cell_type": "code",
   "execution_count": 4,
   "id": "5ceb6e15-b57d-4870-a6fa-faccc2e6b548",
   "metadata": {},
   "outputs": [],
   "source": [
    "# take a cross-section parallel to the yz-plane\n",
    "inds = (0, slice(0, shape[1]), slice(0, shape[2]))\n",
    "\n",
    "treal = h5_tf['tau_real'][inds]\n",
    "tred = h5_tf['tau_red'][inds]\n",
    "n_hi = h5_tf['nhi'][inds]\n",
    "\n",
    "rhob = h5_sim['native_fields']['baryon_density'][inds]\n",
    "temp = h5_sim['native_fields']['temperature'][inds]\n",
    "vel = h5_sim['native_fields']['velocity_z'][inds]"
   ]
  },
  {
   "cell_type": "code",
   "execution_count": 5,
   "id": "788120a3-8efe-4c1c-b255-25de2e9dca74",
   "metadata": {},
   "outputs": [],
   "source": [
    "# try plotting one slice\n",
    "# plt.imshow(n_hi, cmap='coolwarm')\n",
    "# plt.colorbar()\n",
    "\n",
    "# plt.show()"
   ]
  },
  {
   "cell_type": "markdown",
   "id": "419aaa9d-8b57-44e5-91fe-6177b148f0bb",
   "metadata": {},
   "source": [
    "## Plot cross-sections"
   ]
  },
  {
   "cell_type": "code",
   "execution_count": null,
   "id": "1c93fb12-f421-4d5b-aec1-6831608129a2",
   "metadata": {},
   "outputs": [],
   "source": [
    "# plot the six slices\n",
    "fig, axes = plt.subplots(3, 2, figsize=(16,24))\n",
    "\n",
    "im1 = axes[0,0].imshow(np.log(rhob), cmap='Blues')\n",
    "axes[0,0].set_title(\"log(rhob)\")\n",
    "fig.colorbar(im1, ax=axes[0,0])\n",
    "\n",
    "im2 = axes[0,1].imshow(np.log(temp), cmap='inferno')\n",
    "axes[0,1].set_title(\"log(temp)\")\n",
    "fig.colorbar(im2, ax=axes[0,1])\n",
    "\n",
    "im3 = axes[1,0].imshow(vel, cmap='coolwarm')\n",
    "axes[1,0].set_title(\"vel_z\")\n",
    "fig.colorbar(im3, ax=axes[1,0])\n",
    "\n",
    "im4 = axes[1,1].imshow(np.log(n_hi), cmap='Oranges')\n",
    "axes[1,1].set_title(\"log(n_hi)\")\n",
    "fig.colorbar(im4, ax=axes[1,1])\n",
    "\n",
    "im5 = axes[2,0].imshow(np.log(treal), cmap='viridis')\n",
    "axes[2,0].set_title(\"log(treal)\")\n",
    "fig.colorbar(im5, ax=axes[2,0])\n",
    "\n",
    "im6 = axes[2,1].imshow(np.log(tred), cmap='cividis')\n",
    "axes[2,1].set_title(\"log(tred)\")\n",
    "fig.colorbar(im6, ax=axes[2,1])\n",
    "\n",
    "plt.show()"
   ]
  },
  {
   "cell_type": "code",
   "execution_count": null,
   "id": "e29dbd14-c9bc-430b-bf62-cd9f6a2622d5",
   "metadata": {},
   "outputs": [],
   "source": [
    "# for 4x4x4, check that treal and tred don't have uniform rows\n",
    "# print(treal)\n",
    "# print(tred)"
   ]
  },
  {
   "cell_type": "markdown",
   "id": "5fa95388-6a9d-49a7-bb4d-6cad7eed249a",
   "metadata": {},
   "source": [
    "## Compare these results with Gimlet results"
   ]
  },
  {
   "cell_type": "code",
   "execution_count": 5,
   "id": "354ef631-91d4-4b39-8ae0-3f6ccedf5cee",
   "metadata": {},
   "outputs": [],
   "source": [
    "# h5_sim also contains the Gimlet-derived fields\n",
    "\n",
    "treal_g = h5_sim['derived_fields']['tau_real'][inds]\n",
    "tred_g = h5_sim['derived_fields']['tau_red'][inds]\n",
    "n_hi_g = h5_sim['derived_fields']['HI_number_density'][inds]"
   ]
  },
  {
   "cell_type": "code",
   "execution_count": null,
   "id": "0a66826e-5c08-49ee-a54b-84fc37513ae9",
   "metadata": {},
   "outputs": [],
   "source": [
    "# plot the six slices \n",
    "fig, axes = plt.subplots(3, 2, figsize=(16,24))\n",
    "\n",
    "n_min = -28\n",
    "n_max = -21\n",
    "t_min = -4\n",
    "t_max = 1\n",
    "\n",
    "im1 = axes[0,0].imshow(np.log(n_hi), vmin=n_min, vmax=n_max, cmap='Oranges')\n",
    "axes[0,0].set_title(\"log(n_hi) (TF)\")\n",
    "fig.colorbar(im1, ax=axes[0,0])\n",
    "\n",
    "im2 = axes[0,1].imshow(np.log(n_hi_g), vmin=n_min, vmax=n_max, cmap='Oranges')\n",
    "axes[0,1].set_title(\"log(n_hi) (Gimlet)\")\n",
    "fig.colorbar(im2, ax=axes[0,1])\n",
    "\n",
    "im3 = axes[1,0].imshow(np.log(treal), vmin=t_min, vmax=t_max, cmap='viridis')\n",
    "axes[1,0].set_title(\"log(treal) (TF)\")\n",
    "fig.colorbar(im3, ax=axes[1,0])\n",
    "\n",
    "im4 = axes[1,1].imshow(np.log(treal_g), vmin=t_min, vmax=t_max, cmap='viridis')\n",
    "axes[1,1].set_title(\"log(treal) (Gimlet)\")\n",
    "fig.colorbar(im4, ax=axes[1,1])\n",
    "\n",
    "im5 = axes[2,0].imshow(np.log(tred), vmin=t_min, vmax=t_max, cmap='cividis')\n",
    "axes[2,0].set_title(\"log(tred) (TF)\")\n",
    "fig.colorbar(im5, ax=axes[2,0])\n",
    "\n",
    "im6 = axes[2,1].imshow(np.log(tred_g), vmin=t_min, vmax=t_max, cmap='cividis')\n",
    "axes[2,1].set_title(\"log(tred) (Gimlet)\")\n",
    "fig.colorbar(im6, ax=axes[2,1])\n",
    "\n",
    "plt.show()"
   ]
  },
  {
   "cell_type": "markdown",
   "id": "7a0300f0-8b70-4aa7-aab2-0cb7d4c60d22",
   "metadata": {},
   "source": [
    "### 1D plots of tau and flux error"
   ]
  },
  {
   "cell_type": "code",
   "execution_count": 9,
   "id": "4bd2ff7c-8035-4c55-bc8e-589732e5c047",
   "metadata": {},
   "outputs": [
    {
     "data": {
      "image/png": "[encoded data removed]",
      "text/plain": [
       "<Figure size 720x432 with 1 Axes>"
      ]
     },
     "metadata": {
      "needs_background": "light"
     },
     "output_type": "display_data"
    },
    {
     "data": {
      "image/png": "[encoded data removed]",
      "text/plain": [
       "<Figure size 720x432 with 1 Axes>"
      ]
     },
     "metadata": {
      "needs_background": "light"
     },
     "output_type": "display_data"
    }
   ],
   "source": [
    "# take one skewer\n",
    "skew_inds = (1, slice(0, shape[2]))\n",
    "\n",
    "plt.figure(figsize=(10,6))\n",
    "plt.plot(range(1024), np.log10(treal[skew_inds]), label='This method')\n",
    "plt.plot(range(1024), np.log10(treal_g[skew_inds]), label='Gimlet')\n",
    "\n",
    "plt.title(r'log10($\\tau$) from this method and Gimlet')\n",
    "plt.xlabel('index')\n",
    "plt.ylabel(r'log10($\\tau$)')\n",
    "plt.legend()\n",
    "plt.show()\n",
    "\n",
    "# fractional error in flux\n",
    "flux_error = (np.exp(-treal)-np.exp(-treal_g)) / np.exp(-treal_g)\n",
    "plt.figure(figsize=(10,6))\n",
    "plt.plot(range(1024), flux_error[0,:])\n",
    "\n",
    "plt.title('fractional error in flux')\n",
    "plt.xlabel('index')\n",
    "plt.ylabel('flux error')\n",
    "#plt.legend()\n",
    "plt.show()"
   ]
  },
  {
   "cell_type": "markdown",
   "id": "8fa0b288-ed3f-4470-8124-0c77d9da9bad",
   "metadata": {},
   "source": [
    "## Plotting residuals"
   ]
  },
  {
   "cell_type": "markdown",
   "id": "06944a0f-5a95-4f1e-883b-c06210e15cfd",
   "metadata": {},
   "source": [
    "Using Symlog with imshow: https://stackoverflow.com/questions/11138706/colorbar-for-imshow-centered-on-0-and-with-symlog-scale"
   ]
  },
  {
   "cell_type": "code",
   "execution_count": 53,
   "id": "cca3da68-fb79-4b76-99b7-ed20c18d40e6",
   "metadata": {},
   "outputs": [
    {
     "name": "stdout",
     "output_type": "stream",
     "text": [
      "-15\n",
      "-16\n"
     ]
    }
   ],
   "source": [
    "for i in range(-15, -17, -1):\n",
    "    print(i)"
   ]
  },
  {
   "cell_type": "code",
   "execution_count": 54,
   "id": "990ffc2b-c366-4110-a57b-52d975f3e651",
   "metadata": {
    "tags": []
   },
   "outputs": [],
   "source": [
    "def imshow_symlog(my_matrix, vmin, vmax, cmap, logthresh=5):\n",
    "    plt.figure(figsize=(6,6))\n",
    "    \n",
    "    plt.imshow( my_matrix, cmap=cmap,\n",
    "                vmin=float(vmin), vmax=float(vmax),\n",
    "                norm=mpl.colors.SymLogNorm(10**-logthresh) )\n",
    "\n",
    "    maxlog=int(np.ceil( np.log10(vmax) ))\n",
    "    minlog=int(np.ceil( np.log10(-vmin) ))\n",
    "\n",
    "    #generate logarithmic ticks \n",
    "    tick_locations=([-(10**x) for x in range(-logthresh, minlog - 2, -1)] # -16, -19, -1\n",
    "                     +[0.0]\n",
    "                     +[(10**x) for x in range(-logthresh, maxlog - 2, -1)] ) # -16, -19, -1\n",
    "    #print(tick_locations)\n",
    "\n",
    "    cbar = plt.colorbar(ticks=tick_locations)\n",
    "    \n",
    "    plt.title('n_hi_g - n_hi')\n",
    "    #cbar.ax.set_yticklabels(np.log10(tick_locations))"
   ]
  },
  {
   "cell_type": "code",
   "execution_count": null,
   "id": "9f8ee13e-ee5d-48bf-af19-c34813c6c71a",
   "metadata": {},
   "outputs": [],
   "source": [
    "print('n_hi_g minimum:', np.min(n_hi_g))\n",
    "print('n_hi_g - n_hi maximum:', np.max(n_hi_g - n_hi))\n",
    "print('n_hi_g - n_hi minimum:', np.min(n_hi_g - n_hi))\n",
    "print('average absolute error in n:', np.mean(np.abs(n_hi_g - n_hi)))"
   ]
  },
  {
   "cell_type": "code",
   "execution_count": null,
   "id": "cf1b3a0f-5cce-42ea-9277-81966c0ccc13",
   "metadata": {},
   "outputs": [],
   "source": [
    "v = 1e-16\n",
    "resid = n_hi_g - n_hi\n",
    "\n",
    "imshow_symlog(resid[:, :100], -v, v, cmap='Oranges', logthresh=13)"
   ]
  },
  {
   "cell_type": "code",
   "execution_count": null,
   "id": "1073c6e9-d2c7-4fa9-80e7-819e0984add8",
   "metadata": {
    "tags": []
   },
   "outputs": [],
   "source": [
    "v = 1e-1\n",
    "resid = treal_g - treal\n",
    "\n",
    "print('residual min:', np.min(resid))\n",
    "print('residual max:', np.max(resid))\n",
    "print('average absolute error in t_real:', np.mean(np.abs(resid)))\n",
    "\n",
    "### plot the full residuals field\n",
    "# fig = plt.figure(figsize=(14,6))\n",
    "# plt.imshow(resid, cmap='viridis', vmin=-v, vmax=v, norm=mpl.colors.SymLogNorm(10**-2))\n",
    "# plt.colorbar(ticks=[-v, 0, v])\n",
    "# plt.title('treal_g - treal')\n",
    "# plt.show()\n",
    "\n",
    "### plot opposite ends of the residuals field\n",
    "# fig = plt.figure(figsize=(14,4))\n",
    "# plt.imshow(resid[:,:100], cmap='viridis', vmin=-v, vmax=v, norm=mpl.colors.SymLogNorm(v))\n",
    "# plt.colorbar(ticks=[-v, 0, v])\n",
    "# plt.title('treal_g - treal (left)')\n",
    "# plt.show()\n",
    "\n",
    "# fig = plt.figure(figsize=(14,4))\n",
    "# plt.imshow(resid[:,-100:], cmap='viridis', vmin=-v, vmax=v, norm=mpl.colors.SymLogNorm(v))\n",
    "# plt.colorbar(ticks=[-v, 0, v])\n",
    "# plt.title('treal_g - treal (right)')\n",
    "# plt.show()\n",
    "\n",
    "### 1D plot of the residuals along a skewer\n",
    "# plt.figure(figsize=(10,6))\n",
    "# plt.plot(range(1024), np.log10(np.abs(resid[skew_inds])))\n",
    "\n",
    "# plt.title('log10(|treal_g - treal|)')\n",
    "# plt.xlabel('index')\n",
    "# plt.ylabel('log10(absolute error)')\n",
    "# plt.show()"
   ]
  },
  {
   "cell_type": "code",
   "execution_count": null,
   "id": "ec19dfb1-7c7c-4811-b6b2-da949ab19ced",
   "metadata": {},
   "outputs": [],
   "source": [
    "v = 1e-1\n",
    "resid = tred_g - tred\n",
    "\n",
    "print('residual min:', np.min(resid))\n",
    "print('residual max:', np.max(resid))\n",
    "print('average absolute error in t_red:', np.mean(np.abs(resid)))\n",
    "\n",
    "### plot the full residuals field\n",
    "# fig = plt.figure(figsize=(14,6))\n",
    "# plt.imshow(resid, cmap='cividis', vmin=-v, vmax=v, norm=mpl.colors.SymLogNorm(10**-2))\n",
    "# plt.colorbar(ticks=[-v, 0, v])\n",
    "# plt.title('tred_g - tred')\n",
    "# plt.show()\n",
    "\n",
    "fig = plt.figure(figsize=(14,6))\n",
    "plt.imshow(resid[:,:100], cmap='cividis', vmin=-v, vmax=v, norm=mpl.colors.SymLogNorm(v))\n",
    "plt.colorbar(ticks=[-v, 0, v])\n",
    "plt.title('tred_g - tred (left)')\n",
    "plt.show()\n",
    "\n",
    "fig = plt.figure(figsize=(14,6))\n",
    "plt.imshow(resid[:,-100:], cmap='cividis', vmin=-v, vmax=v, norm=mpl.colors.SymLogNorm(v))\n",
    "plt.colorbar(ticks=[-v, 0, v])\n",
    "plt.title('tred_g - tred (right)')\n",
    "plt.show()"
   ]
  },
  {
   "cell_type": "code",
   "execution_count": null,
   "id": "032181e7-13c5-4f7e-9d13-dce25312b4c2",
   "metadata": {},
   "outputs": [],
   "source": [
    "## plot the \"residuals\" log(n_hi_g / n_hi)\n",
    "# fig, axes = plt.subplots(1, 3, figsize=(18,6))\n",
    "\n",
    "# im1 = axes[0].imshow(np.log(n_hi_g) - np.log(n_hi), cmap='Oranges')\n",
    "# axes[0].set_title(\"log(n_hi_g) - log(n_hi)\")\n",
    "# fig.colorbar(im1, ax=axes[0])\n",
    "\n",
    "# im2 = axes[1].imshow(np.log(treal_g) - np.log(treal), cmap='viridis')\n",
    "# axes[1].set_title(\"log(treal_g) - log(treal)\")\n",
    "# fig.colorbar(im2, ax=axes[1])\n",
    "\n",
    "# im3 = axes[2].imshow(np.log(tred_g) - np.log(tred), cmap='cividis')\n",
    "# axes[2].set_title(\"log(tred_g) - log(tred)\")\n",
    "# fig.colorbar(im3, ax=axes[2])\n",
    "\n",
    "# plt.show()"
   ]
  },
  {
   "cell_type": "markdown",
   "id": "a43a5caa-a7a3-4b45-b820-7e346828ada2",
   "metadata": {},
   "source": [
    "## Close HDF5 files"
   ]
  },
  {
   "cell_type": "code",
   "execution_count": 12,
   "id": "b53f87da-93c3-4a95-b5f1-01c0f80d17d0",
   "metadata": {},
   "outputs": [],
   "source": [
    "h5_sim.close()\n",
    "h5_tf.close()"
   ]
  },
  {
   "cell_type": "code",
   "execution_count": 13,
   "id": "8d16fc5e-9459-4d87-8e2e-b4851c00e0ca",
   "metadata": {
    "tags": []
   },
   "outputs": [
    {
     "data": {
      "text/plain": [
       "0.015028582076322171"
      ]
     },
     "execution_count": 13,
     "metadata": {},
     "output_type": "execute_result"
    }
   ],
   "source": [
    "np.min(tred)"
   ]
  },
  {
   "cell_type": "code",
   "execution_count": null,
   "id": "0ab6ced6-17a5-442d-ae5b-892a2d60dddd",
   "metadata": {},
   "outputs": [],
   "source": []
  }
 ],
 "metadata": {
  "kernelspec": {
   "display_name": "Lya-TF",
   "language": "python",
   "name": "lya-tf"
  },
  "language_info": {
   "codemirror_mode": {
    "name": "ipython",
    "version": 3
   },
   "file_extension": ".py",
   "mimetype": "text/x-python",
   "name": "python",
   "nbconvert_exporter": "python",
   "pygments_lexer": "ipython3",
   "version": "3.7.10"
  }
 },
 "nbformat": 4,
 "nbformat_minor": 5
}
