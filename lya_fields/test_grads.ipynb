{
 "cells": [
  {
   "cell_type": "code",
   "execution_count": 1,
   "id": "eb8a6d5a-e13e-4ced-9d53-d883778a140d",
   "metadata": {
    "tags": []
   },
   "outputs": [],
   "source": [
    "import tensorflow as tf\n",
    "\n",
    "import matplotlib as mpl\n",
    "import matplotlib.pyplot as plt"
   ]
  },
  {
   "cell_type": "markdown",
   "id": "19ee71f2-a490-4a40-88e5-d5d74078612d",
   "metadata": {},
   "source": [
    "# lya_fields.py"
   ]
  },
  {
   "cell_type": "code",
   "execution_count": 2,
   "id": "63230a75-dc52-400f-b0b9-b44b2c1bc029",
   "metadata": {
    "tags": []
   },
   "outputs": [],
   "source": [
    "import numpy as np\n",
    "import tensorflow as tf\n",
    "\n",
    "# local modules\n",
    "import grid\n",
    "import lya_fields\n",
    "import snapshot\n",
    "from spectrum import gmlt_spec_od_grid\n",
    "\n",
    "# define dataset paths\n",
    "ds_path_rhob = \"/native_fields/baryon_density\"\n",
    "ds_path_temp = \"/native_fields/temperature\"\n",
    "ds_path_vx   = \"/native_fields/velocity_x\"\n",
    "ds_path_vy   = \"/native_fields/velocity_y\"\n",
    "ds_path_vz   = \"/native_fields/velocity_z\"\n",
    "\n",
    "ds_path_nhi      = \"/derived_fields/HI_number_density\"\n",
    "ds_path_tau_real = \"/derived_fields/tau_real\"\n",
    "ds_path_tau_red  = \"/derived_fields/tau_red\"\n",
    "\n",
    "filename = \"../../../../../cscratch1/sd/jupiter/sim2_z3_FGPA_cgs.h5\"\n",
    "snap = snapshot.Snapshot(filename)"
   ]
  },
  {
   "cell_type": "markdown",
   "id": "2adddcb9-71d1-4b18-aab3-7c97ae4bafe8",
   "metadata": {},
   "source": [
    "## Compute $n_\\text{H I}$ (1024^2 grid)"
   ]
  },
  {
   "cell_type": "code",
   "execution_count": 3,
   "id": "0a7c037d-0d53-421f-82b7-a268f795add4",
   "metadata": {},
   "outputs": [],
   "source": [
    "# subsection shape\n",
    "shape = [1, 1024, 1024]\n",
    "\n",
    "rhob = snap.read_subfield(ds_path_rhob, shape)\n",
    "temp = snap.read_subfield(ds_path_temp, shape)"
   ]
  },
  {
   "cell_type": "code",
   "execution_count": 4,
   "id": "c3e624b0-97f4-448e-a70b-29e9ebc10732",
   "metadata": {},
   "outputs": [
    {
     "name": "stdout",
     "output_type": "stream",
     "text": [
      "EOS duration: 7.031138181686401\n"
     ]
    }
   ],
   "source": [
    "# get the nhi grid\n",
    "with tf.GradientTape(persistent=True) as tape:\n",
    "    \n",
    "#     tape.watch(rhob.field)\n",
    "#     tape.watch(temp.field)\n",
    "\n",
    "    nhi = lya_fields.set_nhi(snap, rhob, temp)"
   ]
  },
  {
   "cell_type": "code",
   "execution_count": 5,
   "id": "95c79dc7-c0f9-4b33-bc66-235c621b5c10",
   "metadata": {
    "tags": []
   },
   "outputs": [
    {
     "name": "stdout",
     "output_type": "stream",
     "text": [
      "interp.dfitpack.bispeu works!\n",
      "fake_rho: tf.Tensor([-20 -19], shape=(2,), dtype=int32)\n",
      "fake_rho type: <class 'tensorflow.python.framework.ops.EagerTensor'>\n",
      "fake_rho shape: tf.Tensor([2], shape=(1,), dtype=int32)\n",
      "compute_dn_dlogx works on 1D tensors!\n",
      "interp.dfitpack.bispeu works!\n",
      "fake_rho: tf.Tensor([-20 -19], shape=(2,), dtype=int32)\n",
      "fake_rho type: <class 'tensorflow.python.framework.ops.EagerTensor'>\n",
      "fake_rho shape: tf.Tensor([2], shape=(1,), dtype=int32)\n",
      "compute_dn_dlogx works on 1D tensors!\n"
     ]
    }
   ],
   "source": [
    "#print(\"nhi's shape:\", tf.shape(nhi.field))\n",
    "dn_dr = tape.gradient(nhi.field, rhob.field)\n",
    "dn_dt = tape.gradient(nhi.field, temp.field)"
   ]
  },
  {
   "cell_type": "markdown",
   "id": "032fbd47-c059-4ebd-84cd-21d1ad8d3247",
   "metadata": {},
   "source": [
    "### test jacobian"
   ]
  },
  {
   "cell_type": "code",
   "execution_count": 6,
   "id": "392e1ca8-6b83-4ea2-ba77-088ec3d3b65f",
   "metadata": {},
   "outputs": [
    {
     "data": {
      "text/plain": [
       "tensorflow.python.framework.ops.EagerTensor"
      ]
     },
     "execution_count": 6,
     "metadata": {},
     "output_type": "execute_result"
    }
   ],
   "source": [
    "type(tf.constant(1))"
   ]
  },
  {
   "cell_type": "code",
   "execution_count": 8,
   "id": "7844e7b8-6270-450f-96d5-0e051e8c237e",
   "metadata": {
    "collapsed": true,
    "jupyter": {
     "outputs_hidden": true
    },
    "tags": []
   },
   "outputs": [
    {
     "name": "stdout",
     "output_type": "stream",
     "text": [
      "Error: interp.dfitpack.bispeu doesn't work\n",
      "<class 'TypeError'>\n",
      "fake_rho: Tensor(\"loop_body/Const:0\", shape=(2,), dtype=int32)\n",
      "fake_rho type: <class 'tensorflow.python.framework.ops.Tensor'>\n",
      "fake_rho shape: Tensor(\"loop_body/Shape:0\", shape=(1,), dtype=int32)\n",
      "Error: compute_dn_dlogx doesn't work on 1D tensors\n",
      "<class 'TypeError'>\n"
     ]
    },
    {
     "ename": "TypeError",
     "evalue": "in user code:\n\n    /global/homes/j/jupiter/.conda/envs/lya-tf/lib/python3.7/site-packages/tensorflow/python/ops/parallel_for/control_flow_ops.py:188 f  *\n        iters,\n    /global/homes/j/jupiter/.conda/envs/lya-tf/lib/python3.7/site-packages/tensorflow/python/ops/parallel_for/control_flow_ops.py:248 _pfor_impl  **\n        loop_fn_outputs = loop_fn(loop_var)\n    /global/homes/j/jupiter/.conda/envs/lya-tf/lib/python3.7/site-packages/tensorflow/python/eager/backprop.py:1324 loop_fn\n        unconnected_gradients=unconnected_gradients)\n    /global/homes/j/jupiter/.conda/envs/lya-tf/lib/python3.7/site-packages/tensorflow/python/eager/backprop.py:1086 gradient\n        unconnected_gradients=unconnected_gradients)\n    /global/homes/j/jupiter/.conda/envs/lya-tf/lib/python3.7/site-packages/tensorflow/python/eager/imperative_grad.py:77 imperative_grad\n        compat.as_str(unconnected_gradients.value))\n    /global/homes/j/jupiter/.conda/envs/lya-tf/lib/python3.7/site-packages/tensorflow/python/ops/custom_gradient.py:473 actual_grad_fn\n        input_grads = grad_fn(*result_grads)\n    /global/u2/j/jupiter/lya-tf/lya_fields/eos.py:199 grad\n        dn_dlogr = self.compute_dn_dlogx(self.flatten(log10_rhob), self.flatten(log10_temp), 'rhob')\n    /global/u2/j/jupiter/lya-tf/lya_fields/eos.py:122 compute_dn_dlogx\n        log10_rhob, log10_temp)[0]\n\n    TypeError: __array__() takes 1 positional argument but 2 were given\n",
     "output_type": "error",
     "traceback": [
      "\u001b[0;31m---------------------------------------------------------------------------\u001b[0m",
      "\u001b[0;31mTypeError\u001b[0m                                 Traceback (most recent call last)",
      "\u001b[0;32m<ipython-input-8-ede2e664977d>\u001b[0m in \u001b[0;36m<module>\u001b[0;34m\u001b[0m\n\u001b[1;32m      1\u001b[0m \u001b[0;31m# this throws an error\u001b[0m\u001b[0;34m\u001b[0m\u001b[0;34m\u001b[0m\u001b[0;34m\u001b[0m\u001b[0m\n\u001b[0;32m----> 2\u001b[0;31m \u001b[0mdn_dr_j\u001b[0m \u001b[0;34m=\u001b[0m \u001b[0mtape\u001b[0m\u001b[0;34m.\u001b[0m\u001b[0mbatch_jacobian\u001b[0m\u001b[0;34m(\u001b[0m\u001b[0mnhi\u001b[0m\u001b[0;34m.\u001b[0m\u001b[0mfield\u001b[0m\u001b[0;34m,\u001b[0m \u001b[0mrhob\u001b[0m\u001b[0;34m.\u001b[0m\u001b[0mfield\u001b[0m\u001b[0;34m)\u001b[0m\u001b[0;34m\u001b[0m\u001b[0;34m\u001b[0m\u001b[0m\n\u001b[0m\u001b[1;32m      3\u001b[0m \u001b[0;34m\u001b[0m\u001b[0m\n\u001b[1;32m      4\u001b[0m \u001b[0;31m# this prints a None gradient\u001b[0m\u001b[0;34m\u001b[0m\u001b[0;34m\u001b[0m\u001b[0;34m\u001b[0m\u001b[0m\n\u001b[1;32m      5\u001b[0m \u001b[0;31m# flat_nhi = tf.reshape(nhi.field, [1024**2])\u001b[0m\u001b[0;34m\u001b[0m\u001b[0;34m\u001b[0m\u001b[0;34m\u001b[0m\u001b[0m\n",
      "\u001b[0;32m~/.conda/envs/lya-tf/lib/python3.7/site-packages/tensorflow/python/eager/backprop.py\u001b[0m in \u001b[0;36mbatch_jacobian\u001b[0;34m(self, target, source, unconnected_gradients, parallel_iterations, experimental_use_pfor)\u001b[0m\n\u001b[1;32m   1327\u001b[0m       \u001b[0;32mtry\u001b[0m\u001b[0;34m:\u001b[0m\u001b[0;34m\u001b[0m\u001b[0;34m\u001b[0m\u001b[0m\n\u001b[1;32m   1328\u001b[0m         output = pfor_ops.pfor(loop_fn, target_row_size,\n\u001b[0;32m-> 1329\u001b[0;31m                                parallel_iterations=parallel_iterations)\n\u001b[0m\u001b[1;32m   1330\u001b[0m       \u001b[0;32mexcept\u001b[0m \u001b[0mValueError\u001b[0m \u001b[0;32mas\u001b[0m \u001b[0merr\u001b[0m\u001b[0;34m:\u001b[0m\u001b[0;34m\u001b[0m\u001b[0;34m\u001b[0m\u001b[0m\n\u001b[1;32m   1331\u001b[0m         six.reraise(\n",
      "\u001b[0;32m~/.conda/envs/lya-tf/lib/python3.7/site-packages/tensorflow/python/ops/parallel_for/control_flow_ops.py\u001b[0m in \u001b[0;36mpfor\u001b[0;34m(loop_fn, iters, fallback_to_while_loop, parallel_iterations)\u001b[0m\n\u001b[1;32m    203\u001b[0m       \u001b[0mdef_function\u001b[0m\u001b[0;34m.\u001b[0m\u001b[0mrun_functions_eagerly\u001b[0m\u001b[0;34m(\u001b[0m\u001b[0;32mFalse\u001b[0m\u001b[0;34m)\u001b[0m\u001b[0;34m\u001b[0m\u001b[0;34m\u001b[0m\u001b[0m\n\u001b[1;32m    204\u001b[0m     \u001b[0mf\u001b[0m \u001b[0;34m=\u001b[0m \u001b[0mdef_function\u001b[0m\u001b[0;34m.\u001b[0m\u001b[0mfunction\u001b[0m\u001b[0;34m(\u001b[0m\u001b[0mf\u001b[0m\u001b[0;34m)\u001b[0m\u001b[0;34m\u001b[0m\u001b[0;34m\u001b[0m\u001b[0m\n\u001b[0;32m--> 205\u001b[0;31m   \u001b[0moutputs\u001b[0m \u001b[0;34m=\u001b[0m \u001b[0mf\u001b[0m\u001b[0;34m(\u001b[0m\u001b[0;34m)\u001b[0m\u001b[0;34m\u001b[0m\u001b[0;34m\u001b[0m\u001b[0m\n\u001b[0m\u001b[1;32m    206\u001b[0m   \u001b[0;32mif\u001b[0m \u001b[0mfunctions_run_eagerly\u001b[0m \u001b[0;32mis\u001b[0m \u001b[0;32mnot\u001b[0m \u001b[0;32mNone\u001b[0m\u001b[0;34m:\u001b[0m\u001b[0;34m\u001b[0m\u001b[0;34m\u001b[0m\u001b[0m\n\u001b[1;32m    207\u001b[0m     \u001b[0mdef_function\u001b[0m\u001b[0;34m.\u001b[0m\u001b[0mrun_functions_eagerly\u001b[0m\u001b[0;34m(\u001b[0m\u001b[0mfunctions_run_eagerly\u001b[0m\u001b[0;34m)\u001b[0m\u001b[0;34m\u001b[0m\u001b[0;34m\u001b[0m\u001b[0m\n",
      "\u001b[0;32m~/.conda/envs/lya-tf/lib/python3.7/site-packages/tensorflow/python/eager/def_function.py\u001b[0m in \u001b[0;36m__call__\u001b[0;34m(self, *args, **kwds)\u001b[0m\n\u001b[1;32m    826\u001b[0m     \u001b[0mtracing_count\u001b[0m \u001b[0;34m=\u001b[0m \u001b[0mself\u001b[0m\u001b[0;34m.\u001b[0m\u001b[0mexperimental_get_tracing_count\u001b[0m\u001b[0;34m(\u001b[0m\u001b[0;34m)\u001b[0m\u001b[0;34m\u001b[0m\u001b[0;34m\u001b[0m\u001b[0m\n\u001b[1;32m    827\u001b[0m     \u001b[0;32mwith\u001b[0m \u001b[0mtrace\u001b[0m\u001b[0;34m.\u001b[0m\u001b[0mTrace\u001b[0m\u001b[0;34m(\u001b[0m\u001b[0mself\u001b[0m\u001b[0;34m.\u001b[0m\u001b[0m_name\u001b[0m\u001b[0;34m)\u001b[0m \u001b[0;32mas\u001b[0m \u001b[0mtm\u001b[0m\u001b[0;34m:\u001b[0m\u001b[0;34m\u001b[0m\u001b[0;34m\u001b[0m\u001b[0m\n\u001b[0;32m--> 828\u001b[0;31m       \u001b[0mresult\u001b[0m \u001b[0;34m=\u001b[0m \u001b[0mself\u001b[0m\u001b[0;34m.\u001b[0m\u001b[0m_call\u001b[0m\u001b[0;34m(\u001b[0m\u001b[0;34m*\u001b[0m\u001b[0margs\u001b[0m\u001b[0;34m,\u001b[0m \u001b[0;34m**\u001b[0m\u001b[0mkwds\u001b[0m\u001b[0;34m)\u001b[0m\u001b[0;34m\u001b[0m\u001b[0;34m\u001b[0m\u001b[0m\n\u001b[0m\u001b[1;32m    829\u001b[0m       \u001b[0mcompiler\u001b[0m \u001b[0;34m=\u001b[0m \u001b[0;34m\"xla\"\u001b[0m \u001b[0;32mif\u001b[0m \u001b[0mself\u001b[0m\u001b[0;34m.\u001b[0m\u001b[0m_experimental_compile\u001b[0m \u001b[0;32melse\u001b[0m \u001b[0;34m\"nonXla\"\u001b[0m\u001b[0;34m\u001b[0m\u001b[0;34m\u001b[0m\u001b[0m\n\u001b[1;32m    830\u001b[0m       \u001b[0mnew_tracing_count\u001b[0m \u001b[0;34m=\u001b[0m \u001b[0mself\u001b[0m\u001b[0;34m.\u001b[0m\u001b[0mexperimental_get_tracing_count\u001b[0m\u001b[0;34m(\u001b[0m\u001b[0;34m)\u001b[0m\u001b[0;34m\u001b[0m\u001b[0;34m\u001b[0m\u001b[0m\n",
      "\u001b[0;32m~/.conda/envs/lya-tf/lib/python3.7/site-packages/tensorflow/python/eager/def_function.py\u001b[0m in \u001b[0;36m_call\u001b[0;34m(self, *args, **kwds)\u001b[0m\n\u001b[1;32m    869\u001b[0m       \u001b[0;31m# This is the first call of __call__, so we have to initialize.\u001b[0m\u001b[0;34m\u001b[0m\u001b[0;34m\u001b[0m\u001b[0;34m\u001b[0m\u001b[0m\n\u001b[1;32m    870\u001b[0m       \u001b[0minitializers\u001b[0m \u001b[0;34m=\u001b[0m \u001b[0;34m[\u001b[0m\u001b[0;34m]\u001b[0m\u001b[0;34m\u001b[0m\u001b[0;34m\u001b[0m\u001b[0m\n\u001b[0;32m--> 871\u001b[0;31m       \u001b[0mself\u001b[0m\u001b[0;34m.\u001b[0m\u001b[0m_initialize\u001b[0m\u001b[0;34m(\u001b[0m\u001b[0margs\u001b[0m\u001b[0;34m,\u001b[0m \u001b[0mkwds\u001b[0m\u001b[0;34m,\u001b[0m \u001b[0madd_initializers_to\u001b[0m\u001b[0;34m=\u001b[0m\u001b[0minitializers\u001b[0m\u001b[0;34m)\u001b[0m\u001b[0;34m\u001b[0m\u001b[0;34m\u001b[0m\u001b[0m\n\u001b[0m\u001b[1;32m    872\u001b[0m     \u001b[0;32mfinally\u001b[0m\u001b[0;34m:\u001b[0m\u001b[0;34m\u001b[0m\u001b[0;34m\u001b[0m\u001b[0m\n\u001b[1;32m    873\u001b[0m       \u001b[0;31m# At this point we know that the initialization is complete (or less\u001b[0m\u001b[0;34m\u001b[0m\u001b[0;34m\u001b[0m\u001b[0;34m\u001b[0m\u001b[0m\n",
      "\u001b[0;32m~/.conda/envs/lya-tf/lib/python3.7/site-packages/tensorflow/python/eager/def_function.py\u001b[0m in \u001b[0;36m_initialize\u001b[0;34m(self, args, kwds, add_initializers_to)\u001b[0m\n\u001b[1;32m    724\u001b[0m     self._concrete_stateful_fn = (\n\u001b[1;32m    725\u001b[0m         self._stateful_fn._get_concrete_function_internal_garbage_collected(  # pylint: disable=protected-access\n\u001b[0;32m--> 726\u001b[0;31m             *args, **kwds))\n\u001b[0m\u001b[1;32m    727\u001b[0m \u001b[0;34m\u001b[0m\u001b[0m\n\u001b[1;32m    728\u001b[0m     \u001b[0;32mdef\u001b[0m \u001b[0minvalid_creator_scope\u001b[0m\u001b[0;34m(\u001b[0m\u001b[0;34m*\u001b[0m\u001b[0munused_args\u001b[0m\u001b[0;34m,\u001b[0m \u001b[0;34m**\u001b[0m\u001b[0munused_kwds\u001b[0m\u001b[0;34m)\u001b[0m\u001b[0;34m:\u001b[0m\u001b[0;34m\u001b[0m\u001b[0;34m\u001b[0m\u001b[0m\n",
      "\u001b[0;32m~/.conda/envs/lya-tf/lib/python3.7/site-packages/tensorflow/python/eager/function.py\u001b[0m in \u001b[0;36m_get_concrete_function_internal_garbage_collected\u001b[0;34m(self, *args, **kwargs)\u001b[0m\n\u001b[1;32m   2967\u001b[0m       \u001b[0margs\u001b[0m\u001b[0;34m,\u001b[0m \u001b[0mkwargs\u001b[0m \u001b[0;34m=\u001b[0m \u001b[0;32mNone\u001b[0m\u001b[0;34m,\u001b[0m \u001b[0;32mNone\u001b[0m\u001b[0;34m\u001b[0m\u001b[0;34m\u001b[0m\u001b[0m\n\u001b[1;32m   2968\u001b[0m     \u001b[0;32mwith\u001b[0m \u001b[0mself\u001b[0m\u001b[0;34m.\u001b[0m\u001b[0m_lock\u001b[0m\u001b[0;34m:\u001b[0m\u001b[0;34m\u001b[0m\u001b[0;34m\u001b[0m\u001b[0m\n\u001b[0;32m-> 2969\u001b[0;31m       \u001b[0mgraph_function\u001b[0m\u001b[0;34m,\u001b[0m \u001b[0m_\u001b[0m \u001b[0;34m=\u001b[0m \u001b[0mself\u001b[0m\u001b[0;34m.\u001b[0m\u001b[0m_maybe_define_function\u001b[0m\u001b[0;34m(\u001b[0m\u001b[0margs\u001b[0m\u001b[0;34m,\u001b[0m \u001b[0mkwargs\u001b[0m\u001b[0;34m)\u001b[0m\u001b[0;34m\u001b[0m\u001b[0;34m\u001b[0m\u001b[0m\n\u001b[0m\u001b[1;32m   2970\u001b[0m     \u001b[0;32mreturn\u001b[0m \u001b[0mgraph_function\u001b[0m\u001b[0;34m\u001b[0m\u001b[0;34m\u001b[0m\u001b[0m\n\u001b[1;32m   2971\u001b[0m \u001b[0;34m\u001b[0m\u001b[0m\n",
      "\u001b[0;32m~/.conda/envs/lya-tf/lib/python3.7/site-packages/tensorflow/python/eager/function.py\u001b[0m in \u001b[0;36m_maybe_define_function\u001b[0;34m(self, args, kwargs)\u001b[0m\n\u001b[1;32m   3359\u001b[0m \u001b[0;34m\u001b[0m\u001b[0m\n\u001b[1;32m   3360\u001b[0m           \u001b[0mself\u001b[0m\u001b[0;34m.\u001b[0m\u001b[0m_function_cache\u001b[0m\u001b[0;34m.\u001b[0m\u001b[0mmissed\u001b[0m\u001b[0;34m.\u001b[0m\u001b[0madd\u001b[0m\u001b[0;34m(\u001b[0m\u001b[0mcall_context_key\u001b[0m\u001b[0;34m)\u001b[0m\u001b[0;34m\u001b[0m\u001b[0;34m\u001b[0m\u001b[0m\n\u001b[0;32m-> 3361\u001b[0;31m           \u001b[0mgraph_function\u001b[0m \u001b[0;34m=\u001b[0m \u001b[0mself\u001b[0m\u001b[0;34m.\u001b[0m\u001b[0m_create_graph_function\u001b[0m\u001b[0;34m(\u001b[0m\u001b[0margs\u001b[0m\u001b[0;34m,\u001b[0m \u001b[0mkwargs\u001b[0m\u001b[0;34m)\u001b[0m\u001b[0;34m\u001b[0m\u001b[0;34m\u001b[0m\u001b[0m\n\u001b[0m\u001b[1;32m   3362\u001b[0m           \u001b[0mself\u001b[0m\u001b[0;34m.\u001b[0m\u001b[0m_function_cache\u001b[0m\u001b[0;34m.\u001b[0m\u001b[0mprimary\u001b[0m\u001b[0;34m[\u001b[0m\u001b[0mcache_key\u001b[0m\u001b[0;34m]\u001b[0m \u001b[0;34m=\u001b[0m \u001b[0mgraph_function\u001b[0m\u001b[0;34m\u001b[0m\u001b[0;34m\u001b[0m\u001b[0m\n\u001b[1;32m   3363\u001b[0m \u001b[0;34m\u001b[0m\u001b[0m\n",
      "\u001b[0;32m~/.conda/envs/lya-tf/lib/python3.7/site-packages/tensorflow/python/eager/function.py\u001b[0m in \u001b[0;36m_create_graph_function\u001b[0;34m(self, args, kwargs, override_flat_arg_shapes)\u001b[0m\n\u001b[1;32m   3204\u001b[0m             \u001b[0marg_names\u001b[0m\u001b[0;34m=\u001b[0m\u001b[0marg_names\u001b[0m\u001b[0;34m,\u001b[0m\u001b[0;34m\u001b[0m\u001b[0;34m\u001b[0m\u001b[0m\n\u001b[1;32m   3205\u001b[0m             \u001b[0moverride_flat_arg_shapes\u001b[0m\u001b[0;34m=\u001b[0m\u001b[0moverride_flat_arg_shapes\u001b[0m\u001b[0;34m,\u001b[0m\u001b[0;34m\u001b[0m\u001b[0;34m\u001b[0m\u001b[0m\n\u001b[0;32m-> 3206\u001b[0;31m             capture_by_value=self._capture_by_value),\n\u001b[0m\u001b[1;32m   3207\u001b[0m         \u001b[0mself\u001b[0m\u001b[0;34m.\u001b[0m\u001b[0m_function_attributes\u001b[0m\u001b[0;34m,\u001b[0m\u001b[0;34m\u001b[0m\u001b[0;34m\u001b[0m\u001b[0m\n\u001b[1;32m   3208\u001b[0m         \u001b[0mfunction_spec\u001b[0m\u001b[0;34m=\u001b[0m\u001b[0mself\u001b[0m\u001b[0;34m.\u001b[0m\u001b[0mfunction_spec\u001b[0m\u001b[0;34m,\u001b[0m\u001b[0;34m\u001b[0m\u001b[0;34m\u001b[0m\u001b[0m\n",
      "\u001b[0;32m~/.conda/envs/lya-tf/lib/python3.7/site-packages/tensorflow/python/framework/func_graph.py\u001b[0m in \u001b[0;36mfunc_graph_from_py_func\u001b[0;34m(name, python_func, args, kwargs, signature, func_graph, autograph, autograph_options, add_control_dependencies, arg_names, op_return_value, collections, capture_by_value, override_flat_arg_shapes)\u001b[0m\n\u001b[1;32m    988\u001b[0m         \u001b[0m_\u001b[0m\u001b[0;34m,\u001b[0m \u001b[0moriginal_func\u001b[0m \u001b[0;34m=\u001b[0m \u001b[0mtf_decorator\u001b[0m\u001b[0;34m.\u001b[0m\u001b[0munwrap\u001b[0m\u001b[0;34m(\u001b[0m\u001b[0mpython_func\u001b[0m\u001b[0;34m)\u001b[0m\u001b[0;34m\u001b[0m\u001b[0;34m\u001b[0m\u001b[0m\n\u001b[1;32m    989\u001b[0m \u001b[0;34m\u001b[0m\u001b[0m\n\u001b[0;32m--> 990\u001b[0;31m       \u001b[0mfunc_outputs\u001b[0m \u001b[0;34m=\u001b[0m \u001b[0mpython_func\u001b[0m\u001b[0;34m(\u001b[0m\u001b[0;34m*\u001b[0m\u001b[0mfunc_args\u001b[0m\u001b[0;34m,\u001b[0m \u001b[0;34m**\u001b[0m\u001b[0mfunc_kwargs\u001b[0m\u001b[0;34m)\u001b[0m\u001b[0;34m\u001b[0m\u001b[0;34m\u001b[0m\u001b[0m\n\u001b[0m\u001b[1;32m    991\u001b[0m \u001b[0;34m\u001b[0m\u001b[0m\n\u001b[1;32m    992\u001b[0m       \u001b[0;31m# invariant: `func_outputs` contains only Tensors, CompositeTensors,\u001b[0m\u001b[0;34m\u001b[0m\u001b[0;34m\u001b[0m\u001b[0;34m\u001b[0m\u001b[0m\n",
      "\u001b[0;32m~/.conda/envs/lya-tf/lib/python3.7/site-packages/tensorflow/python/eager/def_function.py\u001b[0m in \u001b[0;36mwrapped_fn\u001b[0;34m(*args, **kwds)\u001b[0m\n\u001b[1;32m    632\u001b[0m             \u001b[0mxla_context\u001b[0m\u001b[0;34m.\u001b[0m\u001b[0mExit\u001b[0m\u001b[0;34m(\u001b[0m\u001b[0;34m)\u001b[0m\u001b[0;34m\u001b[0m\u001b[0;34m\u001b[0m\u001b[0m\n\u001b[1;32m    633\u001b[0m         \u001b[0;32melse\u001b[0m\u001b[0;34m:\u001b[0m\u001b[0;34m\u001b[0m\u001b[0;34m\u001b[0m\u001b[0m\n\u001b[0;32m--> 634\u001b[0;31m           \u001b[0mout\u001b[0m \u001b[0;34m=\u001b[0m \u001b[0mweak_wrapped_fn\u001b[0m\u001b[0;34m(\u001b[0m\u001b[0;34m)\u001b[0m\u001b[0;34m.\u001b[0m\u001b[0m__wrapped__\u001b[0m\u001b[0;34m(\u001b[0m\u001b[0;34m*\u001b[0m\u001b[0margs\u001b[0m\u001b[0;34m,\u001b[0m \u001b[0;34m**\u001b[0m\u001b[0mkwds\u001b[0m\u001b[0;34m)\u001b[0m\u001b[0;34m\u001b[0m\u001b[0;34m\u001b[0m\u001b[0m\n\u001b[0m\u001b[1;32m    635\u001b[0m         \u001b[0;32mreturn\u001b[0m \u001b[0mout\u001b[0m\u001b[0;34m\u001b[0m\u001b[0;34m\u001b[0m\u001b[0m\n\u001b[1;32m    636\u001b[0m \u001b[0;34m\u001b[0m\u001b[0m\n",
      "\u001b[0;32m~/.conda/envs/lya-tf/lib/python3.7/site-packages/tensorflow/python/framework/func_graph.py\u001b[0m in \u001b[0;36mwrapper\u001b[0;34m(*args, **kwargs)\u001b[0m\n\u001b[1;32m    975\u001b[0m           \u001b[0;32mexcept\u001b[0m \u001b[0mException\u001b[0m \u001b[0;32mas\u001b[0m \u001b[0me\u001b[0m\u001b[0;34m:\u001b[0m  \u001b[0;31m# pylint:disable=broad-except\u001b[0m\u001b[0;34m\u001b[0m\u001b[0;34m\u001b[0m\u001b[0m\n\u001b[1;32m    976\u001b[0m             \u001b[0;32mif\u001b[0m \u001b[0mhasattr\u001b[0m\u001b[0;34m(\u001b[0m\u001b[0me\u001b[0m\u001b[0;34m,\u001b[0m \u001b[0;34m\"ag_error_metadata\"\u001b[0m\u001b[0;34m)\u001b[0m\u001b[0;34m:\u001b[0m\u001b[0;34m\u001b[0m\u001b[0;34m\u001b[0m\u001b[0m\n\u001b[0;32m--> 977\u001b[0;31m               \u001b[0;32mraise\u001b[0m \u001b[0me\u001b[0m\u001b[0;34m.\u001b[0m\u001b[0mag_error_metadata\u001b[0m\u001b[0;34m.\u001b[0m\u001b[0mto_exception\u001b[0m\u001b[0;34m(\u001b[0m\u001b[0me\u001b[0m\u001b[0;34m)\u001b[0m\u001b[0;34m\u001b[0m\u001b[0;34m\u001b[0m\u001b[0m\n\u001b[0m\u001b[1;32m    978\u001b[0m             \u001b[0;32melse\u001b[0m\u001b[0;34m:\u001b[0m\u001b[0;34m\u001b[0m\u001b[0;34m\u001b[0m\u001b[0m\n\u001b[1;32m    979\u001b[0m               \u001b[0;32mraise\u001b[0m\u001b[0;34m\u001b[0m\u001b[0;34m\u001b[0m\u001b[0m\n",
      "\u001b[0;31mTypeError\u001b[0m: in user code:\n\n    /global/homes/j/jupiter/.conda/envs/lya-tf/lib/python3.7/site-packages/tensorflow/python/ops/parallel_for/control_flow_ops.py:188 f  *\n        iters,\n    /global/homes/j/jupiter/.conda/envs/lya-tf/lib/python3.7/site-packages/tensorflow/python/ops/parallel_for/control_flow_ops.py:248 _pfor_impl  **\n        loop_fn_outputs = loop_fn(loop_var)\n    /global/homes/j/jupiter/.conda/envs/lya-tf/lib/python3.7/site-packages/tensorflow/python/eager/backprop.py:1324 loop_fn\n        unconnected_gradients=unconnected_gradients)\n    /global/homes/j/jupiter/.conda/envs/lya-tf/lib/python3.7/site-packages/tensorflow/python/eager/backprop.py:1086 gradient\n        unconnected_gradients=unconnected_gradients)\n    /global/homes/j/jupiter/.conda/envs/lya-tf/lib/python3.7/site-packages/tensorflow/python/eager/imperative_grad.py:77 imperative_grad\n        compat.as_str(unconnected_gradients.value))\n    /global/homes/j/jupiter/.conda/envs/lya-tf/lib/python3.7/site-packages/tensorflow/python/ops/custom_gradient.py:473 actual_grad_fn\n        input_grads = grad_fn(*result_grads)\n    /global/u2/j/jupiter/lya-tf/lya_fields/eos.py:199 grad\n        dn_dlogr = self.compute_dn_dlogx(self.flatten(log10_rhob), self.flatten(log10_temp), 'rhob')\n    /global/u2/j/jupiter/lya-tf/lya_fields/eos.py:122 compute_dn_dlogx\n        log10_rhob, log10_temp)[0]\n\n    TypeError: __array__() takes 1 positional argument but 2 were given\n"
     ]
    }
   ],
   "source": [
    "# this throws an error\n",
    "dn_dr_j = tape.batch_jacobian(nhi.field, rhob.field, experimental_use_pfor=True)\n",
    "\n",
    "# this prints a None gradient\n",
    "# flat_nhi = tf.reshape(nhi.field, [1024**2])\n",
    "# flat_rhob = tf.reshape(rhob.field, [1024**2])\n",
    "# dn_dr_j = tape.jacobian(flat_nhi, rhob.field)\n",
    "\n",
    "print(dn_dr_j)"
   ]
  },
  {
   "cell_type": "code",
   "execution_count": null,
   "id": "68873b81-1cd1-4859-9493-982bfaea1035",
   "metadata": {
    "tags": []
   },
   "outputs": [],
   "source": [
    "def print_minmax(t, name):\n",
    "    '''\n",
    "    Given a tensor t and its name, print t's minimum and maximum values.\n",
    "    \n",
    "    '''\n",
    "    \n",
    "    print(name + ' min:', np.amin(t))\n",
    "    print(name + ' max:', np.amax(t))\n",
    "    print('')"
   ]
  },
  {
   "cell_type": "code",
   "execution_count": null,
   "id": "51b5be05-ca67-4362-ac1a-4491c57b3f12",
   "metadata": {
    "tags": []
   },
   "outputs": [],
   "source": [
    "print_minmax(dn_dr, 'dn/dr')\n",
    "print_minmax(dn_dt, 'dn/dt')"
   ]
  },
  {
   "cell_type": "markdown",
   "id": "7bffb5e2-54dc-4bd4-9822-b9f14dd1b3dc",
   "metadata": {},
   "source": [
    "## Look at the $\\frac{dn}{d\\rho}$ and $\\frac{dn}{dT}$ fields"
   ]
  },
  {
   "cell_type": "code",
   "execution_count": null,
   "id": "57e2b358-4f41-4610-a366-0cbb6ad57715",
   "metadata": {
    "tags": []
   },
   "outputs": [],
   "source": [
    "fig = plt.figure(figsize=(8,8))\n",
    "plt.imshow(np.log10(dn_dr[0,:,:]), cmap='Blues')\n",
    "plt.colorbar()\n",
    "plt.title(r'log10(dn/d$\\rho$)')\n",
    "plt.show()\n",
    "\n",
    "fig = plt.figure(figsize=(8,8))\n",
    "plt.imshow(np.log10(-dn_dt[0,:,:]), cmap='inferno')\n",
    "plt.colorbar()\n",
    "plt.title('log10(-dn/dT)')\n",
    "plt.show()"
   ]
  },
  {
   "cell_type": "markdown",
   "id": "05c0bad6-e4e0-4548-979f-ce54312a6a63",
   "metadata": {},
   "source": [
    "## Compute $\\tau_\\text{real}$ and $\\tau_\\text{red}$ (one skewer)"
   ]
  },
  {
   "cell_type": "code",
   "execution_count": null,
   "id": "b18923d3-ce77-4296-a68d-9744459cb810",
   "metadata": {},
   "outputs": [],
   "source": [
    "# subsection shape\n",
    "shape = [1, 1, 1024]\n",
    "\n",
    "rhob = snap.read_subfield(ds_path_rhob, shape)\n",
    "temp = snap.read_subfield(ds_path_temp, shape)\n",
    "\n",
    "# get the tau grids\n",
    "with tf.GradientTape(persistent=True) as tape:\n",
    "#     tape.watch(rhob.field)\n",
    "#     tape.watch(temp.field)\n",
    "\n",
    "    # number density\n",
    "    nhi = lya_fields.set_nhi(snap, rhob, temp)\n",
    "    \n",
    "    # real-space tau\n",
    "    vpara = grid.Grid(tf.zeros(rhob.shape, dtype='float64'), rhob.shape, rhob.size)\n",
    "    tau_real = gmlt_spec_od_grid(snap.universe, snap.z, nhi.size,\n",
    "            nhi.field, temp.field, vpara.field, nhi.field.shape[2])\n",
    "\n",
    "    # redshift-space tau\n",
    "    vpara = snap.read_subfield(ds_path_vz, shape)\n",
    "    tau_red = gmlt_spec_od_grid(snap.universe, snap.z, nhi.size,\n",
    "            nhi.field, temp.field, vpara.field, nhi.field.shape[2])"
   ]
  },
  {
   "cell_type": "markdown",
   "id": "7774d9bf-5fa4-48bd-99d8-b167b21159a7",
   "metadata": {},
   "source": [
    "## tape.gradient vs. tape.jacobian"
   ]
  },
  {
   "cell_type": "markdown",
   "id": "08294f5c-0971-481e-91e8-5c9b2f29ea89",
   "metadata": {},
   "source": [
    "The $i$th element in `tape.gradient(tau_real.field, rhob.field)` is the gradient of the sum of all $\\tau$s with respect to $\\rho_i$, which isn't what we want.\n",
    "\n",
    "To get $\\frac{\\partial \\tau_i}{\\partial x_j}$ for every pair $i,j$, we need the Jacobian."
   ]
  },
  {
   "cell_type": "markdown",
   "id": "761d6245-729f-4224-919b-d6e8ffeed09f",
   "metadata": {},
   "source": [
    "## Look at the 4 Jacobians"
   ]
  },
  {
   "cell_type": "code",
   "execution_count": null,
   "id": "b6ba2edd-a94b-4d30-9aa4-79ed60a50447",
   "metadata": {
    "tags": []
   },
   "outputs": [],
   "source": [
    "dtreal_dr_j = tape.jacobian(tau_real.field, rhob.field)\n",
    "# dtreal_dt_j = tape.jacobian(tau_real.field, temp.field)\n",
    "\n",
    "# dtred_dr_j = tape.jacobian(tau_red.field, rhob.field)\n",
    "# dtred_dt_j = tape.jacobian(tau_red.field, temp.field)"
   ]
  },
  {
   "cell_type": "code",
   "execution_count": null,
   "id": "350098f5-a59b-4d27-a0fc-ea0b236ea562",
   "metadata": {
    "tags": []
   },
   "outputs": [],
   "source": [
    "# this returns the same error as above\n",
    "dtreal_dn_j = tape.jacobian(tau_real.field, nhi.field)\n",
    "print(dtreal_dn)"
   ]
  },
  {
   "cell_type": "code",
   "execution_count": null,
   "id": "746e021c-482a-4faa-8d3a-4e33b400fb46",
   "metadata": {},
   "outputs": [],
   "source": [
    "dtreal_dr = tape.gradient(tau_real.field, rhob.field)\n",
    "print(dtreal_dr)"
   ]
  },
  {
   "cell_type": "code",
   "execution_count": null,
   "id": "3d9d9b8f-2da5-4315-881a-be1132529b0f",
   "metadata": {},
   "outputs": [],
   "source": [
    "# dtreal_dr = tape.gradient(tau_real.field, rhob.field)\n",
    "# dtreal_dt = tape.gradient(tau_real.field, temp.field)\n",
    "\n",
    "# dtred_dr = tape.gradient(tau_red.field, rhob.field)\n",
    "# dtred_dt = tape.gradient(tau_red.field, temp.field)\n",
    "\n",
    "# print_minmax(dtreal_dr, 'dtreal/dr')\n",
    "# print_minmax(dtreal_dt, 'dtreal/dt')\n",
    "\n",
    "# print_minmax(dtred_dr, 'dtred/dr')\n",
    "# print_minmax(dtred_dt, 'dtred/dt')"
   ]
  },
  {
   "cell_type": "markdown",
   "id": "0a2ceb7b-0534-4368-8b2d-2dbbf397f98f",
   "metadata": {},
   "source": [
    "### Look at the 4 $\\frac{d\\Sigma \\tau}{dx_i}$ fields (tape.gradient)"
   ]
  },
  {
   "cell_type": "code",
   "execution_count": null,
   "id": "6a28d0b4-e365-44d0-9897-3484ce8a2522",
   "metadata": {
    "tags": []
   },
   "outputs": [],
   "source": [
    "figsize=(16,4)\n",
    "\n",
    "section = slice(0,80)\n",
    "\n",
    "vmin_r = -0.5\n",
    "vmax_r = 0.5\n",
    "vmin_t = 2e-10\n",
    "vmax_t = 7e-10\n",
    "\n",
    "fig = plt.figure(figsize=figsize)\n",
    "plt.imshow(np.log10(dtreal_dr[0, :, section]), cmap='Blues', vmin=vmin_r, vmax=vmax_r)\n",
    "plt.colorbar()\n",
    "plt.title(r'log10($d\\tau_{real} / d\\rho$) (left)')\n",
    "plt.show()\n",
    "\n",
    "fig = plt.figure(figsize=figsize)\n",
    "plt.imshow(np.log10(dtred_dr[0, :, section]), cmap='Blues', vmin=vmin_r, vmax=vmax_r)\n",
    "plt.colorbar()\n",
    "plt.title(r'log10($d\\tau_{red} / d\\rho$) (left)')\n",
    "plt.show()\n",
    "\n",
    "fig = plt.figure(figsize=figsize)\n",
    "plt.imshow(-dtreal_dt[0, :, section], cmap='inferno', vmin=vmin_t, vmax=vmax_t)\n",
    "plt.colorbar()\n",
    "plt.title(r'-$d\\tau_{real} / dT$ (left)')\n",
    "plt.show()\n",
    "\n",
    "fig = plt.figure(figsize=figsize)\n",
    "plt.imshow(-dtred_dt[0, :, section], cmap='inferno', vmin=vmin_t, vmax=vmax_t)\n",
    "plt.colorbar()\n",
    "plt.title(r'-$d\\tau_{red} / dT$ (left)')\n",
    "plt.show()"
   ]
  },
  {
   "cell_type": "markdown",
   "id": "c354f5fb-eae0-4d67-b5f8-eecdce464098",
   "metadata": {},
   "source": [
    "# Jacobian examples"
   ]
  },
  {
   "cell_type": "code",
   "execution_count": null,
   "id": "57732bca-afa6-4d28-beaf-89f984c0627e",
   "metadata": {},
   "outputs": [],
   "source": [
    "# x = tf.linspace(-10.0, 10.0, 200+1)\n",
    "# delta = tf.Variable(0.0)\n",
    "\n",
    "# with tf.GradientTape() as tape:\n",
    "#     y = tf.nn.sigmoid(x+delta)\n",
    "\n",
    "# dy_dx = tape.jacobian(y, delta)\n",
    "\n",
    "# plt.plot(x.numpy(), y, label='y')\n",
    "# plt.plot(x.numpy(), dy_dx, label='dy/dx')\n",
    "# plt.legend()\n",
    "# _ = plt.xlabel('x')"
   ]
  },
  {
   "cell_type": "markdown",
   "id": "9f1bde7e-bf1b-402f-a7b2-2febc41f0f73",
   "metadata": {},
   "source": [
    "[Define jacobian with tf.custom_gradient](https://stackoverflow.com/questions/66536946/define-jacobian-with-tensorflow-custom-gradient)"
   ]
  },
  {
   "cell_type": "code",
   "execution_count": 5,
   "id": "231aed10-eae6-4def-a682-cd06de9e1f75",
   "metadata": {},
   "outputs": [
    {
     "data": {
      "text/plain": [
       "<tf.Tensor: shape=(2, 2), dtype=float32, numpy=\n",
       "array([[0., 1.],\n",
       "       [2., 0.]], dtype=float32)>"
      ]
     },
     "execution_count": 5,
     "metadata": {},
     "output_type": "execute_result"
    }
   ],
   "source": [
    "@tf.custom_gradient\n",
    "def f(x):\n",
    "    y = tf.stack([x[1], 2.0*x[0]])\n",
    "\n",
    "    def grad(upstream):\n",
    "        return tf.stack([2.0*upstream[1], upstream[0]])\n",
    "\n",
    "    return y, grad\n",
    "\n",
    "x = tf.Variable([1.0, 2.0])\n",
    "with tf.GradientTape() as tape:\n",
    "    y = f(x)\n",
    "tape.jacobian(y, x)\n",
    "#tape.gradient(y,x)"
   ]
  },
  {
   "cell_type": "code",
   "execution_count": null,
   "id": "02a2d880-ca19-4c92-8f99-cd52637ea94e",
   "metadata": {},
   "outputs": [],
   "source": []
  }
 ],
 "metadata": {
  "kernelspec": {
   "display_name": "Lya-TF",
   "language": "python",
   "name": "lya-tf"
  },
  "language_info": {
   "codemirror_mode": {
    "name": "ipython",
    "version": 3
   },
   "file_extension": ".py",
   "mimetype": "text/x-python",
   "name": "python",
   "nbconvert_exporter": "python",
   "pygments_lexer": "ipython3",
   "version": "3.7.10"
  }
 },
 "nbformat": 4,
 "nbformat_minor": 5
}
