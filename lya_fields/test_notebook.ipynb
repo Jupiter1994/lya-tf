{
 "cells": [
  {
   "cell_type": "code",
   "execution_count": 1,
   "id": "57c2b1af-7386-486d-9204-65441aa5257c",
   "metadata": {},
   "outputs": [],
   "source": [
    "import h5py\n",
    "import tensorflow as tf\n",
    "import numpy as np\n",
    "from numpy import f2py"
   ]
  },
  {
   "cell_type": "markdown",
   "id": "f6eb1c6d-fd74-4dc1-bbd6-d67c71630d8f",
   "metadata": {},
   "source": [
    "## Wrapping Fortran functions to Python"
   ]
  },
  {
   "cell_type": "markdown",
   "id": "c6173d98-9904-497b-84e6-973423cc81d9",
   "metadata": {},
   "source": [
    "[Three ways to wrap](https://numpy.org/doc/stable/f2py/f2py.getting-started.html)\n",
    "\n",
    "- Quick way (this requires Python 3.7 and NumPy 1.18): `python3 -m numpy.f2py -c eos-t.f90 -m eos_t`\n"
   ]
  },
  {
   "cell_type": "code",
   "execution_count": 3,
   "id": "2ba33a70-edbb-4cbf-a52a-3fe52bafed45",
   "metadata": {},
   "outputs": [
    {
     "name": "stdout",
     "output_type": "stream",
     "text": [
      "3.7.10\n"
     ]
    }
   ],
   "source": [
    "from platform import python_version\n",
    "print(python_version())"
   ]
  },
  {
   "cell_type": "code",
   "execution_count": 4,
   "id": "305f0d77-150b-4930-bc10-a0c043468037",
   "metadata": {
    "tags": []
   },
   "outputs": [],
   "source": [
    "import eos_t"
   ]
  },
  {
   "cell_type": "code",
   "execution_count": 5,
   "id": "2f52620f-3510-487e-a8bb-e5aafd45e0fe",
   "metadata": {},
   "outputs": [
    {
     "name": "stdout",
     "output_type": "stream",
     "text": [
      "[1.26271073e-10 1.25558019e-10 1.24848791e-10 ... 6.57445059e-19\n",
      " 6.47458444e-19 6.37622769e-19]\n"
     ]
    }
   ],
   "source": [
    "eos_t.atomic_rates.tabulate_rates()\n",
    "print(eos_t.atomic_rates.alphahp)"
   ]
  },
  {
   "cell_type": "markdown",
   "id": "bfeaa65d-90d1-4aab-ba0f-f735a75a72e9",
   "metadata": {},
   "source": [
    "# TensorFlow"
   ]
  },
  {
   "cell_type": "code",
   "execution_count": 2,
   "id": "1ac5cac2-109f-4b5e-a3e7-3c5da94b2130",
   "metadata": {},
   "outputs": [
    {
     "data": {
      "text/plain": [
       "<tf.Tensor: shape=(2,), dtype=float32, numpy=array([0.5, 0.5], dtype=float32)>"
      ]
     },
     "execution_count": 2,
     "metadata": {},
     "output_type": "execute_result"
    }
   ],
   "source": [
    "# testing element-wise division\n",
    "x = [1,1]\n",
    "y = tf.constant([2.,2.])\n",
    "tf.math.divide(x,y)"
   ]
  },
  {
   "cell_type": "markdown",
   "id": "c5b09a18-a159-40d2-83dd-56cb086e4060",
   "metadata": {},
   "source": [
    "## Assigning an element to an existing tensor"
   ]
  },
  {
   "cell_type": "code",
   "execution_count": 7,
   "id": "484ebdfa-9778-4caa-ab8c-0d1b6dc7acf3",
   "metadata": {
    "tags": []
   },
   "outputs": [],
   "source": [
    "x = tf.zeros([3,3,3])\n",
    "#tf.tensor_scatter_nd_add?"
   ]
  },
  {
   "cell_type": "code",
   "execution_count": 6,
   "id": "76925059-1a5c-48f7-902f-8a1914ed85de",
   "metadata": {
    "collapsed": true,
    "jupyter": {
     "outputs_hidden": true
    },
    "tags": []
   },
   "outputs": [
    {
     "data": {
      "text/plain": [
       "<tf.Tensor: shape=(3, 3, 3), dtype=float32, numpy=\n",
       "array([[[0., 0., 0.],\n",
       "        [1., 1., 1.],\n",
       "        [2., 2., 2.]],\n",
       "\n",
       "       [[3., 3., 3.],\n",
       "        [4., 4., 4.],\n",
       "        [5., 5., 5.]],\n",
       "\n",
       "       [[6., 6., 6.],\n",
       "        [7., 7., 7.],\n",
       "        [8., 8., 8.]]], dtype=float32)>"
      ]
     },
     "execution_count": 6,
     "metadata": {},
     "output_type": "execute_result"
    }
   ],
   "source": [
    "skewer = tf.zeros([3])\n",
    "for i in range(3):\n",
    "    for j in range(3):\n",
    "        x = tf.tensor_scatter_nd_add(x, [[i,j]], [skewer])\n",
    "        skewer = skewer + 1\n",
    "x"
   ]
  },
  {
   "cell_type": "code",
   "execution_count": 12,
   "id": "b47f1073-f057-4157-aa1a-40aaeb1dbe5f",
   "metadata": {},
   "outputs": [
    {
     "data": {
      "text/plain": [
       "<tf.Tensor: shape=(3,), dtype=float32, numpy=array([0., 3., 0.], dtype=float32)>"
      ]
     },
     "execution_count": 12,
     "metadata": {},
     "output_type": "execute_result"
    }
   ],
   "source": [
    "x = tf.zeros([3])\n",
    "tf.tensor_scatter_nd_add(x, [[1]], [3])"
   ]
  },
  {
   "cell_type": "markdown",
   "id": "e6fdc33e-25ff-42bd-b68a-89e950e9a82b",
   "metadata": {},
   "source": [
    "## Testing speed of tensor access\n",
    "\n",
    "It takes too long to access a tensor's entries one-by-one; I need to avoid this when I'm passing fields into the EOS or optical depth routines"
   ]
  },
  {
   "cell_type": "code",
   "execution_count": 2,
   "id": "55b80325-ecaa-45ed-817e-92b048866772",
   "metadata": {},
   "outputs": [],
   "source": [
    "def time_stats(duration):\n",
    "    rate = duration / n**2\n",
    "    print(\"Duration:\", np.round(duration, 4))\n",
    "    print(\"Hours needed to access 1024^3 entries:\", \n",
    "      np.round(rate * 1024**3 / 3600, 4))"
   ]
  },
  {
   "cell_type": "code",
   "execution_count": 4,
   "id": "d8bbf403-fac1-444e-bf6f-74e425fd200f",
   "metadata": {
    "collapsed": true,
    "jupyter": {
     "outputs_hidden": true,
     "source_hidden": true
    },
    "tags": []
   },
   "outputs": [
    {
     "name": "stdout",
     "output_type": "stream",
     "text": [
      "Duration: 0.0085\n",
      "Hours needed to access 1024^3 entries: 101.1769\n"
     ]
    }
   ],
   "source": [
    "import time\n",
    "\n",
    "n = 5\n",
    "field = tf.zeros((n,n))\n",
    "total = 0\n",
    "\n",
    "start = time.time()\n",
    "\n",
    "for i in range(n):\n",
    "    for j in range(n):\n",
    "        total += field[i,j]\n",
    "\n",
    "duration = time.time() - start\n",
    "time_stats(duration)"
   ]
  },
  {
   "cell_type": "markdown",
   "id": "1bd231c7-d919-4180-bdc2-f150fab9b4fd",
   "metadata": {},
   "source": [
    "### Nested loops"
   ]
  },
  {
   "cell_type": "code",
   "execution_count": 24,
   "id": "dbdcbdcf-b6f4-4857-ac2c-3ffdb9dcebd5",
   "metadata": {
    "collapsed": true,
    "jupyter": {
     "outputs_hidden": true,
     "source_hidden": true
    },
    "tags": []
   },
   "outputs": [
    {
     "name": "stdout",
     "output_type": "stream",
     "text": [
      "(<tf.Tensor: shape=(), dtype=int32, numpy=10>, <tf.Tensor: shape=(), dtype=float32, numpy=15.0>)\n",
      "Duration: 0.0686\n",
      "Hours needed to access 1024^3 entries: 204.7353\n"
     ]
    }
   ],
   "source": [
    "count = 15\n",
    "n = 10\n",
    "\n",
    "start = time.time()\n",
    "\n",
    "# outer loop\n",
    "i = tf.constant(0)\n",
    "condition1 = lambda i, count: tf.less(i, n)\n",
    "\n",
    "def body1(i, r): # index i and result r\n",
    "    # inner loop\n",
    "    j = tf.constant(0)\n",
    "    condition2 = lambda i,j,r: tf.less(j, n)\n",
    "    \n",
    "    def body2(i, j, r):\n",
    "        r += field[i,j]\n",
    "        return i, tf.add(j, 1), r\n",
    "    \n",
    "    i, j, r = tf.while_loop(condition2, body2, loop_vars=[i,j, r])\n",
    "    \n",
    "    # increment r\n",
    "    return tf.add(i, 1), r\n",
    "\n",
    "# do the loop:\n",
    "r = tf.while_loop(condition1, body1, [i, count])\n",
    "print(r)\n",
    "\n",
    "duration = time.time() - start\n",
    "time_stats(duration)"
   ]
  },
  {
   "cell_type": "markdown",
   "id": "0a48ec23-8e6a-44ef-8e27-7a0ee43e2310",
   "metadata": {},
   "source": [
    "## Testing tf gradients"
   ]
  },
  {
   "cell_type": "code",
   "execution_count": 13,
   "id": "050ed521-66d7-4907-a1bb-3bb9cccb4f72",
   "metadata": {},
   "outputs": [
    {
     "data": {
      "text/plain": [
       "<tf.Tensor: shape=(), dtype=float32, numpy=9.0>"
      ]
     },
     "execution_count": 13,
     "metadata": {},
     "output_type": "execute_result"
    }
   ],
   "source": [
    "tf.math.pow(z, 2)"
   ]
  },
  {
   "cell_type": "code",
   "execution_count": 11,
   "id": "62c87d49-71a5-4543-b903-2739872cfdba",
   "metadata": {},
   "outputs": [
    {
     "name": "stdout",
     "output_type": "stream",
     "text": [
      "a: tf.Tensor(0.25, shape=(), dtype=float32)\n",
      "grad: tf.Tensor(-0.0625, shape=(), dtype=float32)\n"
     ]
    }
   ],
   "source": [
    "z = tf.constant(3.)\n",
    "with tf.GradientTape() as tape:\n",
    "    tape.watch(z) # without this line, grad is None\n",
    "    a = tf.divide(1, z+1)\n",
    "    print('a:', a)\n",
    "    \n",
    "grad = tape.gradient(a, z)\n",
    "print('grad:', grad)"
   ]
  },
  {
   "cell_type": "markdown",
   "id": "3194f80d-bf3f-4e01-81fb-6a93faeb0a8e",
   "metadata": {},
   "source": [
    "# Load in the data"
   ]
  },
  {
   "cell_type": "code",
   "execution_count": 1,
   "id": "f4603af4-2521-4c63-9245-a0b0c3a49b59",
   "metadata": {},
   "outputs": [],
   "source": [
    "filename = \"../../../../../cscratch1/sd/jupiter/sim2_z3_FGPA_cgs.h5\"\n",
    "\n",
    "#snap = h5py.File(filename,'r')"
   ]
  },
  {
   "cell_type": "code",
   "execution_count": 5,
   "id": "49a58af2-32e7-49a1-97f7-f4505643cde3",
   "metadata": {},
   "outputs": [
    {
     "name": "stdout",
     "output_type": "stream",
     "text": [
      "ok\n"
     ]
    }
   ],
   "source": [
    "name = 'aux_fields'\n",
    "\n",
    "snap.keys()\n",
    "\n",
    "if name in snap:\n",
    "    print('ok')"
   ]
  },
  {
   "cell_type": "markdown",
   "id": "3b275758-854f-4696-b5ed-c126efdde728",
   "metadata": {},
   "source": [
    "## Testing classes"
   ]
  },
  {
   "cell_type": "code",
   "execution_count": 2,
   "id": "ad74e4b1-33f9-4d43-bdd0-9822657c03ee",
   "metadata": {},
   "outputs": [],
   "source": [
    "import snapshot\n",
    "import time\n",
    "\n",
    "snap = snapshot.Snapshot(filename)"
   ]
  },
  {
   "cell_type": "code",
   "execution_count": 3,
   "id": "058ee92d-3c5c-47dd-9072-e436712473b8",
   "metadata": {},
   "outputs": [
    {
     "name": "stdout",
     "output_type": "stream",
     "text": [
      "[1024 1024 1024]\n",
      "[21.09375 21.09375 21.09375]\n",
      "Time: 11.72275996208191\n"
     ]
    }
   ],
   "source": [
    "# test snapshot methods\n",
    "start = time.time()\n",
    "\n",
    "temp = snap.read_field('/native_fields/temperature')\n",
    "rhob = snap.read_field('/native_fields/baryon_density')\n",
    "print(temp.shape)\n",
    "print(temp.size)\n",
    "print('Time:', time.time() - start)"
   ]
  },
  {
   "cell_type": "code",
   "execution_count": 3,
   "id": "8146bd6c-8a28-41de-b1f4-8c7ef60dcd41",
   "metadata": {},
   "outputs": [
    {
     "name": "stdout",
     "output_type": "stream",
     "text": [
      "[5, 5, 5]\n",
      "tf.Tensor([0.10299683 0.10299683 0.10299683], shape=(3,), dtype=float64)\n",
      "Time: 17.140169620513916\n"
     ]
    }
   ],
   "source": [
    "# test read_field2 (reading in n^3 grids)\n",
    "start = time.time()\n",
    "shape = [5,5,5]\n",
    "\n",
    "temp2 = snap.read_field2('/native_fields/temperature', shape)\n",
    "print(temp2.shape)\n",
    "print(temp2.size)\n",
    "print('Time:', time.time() - start)"
   ]
  },
  {
   "cell_type": "markdown",
   "id": "a08babae-10a2-4bee-98b8-59c475cbccc2",
   "metadata": {},
   "source": [
    "### universe"
   ]
  },
  {
   "cell_type": "code",
   "execution_count": 3,
   "id": "acfee78b-119b-4aa8-a234-116d1266516b",
   "metadata": {},
   "outputs": [
    {
     "data": {
      "text/plain": [
       "<tf.Tensor: shape=(), dtype=float64, numpy=2.2856888888888885e+25>"
      ]
     },
     "execution_count": 3,
     "metadata": {},
     "output_type": "execute_result"
    }
   ],
   "source": [
    "u = snap.universe\n",
    "chi = 10\n",
    "z = 1\n",
    "u.chi_to_proper_cgs(chi, z)"
   ]
  },
  {
   "cell_type": "code",
   "execution_count": 4,
   "id": "28f75f47-fb47-4345-86d9-1713e3f3faea",
   "metadata": {},
   "outputs": [
    {
     "data": {
      "text/plain": [
       "<tf.Variable 'Variable:0' shape=() dtype=float64, numpy=0.675>"
      ]
     },
     "execution_count": 4,
     "metadata": {},
     "output_type": "execute_result"
    }
   ],
   "source": [
    "u.h"
   ]
  },
  {
   "cell_type": "markdown",
   "id": "31f092ad-5dcf-4f55-af08-48eba08c8a40",
   "metadata": {},
   "source": [
    "### eos"
   ]
  },
  {
   "cell_type": "code",
   "execution_count": 5,
   "id": "336c4016-5c2e-4278-9de0-a08613e07202",
   "metadata": {},
   "outputs": [
    {
     "data": {
      "text/plain": [
       "9.275646225472467e-13"
      ]
     },
     "execution_count": 5,
     "metadata": {},
     "output_type": "execute_result"
    }
   ],
   "source": [
    "import eos\n",
    "\n",
    "eos_obj = eos.EOS_at_z(snap.z)\n",
    "# returns nhi\n",
    "eos_obj.nyx_eos(rhob.field[0,0,0] * 1e-29, temp.field[0,0,0])"
   ]
  },
  {
   "cell_type": "markdown",
   "id": "1bc1680a-afdf-4045-986d-17aeaf87633d",
   "metadata": {},
   "source": [
    "## Metadata"
   ]
  },
  {
   "cell_type": "code",
   "execution_count": 5,
   "id": "a1efd919-0f98-426a-8d85-709ff4774d9c",
   "metadata": {},
   "outputs": [],
   "source": [
    "shape = snap['domain'].attrs['shape']\n",
    "size = snap['domain'].attrs['size']\n",
    "\n",
    "z = snap['universe'].attrs['redshift']\n",
    "omega_b = snap['universe'].attrs['omega_b']\n",
    "omega_m = snap['universe'].attrs['omega_m']\n",
    "omega_l = snap['universe'].attrs['omega_l']\n",
    "h = snap['universe'].attrs['hubble']\n",
    "\n",
    "scale_factor = 1.0 / (1.0 + z)"
   ]
  },
  {
   "cell_type": "code",
   "execution_count": 6,
   "id": "c3e41af2-0130-43d2-9ee7-0dc0e850d2dc",
   "metadata": {},
   "outputs": [
    {
     "name": "stdout",
     "output_type": "stream",
     "text": [
      "[1024 1024 1024]\n",
      "[21.09375 21.09375 21.09375]\n"
     ]
    }
   ],
   "source": [
    "print(shape)\n",
    "print(size)"
   ]
  },
  {
   "cell_type": "code",
   "execution_count": 5,
   "id": "372e959a-eaf6-4272-8b2e-ddb388a1bc15",
   "metadata": {},
   "outputs": [],
   "source": [
    "snap.close()"
   ]
  },
  {
   "cell_type": "code",
   "execution_count": null,
   "id": "603dc22e-46b1-4028-b819-c98f8567d6bf",
   "metadata": {},
   "outputs": [],
   "source": []
  }
 ],
 "metadata": {
  "kernelspec": {
   "display_name": "Lya-TF",
   "language": "python",
   "name": "lya-tf"
  },
  "language_info": {
   "codemirror_mode": {
    "name": "ipython",
    "version": 3
   },
   "file_extension": ".py",
   "mimetype": "text/x-python",
   "name": "python",
   "nbconvert_exporter": "python",
   "pygments_lexer": "ipython3",
   "version": "3.7.10"
  }
 },
 "nbformat": 4,
 "nbformat_minor": 5
}
