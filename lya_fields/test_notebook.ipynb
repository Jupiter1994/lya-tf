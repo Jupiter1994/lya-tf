{
 "cells": [
  {
   "cell_type": "code",
   "execution_count": 1,
   "id": "57c2b1af-7386-486d-9204-65441aa5257c",
   "metadata": {},
   "outputs": [],
   "source": [
    "import h5py\n",
    "import tensorflow as tf\n",
    "import numpy as np\n",
    "from numpy import f2py\n",
    "\n",
    "import time\n",
    "\n",
    "import eos\n",
    "import eos_t"
   ]
  },
  {
   "cell_type": "markdown",
   "id": "bfeaa65d-90d1-4aab-ba0f-f735a75a72e9",
   "metadata": {},
   "source": [
    "# TensorFlow"
   ]
  },
  {
   "cell_type": "markdown",
   "id": "d2d6fd05-ceb2-4fa7-8f3d-2e67325acf8c",
   "metadata": {},
   "source": [
    "## Vectorization with gmlt_spec_od_grid"
   ]
  },
  {
   "cell_type": "markdown",
   "id": "fd0fcc3c-fedf-489d-ad85-47933e6b3ed6",
   "metadata": {},
   "source": [
    "### outline\n",
    "- arr has shape (x,y,z)\n",
    "- reshape arr to (x*y, z)\n",
    "- vectorized_map(fn, arr) returns arr2, shape (x*y, z)\n",
    "    - here, fn is gmlt_spec_od_pwc_exact\n",
    "- reshape arr2 to (x,y,z)\n",
    "- create od_pwc_exact2: only arg is a tuple of the 3 grids, while snapshot-specific args (e.g. redshift) are specified outside the function\n",
    "    - define this within gmlt_spec_od_grid"
   ]
  },
  {
   "cell_type": "code",
   "execution_count": 2,
   "id": "60580bc6-862c-4551-bcaa-ecd1c013640b",
   "metadata": {},
   "outputs": [
    {
     "name": "stdout",
     "output_type": "stream",
     "text": [
      "tf.Tensor(\n",
      "[[ 0  2  4  6]\n",
      " [ 8 10 12 14]\n",
      " [16 18 20 22]\n",
      " [24 26 28 30]\n",
      " [32 34 36 38]\n",
      " [40 42 44 46]], shape=(6, 4), dtype=int64)\n",
      "tf.Tensor(\n",
      "[[[ 0  2  4  6]\n",
      "  [ 8 10 12 14]\n",
      "  [16 18 20 22]]\n",
      "\n",
      " [[24 26 28 30]\n",
      "  [32 34 36 38]\n",
      "  [40 42 44 46]]], shape=(2, 3, 4), dtype=int64)\n"
     ]
    }
   ],
   "source": [
    "def fn(a, factor):\n",
    "    return a*factor\n",
    "\n",
    "fact = 2\n",
    "def fn2(a):\n",
    "    return fn(a, fact)\n",
    "\n",
    "# testing tf.reshape\n",
    "\n",
    "arr = tf.constant(np.arange(24).reshape(2,3,4))\n",
    "#print(arr)\n",
    "\n",
    "# we want to reshape arr to [[0,1,2,3], ..., [20,21,22,23]]\n",
    "arr = tf.reshape(arr, (6, 4))\n",
    "\n",
    "# arr2 = tf.vectorized_map(fn2, arr)\n",
    "arr2 = tf.map_fn(fn2, arr, fn_output_signature=tf.int64)\n",
    "print(arr2)\n",
    "print(tf.reshape(arr2, (2,3,4)))"
   ]
  },
  {
   "cell_type": "code",
   "execution_count": 3,
   "id": "d5dce947-5029-48c7-aa32-0c2a421386f9",
   "metadata": {},
   "outputs": [
    {
     "data": {
      "text/plain": [
       "TensorShape([10, 4, 4, 4, 4])"
      ]
     },
     "execution_count": 3,
     "metadata": {},
     "output_type": "execute_result"
    }
   ],
   "source": [
    "@tf.function()\n",
    "def outer_product(a):\n",
    "    return tf.tensordot(a, a, 0)\n",
    "\n",
    "batch_size = 10\n",
    "a = tf.ones((batch_size, 4, 4))\n",
    "c = tf.vectorized_map(outer_product, a)\n",
    "c.shape"
   ]
  },
  {
   "cell_type": "markdown",
   "id": "01a768f7-6928-4f11-a2c2-6cde08de7b63",
   "metadata": {},
   "source": [
    "## Vectorization with nyx_eos"
   ]
  },
  {
   "cell_type": "code",
   "execution_count": 4,
   "id": "4d93583e-fe9e-4377-ad3c-f5442682b896",
   "metadata": {},
   "outputs": [
    {
     "data": {
      "text/plain": [
       "9.087522466956245e+23"
      ]
     },
     "execution_count": 4,
     "metadata": {},
     "output_type": "execute_result"
    }
   ],
   "source": [
    "eos_obj = eos.EOS_at_z(2.99)\n",
    "\n",
    "# nyx_eos can accept tensors of different dtypes without errors\n",
    "t1 = tf.Variable([2], dtype=tf.int32)\n",
    "t2 = tf.constant([2], dtype=tf.float64)\n",
    "eos_obj.nyx_eos_vec((t1, t2))"
   ]
  },
  {
   "cell_type": "code",
   "execution_count": 12,
   "id": "024da478-87a0-4ad8-bf62-8ea3cac21cf2",
   "metadata": {
    "tags": []
   },
   "outputs": [
    {
     "data": {
      "text/plain": [
       "<tf.Tensor: shape=(100,), dtype=float64, numpy=\n",
       "array([0.00000000e+00, 4.54376123e+23, 9.08752247e+23, 1.36312837e+24,\n",
       "       1.81750449e+24, 2.27188062e+24, 2.72625674e+24, 3.18063286e+24,\n",
       "       3.63500899e+24, 4.08938511e+24, 4.54376123e+24, 4.99813736e+24,\n",
       "       5.45251348e+24, 5.90688960e+24, 6.36126573e+24, 6.81564185e+24,\n",
       "       7.27001797e+24, 7.72439410e+24, 8.17877022e+24, 8.63314634e+24,\n",
       "       9.08752247e+24, 9.54189859e+24, 9.99627471e+24, 1.04506508e+25,\n",
       "       1.09050270e+25, 1.13594031e+25, 1.18137792e+25, 1.22681553e+25,\n",
       "       1.27225315e+25, 1.31769076e+25, 1.36312837e+25, 1.40856598e+25,\n",
       "       1.45400359e+25, 1.49944121e+25, 1.54487882e+25, 1.59031643e+25,\n",
       "       1.63575404e+25, 1.68119166e+25, 1.72662927e+25, 1.77206688e+25,\n",
       "       1.81750449e+25, 1.86294211e+25, 1.90837972e+25, 1.95381733e+25,\n",
       "       1.99925494e+25, 2.04469256e+25, 2.09013017e+25, 2.13556778e+25,\n",
       "       2.18100539e+25, 2.22644300e+25, 2.27188062e+25, 2.31731823e+25,\n",
       "       2.36275584e+25, 2.40819345e+25, 2.45363107e+25, 2.49906868e+25,\n",
       "       2.54450629e+25, 2.58994390e+25, 2.63538152e+25, 2.68081913e+25,\n",
       "       2.72625674e+25, 2.77169435e+25, 2.81713196e+25, 2.86256958e+25,\n",
       "       2.90800719e+25, 2.95344480e+25, 2.99888241e+25, 3.04432003e+25,\n",
       "       3.08975764e+25, 3.13519525e+25, 3.18063286e+25, 3.22607048e+25,\n",
       "       3.27150809e+25, 3.31694570e+25, 3.36238331e+25, 3.40782093e+25,\n",
       "       3.45325854e+25, 3.49869615e+25, 3.54413376e+25, 3.58957137e+25,\n",
       "       3.63500899e+25, 3.68044660e+25, 3.72588421e+25, 3.77132182e+25,\n",
       "       3.81675944e+25, 3.86219705e+25, 3.90763466e+25, 3.95307227e+25,\n",
       "       3.99850989e+25, 4.04394750e+25, 4.08938511e+25, 4.13482272e+25,\n",
       "       4.18026033e+25, 4.22569795e+25, 4.27113556e+25, 4.31657317e+25,\n",
       "       4.36201078e+25, 4.40744840e+25, 4.45288601e+25, 4.49832362e+25])>"
      ]
     },
     "execution_count": 12,
     "metadata": {},
     "output_type": "execute_result"
    }
   ],
   "source": [
    "x = tf.Variable(np.arange(100).reshape(10,10), dtype=tf.double)\n",
    "y = tf.Variable(np.arange(100).reshape(10,10), dtype=tf.double)\n",
    "\n",
    "size = tf.size(x).numpy()\n",
    "#elems=(x,y)\n",
    "elems = (tf.reshape(x, [size]), tf.reshape(y, [size]))\n",
    "\n",
    "# vectorized_map throws a \"[Tensor] can't be converted to double\" error\n",
    "#tf.vectorized_map(eos_obj.nyx_eos_vec, elems)\n",
    "tf.map_fn(eos_obj.nyx_eos_vec, elems, fn_output_signature=tf.float64)"
   ]
  },
  {
   "cell_type": "markdown",
   "id": "0a6bfe77-f160-476c-a201-5dc85de477e4",
   "metadata": {},
   "source": [
    "## Vectorization example"
   ]
  },
  {
   "cell_type": "code",
   "execution_count": 54,
   "id": "e1b82088-ebe3-48a4-9574-894872227103",
   "metadata": {},
   "outputs": [],
   "source": [
    "# a function with specified parameter types can accept tf.Tensors\n",
    "def fn2(a: float, b: float):\n",
    "    return a + b"
   ]
  },
  {
   "cell_type": "code",
   "execution_count": 29,
   "id": "20773cc0-9e2b-4c91-8d45-4d346bc5a376",
   "metadata": {},
   "outputs": [],
   "source": [
    "# elems is a set of tensors, c is a number\n",
    "def fn(elems, c=3):\n",
    "    tf.compat.v1.enable_eager_execution()\n",
    "    print('eager:', tf.executing_eagerly()) # still False\n",
    "\n",
    "    # convert_to_tensor doesn't fix it\n",
    "    a = tf.convert_to_tensor(elems[0], dtype=tf.float32, name='test')\n",
    "    b = elems[1]\n",
    "    \n",
    "    print('a:', a)\n",
    "    print('type(a):', type(a))\n",
    "    print('eager:', tf.executing_eagerly())\n",
    "    \n",
    "    # nyx_eos does NOT accept tf.Tensors\n",
    "    # (when using vectorized_map, a is a tf.Tensor)\n",
    "    print(eos_obj.nyx_eos((3,a)))\n",
    "    \n",
    "    #print(fn2(a,b))\n",
    "    \n",
    "    return a + b + c"
   ]
  },
  {
   "cell_type": "markdown",
   "id": "90d2ce5b-560f-4f7f-808b-39fbfc946b38",
   "metadata": {
    "jupyter": {
     "outputs_hidden": true
    },
    "tags": []
   },
   "source": [
    "Getting the value of a tf.Tensor: https://stackoverflow.com/questions/33633370/how-to-print-the-value-of-a-tensor-object-in-tensorflow"
   ]
  },
  {
   "cell_type": "code",
   "execution_count": 30,
   "id": "780eda6c-a2ee-41dc-ae14-015ae7e0f881",
   "metadata": {
    "tags": []
   },
   "outputs": [
    {
     "name": "stdout",
     "output_type": "stream",
     "text": [
      "eager: True\n",
      "eager: False\n"
     ]
    },
    {
     "ename": "ValueError",
     "evalue": "in user code:\n\n    /global/homes/j/jupiter/.conda/envs/lya-tf/lib/python3.7/site-packages/tensorflow/python/ops/parallel_for/control_flow_ops.py:188 f  *\n        iters,\n    /global/homes/j/jupiter/.conda/envs/lya-tf/lib/python3.7/site-packages/tensorflow/python/ops/parallel_for/control_flow_ops.py:248 _pfor_impl  **\n        loop_fn_outputs = loop_fn(loop_var)\n    /global/homes/j/jupiter/.conda/envs/lya-tf/lib/python3.7/site-packages/tensorflow/python/ops/parallel_for/control_flow_ops.py:472 loop_fn\n        return fn(gathered_elems)\n    <ipython-input-29-80fa8ad4df20>:6 fn\n        a = tf.convert_to_tensor(elems[0], dtype=tf.float32, name='test')\n    /global/homes/j/jupiter/.conda/envs/lya-tf/lib/python3.7/site-packages/tensorflow/python/util/dispatch.py:201 wrapper\n        return target(*args, **kwargs)\n    /global/homes/j/jupiter/.conda/envs/lya-tf/lib/python3.7/site-packages/tensorflow/python/framework/ops.py:1405 convert_to_tensor_v2_with_dispatch\n        value, dtype=dtype, dtype_hint=dtype_hint, name=name)\n    /global/homes/j/jupiter/.conda/envs/lya-tf/lib/python3.7/site-packages/tensorflow/python/framework/ops.py:1415 convert_to_tensor_v2\n        as_ref=False)\n    /global/homes/j/jupiter/.conda/envs/lya-tf/lib/python3.7/site-packages/tensorflow/python/profiler/trace.py:163 wrapped\n        return func(*args, **kwargs)\n    /global/homes/j/jupiter/.conda/envs/lya-tf/lib/python3.7/site-packages/tensorflow/python/framework/ops.py:1509 convert_to_tensor\n        (dtype.name, value.dtype.name, value))\n\n    ValueError: Tensor conversion requested dtype float32 for Tensor with dtype float64: <tf.Tensor 'loop_body/GatherV2:0' shape=(10,) dtype=float64>\n",
     "output_type": "error",
     "traceback": [
      "\u001b[0;31m---------------------------------------------------------------------------\u001b[0m",
      "\u001b[0;31mValueError\u001b[0m                                Traceback (most recent call last)",
      "\u001b[0;32m<ipython-input-30-1a4ae7cde2eb>\u001b[0m in \u001b[0;36m<module>\u001b[0;34m\u001b[0m\n\u001b[1;32m      5\u001b[0m \u001b[0mstart\u001b[0m \u001b[0;34m=\u001b[0m \u001b[0mtime\u001b[0m\u001b[0;34m.\u001b[0m\u001b[0mtime\u001b[0m\u001b[0;34m(\u001b[0m\u001b[0;34m)\u001b[0m\u001b[0;34m\u001b[0m\u001b[0;34m\u001b[0m\u001b[0m\n\u001b[1;32m      6\u001b[0m \u001b[0mprint\u001b[0m\u001b[0;34m(\u001b[0m\u001b[0;34m'eager:'\u001b[0m\u001b[0;34m,\u001b[0m \u001b[0mtf\u001b[0m\u001b[0;34m.\u001b[0m\u001b[0mexecuting_eagerly\u001b[0m\u001b[0;34m(\u001b[0m\u001b[0;34m)\u001b[0m\u001b[0;34m)\u001b[0m\u001b[0;34m\u001b[0m\u001b[0;34m\u001b[0m\u001b[0m\n\u001b[0;32m----> 7\u001b[0;31m \u001b[0mout\u001b[0m \u001b[0;34m=\u001b[0m \u001b[0mtf\u001b[0m\u001b[0;34m.\u001b[0m\u001b[0mvectorized_map\u001b[0m\u001b[0;34m(\u001b[0m\u001b[0mfn\u001b[0m\u001b[0;34m,\u001b[0m \u001b[0melems\u001b[0m\u001b[0;34m=\u001b[0m\u001b[0melems\u001b[0m\u001b[0;34m)\u001b[0m\u001b[0;34m\u001b[0m\u001b[0;34m\u001b[0m\u001b[0m\n\u001b[0m\u001b[1;32m      8\u001b[0m \u001b[0;34m\u001b[0m\u001b[0m\n\u001b[1;32m      9\u001b[0m \u001b[0;31m#time_stats(time.time() - start, 10)\u001b[0m\u001b[0;34m\u001b[0m\u001b[0;34m\u001b[0m\u001b[0;34m\u001b[0m\u001b[0m\n",
      "\u001b[0;32m~/.conda/envs/lya-tf/lib/python3.7/site-packages/tensorflow/python/ops/parallel_for/control_flow_ops.py\u001b[0m in \u001b[0;36mvectorized_map\u001b[0;34m(fn, elems, fallback_to_while_loop)\u001b[0m\n\u001b[1;32m    488\u001b[0m \u001b[0;34m\u001b[0m\u001b[0m\n\u001b[1;32m    489\u001b[0m   return pfor(loop_fn, batch_size,\n\u001b[0;32m--> 490\u001b[0;31m               fallback_to_while_loop=fallback_to_while_loop)\n\u001b[0m",
      "\u001b[0;32m~/.conda/envs/lya-tf/lib/python3.7/site-packages/tensorflow/python/ops/parallel_for/control_flow_ops.py\u001b[0m in \u001b[0;36mpfor\u001b[0;34m(loop_fn, iters, fallback_to_while_loop, parallel_iterations)\u001b[0m\n\u001b[1;32m    203\u001b[0m       \u001b[0mdef_function\u001b[0m\u001b[0;34m.\u001b[0m\u001b[0mrun_functions_eagerly\u001b[0m\u001b[0;34m(\u001b[0m\u001b[0;32mFalse\u001b[0m\u001b[0;34m)\u001b[0m\u001b[0;34m\u001b[0m\u001b[0;34m\u001b[0m\u001b[0m\n\u001b[1;32m    204\u001b[0m     \u001b[0mf\u001b[0m \u001b[0;34m=\u001b[0m \u001b[0mdef_function\u001b[0m\u001b[0;34m.\u001b[0m\u001b[0mfunction\u001b[0m\u001b[0;34m(\u001b[0m\u001b[0mf\u001b[0m\u001b[0;34m)\u001b[0m\u001b[0;34m\u001b[0m\u001b[0;34m\u001b[0m\u001b[0m\n\u001b[0;32m--> 205\u001b[0;31m   \u001b[0moutputs\u001b[0m \u001b[0;34m=\u001b[0m \u001b[0mf\u001b[0m\u001b[0;34m(\u001b[0m\u001b[0;34m)\u001b[0m\u001b[0;34m\u001b[0m\u001b[0;34m\u001b[0m\u001b[0m\n\u001b[0m\u001b[1;32m    206\u001b[0m   \u001b[0;32mif\u001b[0m \u001b[0mfunctions_run_eagerly\u001b[0m \u001b[0;32mis\u001b[0m \u001b[0;32mnot\u001b[0m \u001b[0;32mNone\u001b[0m\u001b[0;34m:\u001b[0m\u001b[0;34m\u001b[0m\u001b[0;34m\u001b[0m\u001b[0m\n\u001b[1;32m    207\u001b[0m     \u001b[0mdef_function\u001b[0m\u001b[0;34m.\u001b[0m\u001b[0mrun_functions_eagerly\u001b[0m\u001b[0;34m(\u001b[0m\u001b[0mfunctions_run_eagerly\u001b[0m\u001b[0;34m)\u001b[0m\u001b[0;34m\u001b[0m\u001b[0;34m\u001b[0m\u001b[0m\n",
      "\u001b[0;32m~/.conda/envs/lya-tf/lib/python3.7/site-packages/tensorflow/python/eager/def_function.py\u001b[0m in \u001b[0;36m__call__\u001b[0;34m(self, *args, **kwds)\u001b[0m\n\u001b[1;32m    826\u001b[0m     \u001b[0mtracing_count\u001b[0m \u001b[0;34m=\u001b[0m \u001b[0mself\u001b[0m\u001b[0;34m.\u001b[0m\u001b[0mexperimental_get_tracing_count\u001b[0m\u001b[0;34m(\u001b[0m\u001b[0;34m)\u001b[0m\u001b[0;34m\u001b[0m\u001b[0;34m\u001b[0m\u001b[0m\n\u001b[1;32m    827\u001b[0m     \u001b[0;32mwith\u001b[0m \u001b[0mtrace\u001b[0m\u001b[0;34m.\u001b[0m\u001b[0mTrace\u001b[0m\u001b[0;34m(\u001b[0m\u001b[0mself\u001b[0m\u001b[0;34m.\u001b[0m\u001b[0m_name\u001b[0m\u001b[0;34m)\u001b[0m \u001b[0;32mas\u001b[0m \u001b[0mtm\u001b[0m\u001b[0;34m:\u001b[0m\u001b[0;34m\u001b[0m\u001b[0;34m\u001b[0m\u001b[0m\n\u001b[0;32m--> 828\u001b[0;31m       \u001b[0mresult\u001b[0m \u001b[0;34m=\u001b[0m \u001b[0mself\u001b[0m\u001b[0;34m.\u001b[0m\u001b[0m_call\u001b[0m\u001b[0;34m(\u001b[0m\u001b[0;34m*\u001b[0m\u001b[0margs\u001b[0m\u001b[0;34m,\u001b[0m \u001b[0;34m**\u001b[0m\u001b[0mkwds\u001b[0m\u001b[0;34m)\u001b[0m\u001b[0;34m\u001b[0m\u001b[0;34m\u001b[0m\u001b[0m\n\u001b[0m\u001b[1;32m    829\u001b[0m       \u001b[0mcompiler\u001b[0m \u001b[0;34m=\u001b[0m \u001b[0;34m\"xla\"\u001b[0m \u001b[0;32mif\u001b[0m \u001b[0mself\u001b[0m\u001b[0;34m.\u001b[0m\u001b[0m_experimental_compile\u001b[0m \u001b[0;32melse\u001b[0m \u001b[0;34m\"nonXla\"\u001b[0m\u001b[0;34m\u001b[0m\u001b[0;34m\u001b[0m\u001b[0m\n\u001b[1;32m    830\u001b[0m       \u001b[0mnew_tracing_count\u001b[0m \u001b[0;34m=\u001b[0m \u001b[0mself\u001b[0m\u001b[0;34m.\u001b[0m\u001b[0mexperimental_get_tracing_count\u001b[0m\u001b[0;34m(\u001b[0m\u001b[0;34m)\u001b[0m\u001b[0;34m\u001b[0m\u001b[0;34m\u001b[0m\u001b[0m\n",
      "\u001b[0;32m~/.conda/envs/lya-tf/lib/python3.7/site-packages/tensorflow/python/eager/def_function.py\u001b[0m in \u001b[0;36m_call\u001b[0;34m(self, *args, **kwds)\u001b[0m\n\u001b[1;32m    869\u001b[0m       \u001b[0;31m# This is the first call of __call__, so we have to initialize.\u001b[0m\u001b[0;34m\u001b[0m\u001b[0;34m\u001b[0m\u001b[0;34m\u001b[0m\u001b[0m\n\u001b[1;32m    870\u001b[0m       \u001b[0minitializers\u001b[0m \u001b[0;34m=\u001b[0m \u001b[0;34m[\u001b[0m\u001b[0;34m]\u001b[0m\u001b[0;34m\u001b[0m\u001b[0;34m\u001b[0m\u001b[0m\n\u001b[0;32m--> 871\u001b[0;31m       \u001b[0mself\u001b[0m\u001b[0;34m.\u001b[0m\u001b[0m_initialize\u001b[0m\u001b[0;34m(\u001b[0m\u001b[0margs\u001b[0m\u001b[0;34m,\u001b[0m \u001b[0mkwds\u001b[0m\u001b[0;34m,\u001b[0m \u001b[0madd_initializers_to\u001b[0m\u001b[0;34m=\u001b[0m\u001b[0minitializers\u001b[0m\u001b[0;34m)\u001b[0m\u001b[0;34m\u001b[0m\u001b[0;34m\u001b[0m\u001b[0m\n\u001b[0m\u001b[1;32m    872\u001b[0m     \u001b[0;32mfinally\u001b[0m\u001b[0;34m:\u001b[0m\u001b[0;34m\u001b[0m\u001b[0;34m\u001b[0m\u001b[0m\n\u001b[1;32m    873\u001b[0m       \u001b[0;31m# At this point we know that the initialization is complete (or less\u001b[0m\u001b[0;34m\u001b[0m\u001b[0;34m\u001b[0m\u001b[0;34m\u001b[0m\u001b[0m\n",
      "\u001b[0;32m~/.conda/envs/lya-tf/lib/python3.7/site-packages/tensorflow/python/eager/def_function.py\u001b[0m in \u001b[0;36m_initialize\u001b[0;34m(self, args, kwds, add_initializers_to)\u001b[0m\n\u001b[1;32m    724\u001b[0m     self._concrete_stateful_fn = (\n\u001b[1;32m    725\u001b[0m         self._stateful_fn._get_concrete_function_internal_garbage_collected(  # pylint: disable=protected-access\n\u001b[0;32m--> 726\u001b[0;31m             *args, **kwds))\n\u001b[0m\u001b[1;32m    727\u001b[0m \u001b[0;34m\u001b[0m\u001b[0m\n\u001b[1;32m    728\u001b[0m     \u001b[0;32mdef\u001b[0m \u001b[0minvalid_creator_scope\u001b[0m\u001b[0;34m(\u001b[0m\u001b[0;34m*\u001b[0m\u001b[0munused_args\u001b[0m\u001b[0;34m,\u001b[0m \u001b[0;34m**\u001b[0m\u001b[0munused_kwds\u001b[0m\u001b[0;34m)\u001b[0m\u001b[0;34m:\u001b[0m\u001b[0;34m\u001b[0m\u001b[0;34m\u001b[0m\u001b[0m\n",
      "\u001b[0;32m~/.conda/envs/lya-tf/lib/python3.7/site-packages/tensorflow/python/eager/function.py\u001b[0m in \u001b[0;36m_get_concrete_function_internal_garbage_collected\u001b[0;34m(self, *args, **kwargs)\u001b[0m\n\u001b[1;32m   2967\u001b[0m       \u001b[0margs\u001b[0m\u001b[0;34m,\u001b[0m \u001b[0mkwargs\u001b[0m \u001b[0;34m=\u001b[0m \u001b[0;32mNone\u001b[0m\u001b[0;34m,\u001b[0m \u001b[0;32mNone\u001b[0m\u001b[0;34m\u001b[0m\u001b[0;34m\u001b[0m\u001b[0m\n\u001b[1;32m   2968\u001b[0m     \u001b[0;32mwith\u001b[0m \u001b[0mself\u001b[0m\u001b[0;34m.\u001b[0m\u001b[0m_lock\u001b[0m\u001b[0;34m:\u001b[0m\u001b[0;34m\u001b[0m\u001b[0;34m\u001b[0m\u001b[0m\n\u001b[0;32m-> 2969\u001b[0;31m       \u001b[0mgraph_function\u001b[0m\u001b[0;34m,\u001b[0m \u001b[0m_\u001b[0m \u001b[0;34m=\u001b[0m \u001b[0mself\u001b[0m\u001b[0;34m.\u001b[0m\u001b[0m_maybe_define_function\u001b[0m\u001b[0;34m(\u001b[0m\u001b[0margs\u001b[0m\u001b[0;34m,\u001b[0m \u001b[0mkwargs\u001b[0m\u001b[0;34m)\u001b[0m\u001b[0;34m\u001b[0m\u001b[0;34m\u001b[0m\u001b[0m\n\u001b[0m\u001b[1;32m   2970\u001b[0m     \u001b[0;32mreturn\u001b[0m \u001b[0mgraph_function\u001b[0m\u001b[0;34m\u001b[0m\u001b[0;34m\u001b[0m\u001b[0m\n\u001b[1;32m   2971\u001b[0m \u001b[0;34m\u001b[0m\u001b[0m\n",
      "\u001b[0;32m~/.conda/envs/lya-tf/lib/python3.7/site-packages/tensorflow/python/eager/function.py\u001b[0m in \u001b[0;36m_maybe_define_function\u001b[0;34m(self, args, kwargs)\u001b[0m\n\u001b[1;32m   3359\u001b[0m \u001b[0;34m\u001b[0m\u001b[0m\n\u001b[1;32m   3360\u001b[0m           \u001b[0mself\u001b[0m\u001b[0;34m.\u001b[0m\u001b[0m_function_cache\u001b[0m\u001b[0;34m.\u001b[0m\u001b[0mmissed\u001b[0m\u001b[0;34m.\u001b[0m\u001b[0madd\u001b[0m\u001b[0;34m(\u001b[0m\u001b[0mcall_context_key\u001b[0m\u001b[0;34m)\u001b[0m\u001b[0;34m\u001b[0m\u001b[0;34m\u001b[0m\u001b[0m\n\u001b[0;32m-> 3361\u001b[0;31m           \u001b[0mgraph_function\u001b[0m \u001b[0;34m=\u001b[0m \u001b[0mself\u001b[0m\u001b[0;34m.\u001b[0m\u001b[0m_create_graph_function\u001b[0m\u001b[0;34m(\u001b[0m\u001b[0margs\u001b[0m\u001b[0;34m,\u001b[0m \u001b[0mkwargs\u001b[0m\u001b[0;34m)\u001b[0m\u001b[0;34m\u001b[0m\u001b[0;34m\u001b[0m\u001b[0m\n\u001b[0m\u001b[1;32m   3362\u001b[0m           \u001b[0mself\u001b[0m\u001b[0;34m.\u001b[0m\u001b[0m_function_cache\u001b[0m\u001b[0;34m.\u001b[0m\u001b[0mprimary\u001b[0m\u001b[0;34m[\u001b[0m\u001b[0mcache_key\u001b[0m\u001b[0;34m]\u001b[0m \u001b[0;34m=\u001b[0m \u001b[0mgraph_function\u001b[0m\u001b[0;34m\u001b[0m\u001b[0;34m\u001b[0m\u001b[0m\n\u001b[1;32m   3363\u001b[0m \u001b[0;34m\u001b[0m\u001b[0m\n",
      "\u001b[0;32m~/.conda/envs/lya-tf/lib/python3.7/site-packages/tensorflow/python/eager/function.py\u001b[0m in \u001b[0;36m_create_graph_function\u001b[0;34m(self, args, kwargs, override_flat_arg_shapes)\u001b[0m\n\u001b[1;32m   3204\u001b[0m             \u001b[0marg_names\u001b[0m\u001b[0;34m=\u001b[0m\u001b[0marg_names\u001b[0m\u001b[0;34m,\u001b[0m\u001b[0;34m\u001b[0m\u001b[0;34m\u001b[0m\u001b[0m\n\u001b[1;32m   3205\u001b[0m             \u001b[0moverride_flat_arg_shapes\u001b[0m\u001b[0;34m=\u001b[0m\u001b[0moverride_flat_arg_shapes\u001b[0m\u001b[0;34m,\u001b[0m\u001b[0;34m\u001b[0m\u001b[0;34m\u001b[0m\u001b[0m\n\u001b[0;32m-> 3206\u001b[0;31m             capture_by_value=self._capture_by_value),\n\u001b[0m\u001b[1;32m   3207\u001b[0m         \u001b[0mself\u001b[0m\u001b[0;34m.\u001b[0m\u001b[0m_function_attributes\u001b[0m\u001b[0;34m,\u001b[0m\u001b[0;34m\u001b[0m\u001b[0;34m\u001b[0m\u001b[0m\n\u001b[1;32m   3208\u001b[0m         \u001b[0mfunction_spec\u001b[0m\u001b[0;34m=\u001b[0m\u001b[0mself\u001b[0m\u001b[0;34m.\u001b[0m\u001b[0mfunction_spec\u001b[0m\u001b[0;34m,\u001b[0m\u001b[0;34m\u001b[0m\u001b[0;34m\u001b[0m\u001b[0m\n",
      "\u001b[0;32m~/.conda/envs/lya-tf/lib/python3.7/site-packages/tensorflow/python/framework/func_graph.py\u001b[0m in \u001b[0;36mfunc_graph_from_py_func\u001b[0;34m(name, python_func, args, kwargs, signature, func_graph, autograph, autograph_options, add_control_dependencies, arg_names, op_return_value, collections, capture_by_value, override_flat_arg_shapes)\u001b[0m\n\u001b[1;32m    988\u001b[0m         \u001b[0m_\u001b[0m\u001b[0;34m,\u001b[0m \u001b[0moriginal_func\u001b[0m \u001b[0;34m=\u001b[0m \u001b[0mtf_decorator\u001b[0m\u001b[0;34m.\u001b[0m\u001b[0munwrap\u001b[0m\u001b[0;34m(\u001b[0m\u001b[0mpython_func\u001b[0m\u001b[0;34m)\u001b[0m\u001b[0;34m\u001b[0m\u001b[0;34m\u001b[0m\u001b[0m\n\u001b[1;32m    989\u001b[0m \u001b[0;34m\u001b[0m\u001b[0m\n\u001b[0;32m--> 990\u001b[0;31m       \u001b[0mfunc_outputs\u001b[0m \u001b[0;34m=\u001b[0m \u001b[0mpython_func\u001b[0m\u001b[0;34m(\u001b[0m\u001b[0;34m*\u001b[0m\u001b[0mfunc_args\u001b[0m\u001b[0;34m,\u001b[0m \u001b[0;34m**\u001b[0m\u001b[0mfunc_kwargs\u001b[0m\u001b[0;34m)\u001b[0m\u001b[0;34m\u001b[0m\u001b[0;34m\u001b[0m\u001b[0m\n\u001b[0m\u001b[1;32m    991\u001b[0m \u001b[0;34m\u001b[0m\u001b[0m\n\u001b[1;32m    992\u001b[0m       \u001b[0;31m# invariant: `func_outputs` contains only Tensors, CompositeTensors,\u001b[0m\u001b[0;34m\u001b[0m\u001b[0;34m\u001b[0m\u001b[0;34m\u001b[0m\u001b[0m\n",
      "\u001b[0;32m~/.conda/envs/lya-tf/lib/python3.7/site-packages/tensorflow/python/eager/def_function.py\u001b[0m in \u001b[0;36mwrapped_fn\u001b[0;34m(*args, **kwds)\u001b[0m\n\u001b[1;32m    632\u001b[0m             \u001b[0mxla_context\u001b[0m\u001b[0;34m.\u001b[0m\u001b[0mExit\u001b[0m\u001b[0;34m(\u001b[0m\u001b[0;34m)\u001b[0m\u001b[0;34m\u001b[0m\u001b[0;34m\u001b[0m\u001b[0m\n\u001b[1;32m    633\u001b[0m         \u001b[0;32melse\u001b[0m\u001b[0;34m:\u001b[0m\u001b[0;34m\u001b[0m\u001b[0;34m\u001b[0m\u001b[0m\n\u001b[0;32m--> 634\u001b[0;31m           \u001b[0mout\u001b[0m \u001b[0;34m=\u001b[0m \u001b[0mweak_wrapped_fn\u001b[0m\u001b[0;34m(\u001b[0m\u001b[0;34m)\u001b[0m\u001b[0;34m.\u001b[0m\u001b[0m__wrapped__\u001b[0m\u001b[0;34m(\u001b[0m\u001b[0;34m*\u001b[0m\u001b[0margs\u001b[0m\u001b[0;34m,\u001b[0m \u001b[0;34m**\u001b[0m\u001b[0mkwds\u001b[0m\u001b[0;34m)\u001b[0m\u001b[0;34m\u001b[0m\u001b[0;34m\u001b[0m\u001b[0m\n\u001b[0m\u001b[1;32m    635\u001b[0m         \u001b[0;32mreturn\u001b[0m \u001b[0mout\u001b[0m\u001b[0;34m\u001b[0m\u001b[0;34m\u001b[0m\u001b[0m\n\u001b[1;32m    636\u001b[0m \u001b[0;34m\u001b[0m\u001b[0m\n",
      "\u001b[0;32m~/.conda/envs/lya-tf/lib/python3.7/site-packages/tensorflow/python/framework/func_graph.py\u001b[0m in \u001b[0;36mwrapper\u001b[0;34m(*args, **kwargs)\u001b[0m\n\u001b[1;32m    975\u001b[0m           \u001b[0;32mexcept\u001b[0m \u001b[0mException\u001b[0m \u001b[0;32mas\u001b[0m \u001b[0me\u001b[0m\u001b[0;34m:\u001b[0m  \u001b[0;31m# pylint:disable=broad-except\u001b[0m\u001b[0;34m\u001b[0m\u001b[0;34m\u001b[0m\u001b[0m\n\u001b[1;32m    976\u001b[0m             \u001b[0;32mif\u001b[0m \u001b[0mhasattr\u001b[0m\u001b[0;34m(\u001b[0m\u001b[0me\u001b[0m\u001b[0;34m,\u001b[0m \u001b[0;34m\"ag_error_metadata\"\u001b[0m\u001b[0;34m)\u001b[0m\u001b[0;34m:\u001b[0m\u001b[0;34m\u001b[0m\u001b[0;34m\u001b[0m\u001b[0m\n\u001b[0;32m--> 977\u001b[0;31m               \u001b[0;32mraise\u001b[0m \u001b[0me\u001b[0m\u001b[0;34m.\u001b[0m\u001b[0mag_error_metadata\u001b[0m\u001b[0;34m.\u001b[0m\u001b[0mto_exception\u001b[0m\u001b[0;34m(\u001b[0m\u001b[0me\u001b[0m\u001b[0;34m)\u001b[0m\u001b[0;34m\u001b[0m\u001b[0;34m\u001b[0m\u001b[0m\n\u001b[0m\u001b[1;32m    978\u001b[0m             \u001b[0;32melse\u001b[0m\u001b[0;34m:\u001b[0m\u001b[0;34m\u001b[0m\u001b[0;34m\u001b[0m\u001b[0m\n\u001b[1;32m    979\u001b[0m               \u001b[0;32mraise\u001b[0m\u001b[0;34m\u001b[0m\u001b[0;34m\u001b[0m\u001b[0m\n",
      "\u001b[0;31mValueError\u001b[0m: in user code:\n\n    /global/homes/j/jupiter/.conda/envs/lya-tf/lib/python3.7/site-packages/tensorflow/python/ops/parallel_for/control_flow_ops.py:188 f  *\n        iters,\n    /global/homes/j/jupiter/.conda/envs/lya-tf/lib/python3.7/site-packages/tensorflow/python/ops/parallel_for/control_flow_ops.py:248 _pfor_impl  **\n        loop_fn_outputs = loop_fn(loop_var)\n    /global/homes/j/jupiter/.conda/envs/lya-tf/lib/python3.7/site-packages/tensorflow/python/ops/parallel_for/control_flow_ops.py:472 loop_fn\n        return fn(gathered_elems)\n    <ipython-input-29-80fa8ad4df20>:6 fn\n        a = tf.convert_to_tensor(elems[0], dtype=tf.float32, name='test')\n    /global/homes/j/jupiter/.conda/envs/lya-tf/lib/python3.7/site-packages/tensorflow/python/util/dispatch.py:201 wrapper\n        return target(*args, **kwargs)\n    /global/homes/j/jupiter/.conda/envs/lya-tf/lib/python3.7/site-packages/tensorflow/python/framework/ops.py:1405 convert_to_tensor_v2_with_dispatch\n        value, dtype=dtype, dtype_hint=dtype_hint, name=name)\n    /global/homes/j/jupiter/.conda/envs/lya-tf/lib/python3.7/site-packages/tensorflow/python/framework/ops.py:1415 convert_to_tensor_v2\n        as_ref=False)\n    /global/homes/j/jupiter/.conda/envs/lya-tf/lib/python3.7/site-packages/tensorflow/python/profiler/trace.py:163 wrapped\n        return func(*args, **kwargs)\n    /global/homes/j/jupiter/.conda/envs/lya-tf/lib/python3.7/site-packages/tensorflow/python/framework/ops.py:1509 convert_to_tensor\n        (dtype.name, value.dtype.name, value))\n\n    ValueError: Tensor conversion requested dtype float32 for Tensor with dtype float64: <tf.Tensor 'loop_body/GatherV2:0' shape=(10,) dtype=float64>\n"
     ]
    }
   ],
   "source": [
    "x = tf.constant(np.arange(100).reshape(10,10), dtype=tf.float64)\n",
    "y = tf.constant(np.arange(100).reshape(10,10), dtype=tf.float64)\n",
    "elems = (x,y)\n",
    "\n",
    "start = time.time()\n",
    "print('eager:', tf.executing_eagerly())\n",
    "out = tf.vectorized_map(fn, elems=elems)\n",
    "\n",
    "#time_stats(time.time() - start, 10)"
   ]
  },
  {
   "cell_type": "code",
   "execution_count": 8,
   "id": "f69ed137-1e24-45b0-a487-73fba8652eec",
   "metadata": {
    "tags": []
   },
   "outputs": [
    {
     "data": {
      "text/plain": [
       "<tf.Tensor: shape=(10, 10), dtype=float64, numpy=\n",
       "array([[  3.,   5.,   7.,   9.,  11.,  13.,  15.,  17.,  19.,  21.],\n",
       "       [ 23.,  25.,  27.,  29.,  31.,  33.,  35.,  37.,  39.,  41.],\n",
       "       [ 43.,  45.,  47.,  49.,  51.,  53.,  55.,  57.,  59.,  61.],\n",
       "       [ 63.,  65.,  67.,  69.,  71.,  73.,  75.,  77.,  79.,  81.],\n",
       "       [ 83.,  85.,  87.,  89.,  91.,  93.,  95.,  97.,  99., 101.],\n",
       "       [103., 105., 107., 109., 111., 113., 115., 117., 119., 121.],\n",
       "       [123., 125., 127., 129., 131., 133., 135., 137., 139., 141.],\n",
       "       [143., 145., 147., 149., 151., 153., 155., 157., 159., 161.],\n",
       "       [163., 165., 167., 169., 171., 173., 175., 177., 179., 181.],\n",
       "       [183., 185., 187., 189., 191., 193., 195., 197., 199., 201.]])>"
      ]
     },
     "execution_count": 8,
     "metadata": {},
     "output_type": "execute_result"
    }
   ],
   "source": [
    "out"
   ]
  },
  {
   "cell_type": "markdown",
   "id": "c5b09a18-a159-40d2-83dd-56cb086e4060",
   "metadata": {},
   "source": [
    "## Assigning an element to an existing tensor"
   ]
  },
  {
   "cell_type": "code",
   "execution_count": 7,
   "id": "484ebdfa-9778-4caa-ab8c-0d1b6dc7acf3",
   "metadata": {
    "tags": []
   },
   "outputs": [],
   "source": [
    "x = tf.zeros([3,3,3])\n",
    "#tf.tensor_scatter_nd_add?"
   ]
  },
  {
   "cell_type": "code",
   "execution_count": 6,
   "id": "76925059-1a5c-48f7-902f-8a1914ed85de",
   "metadata": {
    "collapsed": true,
    "jupyter": {
     "outputs_hidden": true
    },
    "tags": []
   },
   "outputs": [
    {
     "data": {
      "text/plain": [
       "<tf.Tensor: shape=(3, 3, 3), dtype=float32, numpy=\n",
       "array([[[0., 0., 0.],\n",
       "        [1., 1., 1.],\n",
       "        [2., 2., 2.]],\n",
       "\n",
       "       [[3., 3., 3.],\n",
       "        [4., 4., 4.],\n",
       "        [5., 5., 5.]],\n",
       "\n",
       "       [[6., 6., 6.],\n",
       "        [7., 7., 7.],\n",
       "        [8., 8., 8.]]], dtype=float32)>"
      ]
     },
     "execution_count": 6,
     "metadata": {},
     "output_type": "execute_result"
    }
   ],
   "source": [
    "skewer = tf.zeros([3])\n",
    "for i in range(3):\n",
    "    for j in range(3):\n",
    "        x = tf.tensor_scatter_nd_add(x, [[i,j]], [skewer])\n",
    "        skewer = skewer + 1\n",
    "x"
   ]
  },
  {
   "cell_type": "code",
   "execution_count": 12,
   "id": "b47f1073-f057-4157-aa1a-40aaeb1dbe5f",
   "metadata": {},
   "outputs": [
    {
     "data": {
      "text/plain": [
       "<tf.Tensor: shape=(3,), dtype=float32, numpy=array([0., 3., 0.], dtype=float32)>"
      ]
     },
     "execution_count": 12,
     "metadata": {},
     "output_type": "execute_result"
    }
   ],
   "source": [
    "x = tf.zeros([3])\n",
    "tf.tensor_scatter_nd_add(x, [[1]], [3])"
   ]
  },
  {
   "cell_type": "markdown",
   "id": "e6fdc33e-25ff-42bd-b68a-89e950e9a82b",
   "metadata": {},
   "source": [
    "## Testing speed of tensor access\n",
    "\n",
    "It takes too long to access a tensor's entries one-by-one; I need to avoid this when I'm passing fields into the EOS or optical depth routines"
   ]
  },
  {
   "cell_type": "code",
   "execution_count": 7,
   "id": "55b80325-ecaa-45ed-817e-92b048866772",
   "metadata": {},
   "outputs": [],
   "source": [
    "def time_stats(duration, n):\n",
    "    rate = duration / n**2\n",
    "    print(\"Duration:\", np.round(duration, 4))\n",
    "    print(\"Hours needed to access 1024^3 entries:\", \n",
    "      np.round(rate * 1024**3 / 3600, 4))"
   ]
  },
  {
   "cell_type": "code",
   "execution_count": 61,
   "id": "d8bbf403-fac1-444e-bf6f-74e425fd200f",
   "metadata": {
    "tags": []
   },
   "outputs": [
    {
     "name": "stdout",
     "output_type": "stream",
     "text": [
      "Duration: 0.0067\n",
      "Hours needed to access 1024^3 entries: 79.4709\n"
     ]
    }
   ],
   "source": [
    "n = 5\n",
    "field = tf.zeros((n,n))\n",
    "total = 0\n",
    "\n",
    "start = time.time()\n",
    "\n",
    "for i in range(n):\n",
    "    for j in range(n):\n",
    "        total += field[i,j]\n",
    "\n",
    "duration = time.time() - start\n",
    "time_stats(duration, n)"
   ]
  },
  {
   "cell_type": "markdown",
   "id": "1bd231c7-d919-4180-bdc2-f150fab9b4fd",
   "metadata": {},
   "source": [
    "### Nested loops"
   ]
  },
  {
   "cell_type": "code",
   "execution_count": 51,
   "id": "dbdcbdcf-b6f4-4857-ac2c-3ffdb9dcebd5",
   "metadata": {
    "tags": []
   },
   "outputs": [
    {
     "name": "stdout",
     "output_type": "stream",
     "text": [
      "(<tf.Tensor: shape=(), dtype=int32, numpy=10>, <tf.Tensor: shape=(), dtype=float32, numpy=15.0>)\n",
      "Duration: 0.0435\n",
      "Hours needed to access 1024^3 entries: 129.814\n"
     ]
    }
   ],
   "source": [
    "count = 15\n",
    "n = 10\n",
    "field = tf.zeros((n,n))\n",
    "\n",
    "start = time.time()\n",
    "\n",
    "# outer loop\n",
    "i = tf.constant(0)\n",
    "condition1 = lambda i, count: tf.less(i, n)\n",
    "\n",
    "def body1(i, r): # index i and result r\n",
    "    # inner loop\n",
    "    j = tf.constant(0)\n",
    "    condition2 = lambda i,j,r: tf.less(j, n)\n",
    "    \n",
    "    def body2(i, j, r):\n",
    "        r += field[i,j]\n",
    "        return i, tf.add(j, 1), r\n",
    "    \n",
    "    i, j, r = tf.while_loop(condition2, body2, loop_vars=[i,j, r])\n",
    "    \n",
    "    # increment r\n",
    "    return tf.add(i, 1), r\n",
    "\n",
    "# do the loop:\n",
    "r = tf.while_loop(condition1, body1, [i, count])\n",
    "print(r)\n",
    "\n",
    "duration = time.time() - start\n",
    "time_stats(duration, n)"
   ]
  },
  {
   "cell_type": "markdown",
   "id": "0a48ec23-8e6a-44ef-8e27-7a0ee43e2310",
   "metadata": {},
   "source": [
    "## Testing tf gradients"
   ]
  },
  {
   "cell_type": "code",
   "execution_count": 13,
   "id": "050ed521-66d7-4907-a1bb-3bb9cccb4f72",
   "metadata": {},
   "outputs": [
    {
     "data": {
      "text/plain": [
       "<tf.Tensor: shape=(), dtype=float32, numpy=9.0>"
      ]
     },
     "execution_count": 13,
     "metadata": {},
     "output_type": "execute_result"
    }
   ],
   "source": [
    "tf.math.pow(z, 2)"
   ]
  },
  {
   "cell_type": "code",
   "execution_count": 11,
   "id": "62c87d49-71a5-4543-b903-2739872cfdba",
   "metadata": {},
   "outputs": [
    {
     "name": "stdout",
     "output_type": "stream",
     "text": [
      "a: tf.Tensor(0.25, shape=(), dtype=float32)\n",
      "grad: tf.Tensor(-0.0625, shape=(), dtype=float32)\n"
     ]
    }
   ],
   "source": [
    "z = tf.constant(3.)\n",
    "with tf.GradientTape() as tape:\n",
    "    tape.watch(z) # without this line, grad is None\n",
    "    a = tf.divide(1, z+1)\n",
    "    print('a:', a)\n",
    "    \n",
    "grad = tape.gradient(a, z)\n",
    "print('grad:', grad)"
   ]
  },
  {
   "cell_type": "markdown",
   "id": "f7edee72-2aa3-4c22-8d66-102dce21eead",
   "metadata": {},
   "source": [
    "# Wrapping Fortran functions to Python"
   ]
  },
  {
   "cell_type": "markdown",
   "id": "478b64ff-34b2-430e-a5c8-eb0f442ebc1b",
   "metadata": {},
   "source": [
    "[Three ways to wrap](https://numpy.org/doc/stable/f2py/f2py.getting-started.html)\n",
    "\n",
    "- Quick way (this requires Python 3.7 and NumPy 1.18): `python3 -m numpy.f2py -c eos-t.f90 -m eos_t`\n"
   ]
  },
  {
   "cell_type": "code",
   "execution_count": 3,
   "id": "f7ab1a10-a491-4d29-a7ab-36e03bbe39f0",
   "metadata": {},
   "outputs": [
    {
     "name": "stdout",
     "output_type": "stream",
     "text": [
      "3.7.10\n"
     ]
    }
   ],
   "source": [
    "from platform import python_version\n",
    "print(python_version())"
   ]
  },
  {
   "cell_type": "code",
   "execution_count": 5,
   "id": "e61e8510-c70c-47fc-979e-800ceb2777fa",
   "metadata": {},
   "outputs": [
    {
     "name": "stdout",
     "output_type": "stream",
     "text": [
      "[1.26271073e-10 1.25558019e-10 1.24848791e-10 ... 6.57445059e-19\n",
      " 6.47458444e-19 6.37622769e-19]\n"
     ]
    }
   ],
   "source": [
    "eos_t.atomic_rates.tabulate_rates()\n",
    "print(eos_t.atomic_rates.alphahp)"
   ]
  },
  {
   "cell_type": "markdown",
   "id": "3194f80d-bf3f-4e01-81fb-6a93faeb0a8e",
   "metadata": {},
   "source": [
    "# Load in the data"
   ]
  },
  {
   "cell_type": "code",
   "execution_count": 1,
   "id": "f4603af4-2521-4c63-9245-a0b0c3a49b59",
   "metadata": {},
   "outputs": [],
   "source": [
    "filename = \"../../../../../cscratch1/sd/jupiter/sim2_z3_FGPA_cgs.h5\"\n",
    "\n",
    "#snap = h5py.File(filename,'r')"
   ]
  },
  {
   "cell_type": "code",
   "execution_count": 5,
   "id": "49a58af2-32e7-49a1-97f7-f4505643cde3",
   "metadata": {},
   "outputs": [
    {
     "name": "stdout",
     "output_type": "stream",
     "text": [
      "ok\n"
     ]
    }
   ],
   "source": [
    "name = 'aux_fields'\n",
    "\n",
    "snap.keys()\n",
    "\n",
    "if name in snap:\n",
    "    print('ok')"
   ]
  },
  {
   "cell_type": "markdown",
   "id": "3b275758-854f-4696-b5ed-c126efdde728",
   "metadata": {},
   "source": [
    "## Testing classes"
   ]
  },
  {
   "cell_type": "code",
   "execution_count": 2,
   "id": "ad74e4b1-33f9-4d43-bdd0-9822657c03ee",
   "metadata": {},
   "outputs": [],
   "source": [
    "import snapshot\n",
    "import time\n",
    "\n",
    "snap = snapshot.Snapshot(filename)"
   ]
  },
  {
   "cell_type": "code",
   "execution_count": 3,
   "id": "058ee92d-3c5c-47dd-9072-e436712473b8",
   "metadata": {},
   "outputs": [
    {
     "name": "stdout",
     "output_type": "stream",
     "text": [
      "[1024 1024 1024]\n",
      "[21.09375 21.09375 21.09375]\n",
      "Time: 11.72275996208191\n"
     ]
    }
   ],
   "source": [
    "# test snapshot methods\n",
    "start = time.time()\n",
    "\n",
    "temp = snap.read_field('/native_fields/temperature')\n",
    "rhob = snap.read_field('/native_fields/baryon_density')\n",
    "print(temp.shape)\n",
    "print(temp.size)\n",
    "print('Time:', time.time() - start)"
   ]
  },
  {
   "cell_type": "code",
   "execution_count": 3,
   "id": "8146bd6c-8a28-41de-b1f4-8c7ef60dcd41",
   "metadata": {},
   "outputs": [
    {
     "name": "stdout",
     "output_type": "stream",
     "text": [
      "[5, 5, 5]\n",
      "tf.Tensor([0.10299683 0.10299683 0.10299683], shape=(3,), dtype=float64)\n",
      "Time: 17.140169620513916\n"
     ]
    }
   ],
   "source": [
    "# test read_field2 (reading in n^3 grids)\n",
    "start = time.time()\n",
    "shape = [5,5,5]\n",
    "\n",
    "temp2 = snap.read_field2('/native_fields/temperature', shape)\n",
    "print(temp2.shape)\n",
    "print(temp2.size)\n",
    "print('Time:', time.time() - start)"
   ]
  },
  {
   "cell_type": "markdown",
   "id": "a08babae-10a2-4bee-98b8-59c475cbccc2",
   "metadata": {},
   "source": [
    "### universe"
   ]
  },
  {
   "cell_type": "code",
   "execution_count": 3,
   "id": "acfee78b-119b-4aa8-a234-116d1266516b",
   "metadata": {},
   "outputs": [
    {
     "data": {
      "text/plain": [
       "<tf.Tensor: shape=(), dtype=float64, numpy=2.2856888888888885e+25>"
      ]
     },
     "execution_count": 3,
     "metadata": {},
     "output_type": "execute_result"
    }
   ],
   "source": [
    "u = snap.universe\n",
    "chi = 10\n",
    "z = 1\n",
    "u.chi_to_proper_cgs(chi, z)"
   ]
  },
  {
   "cell_type": "code",
   "execution_count": 4,
   "id": "28f75f47-fb47-4345-86d9-1713e3f3faea",
   "metadata": {},
   "outputs": [
    {
     "data": {
      "text/plain": [
       "<tf.Variable 'Variable:0' shape=() dtype=float64, numpy=0.675>"
      ]
     },
     "execution_count": 4,
     "metadata": {},
     "output_type": "execute_result"
    }
   ],
   "source": [
    "u.h"
   ]
  },
  {
   "cell_type": "markdown",
   "id": "31f092ad-5dcf-4f55-af08-48eba08c8a40",
   "metadata": {},
   "source": [
    "### eos"
   ]
  },
  {
   "cell_type": "code",
   "execution_count": 5,
   "id": "336c4016-5c2e-4278-9de0-a08613e07202",
   "metadata": {},
   "outputs": [
    {
     "data": {
      "text/plain": [
       "9.275646225472467e-13"
      ]
     },
     "execution_count": 5,
     "metadata": {},
     "output_type": "execute_result"
    }
   ],
   "source": [
    "import eos\n",
    "\n",
    "eos_obj = eos.EOS_at_z(snap.z)\n",
    "# returns nhi\n",
    "eos_obj.nyx_eos(rhob.field[0,0,0] * 1e-29, temp.field[0,0,0])"
   ]
  },
  {
   "cell_type": "markdown",
   "id": "1bc1680a-afdf-4045-986d-17aeaf87633d",
   "metadata": {},
   "source": [
    "## Metadata"
   ]
  },
  {
   "cell_type": "code",
   "execution_count": 5,
   "id": "a1efd919-0f98-426a-8d85-709ff4774d9c",
   "metadata": {},
   "outputs": [],
   "source": [
    "shape = snap['domain'].attrs['shape']\n",
    "size = snap['domain'].attrs['size']\n",
    "\n",
    "z = snap['universe'].attrs['redshift']\n",
    "omega_b = snap['universe'].attrs['omega_b']\n",
    "omega_m = snap['universe'].attrs['omega_m']\n",
    "omega_l = snap['universe'].attrs['omega_l']\n",
    "h = snap['universe'].attrs['hubble']\n",
    "\n",
    "scale_factor = 1.0 / (1.0 + z)"
   ]
  },
  {
   "cell_type": "code",
   "execution_count": 6,
   "id": "c3e41af2-0130-43d2-9ee7-0dc0e850d2dc",
   "metadata": {},
   "outputs": [
    {
     "name": "stdout",
     "output_type": "stream",
     "text": [
      "[1024 1024 1024]\n",
      "[21.09375 21.09375 21.09375]\n"
     ]
    }
   ],
   "source": [
    "print(shape)\n",
    "print(size)"
   ]
  },
  {
   "cell_type": "code",
   "execution_count": 5,
   "id": "372e959a-eaf6-4272-8b2e-ddb388a1bc15",
   "metadata": {},
   "outputs": [],
   "source": [
    "snap.close()"
   ]
  },
  {
   "cell_type": "code",
   "execution_count": null,
   "id": "603dc22e-46b1-4028-b819-c98f8567d6bf",
   "metadata": {},
   "outputs": [],
   "source": []
  }
 ],
 "metadata": {
  "kernelspec": {
   "display_name": "Lya-TF",
   "language": "python",
   "name": "lya-tf"
  },
  "language_info": {
   "codemirror_mode": {
    "name": "ipython",
    "version": 3
   },
   "file_extension": ".py",
   "mimetype": "text/x-python",
   "name": "python",
   "nbconvert_exporter": "python",
   "pygments_lexer": "ipython3",
   "version": "3.7.10"
  }
 },
 "nbformat": 4,
 "nbformat_minor": 5
}
