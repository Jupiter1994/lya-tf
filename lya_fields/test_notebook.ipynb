{
 "cells": [
  {
   "cell_type": "code",
   "execution_count": 1,
   "id": "57c2b1af-7386-486d-9204-65441aa5257c",
   "metadata": {
    "tags": []
   },
   "outputs": [],
   "source": [
    "import h5py\n",
    "import tensorflow as tf\n",
    "import numpy as np\n",
    "from numpy import f2py\n",
    "import scipy.interpolate as interp\n",
    "\n",
    "import matplotlib as mpl\n",
    "import matplotlib.pyplot as plt\n",
    "import time\n",
    "\n",
    "import constants\n",
    "import eos\n",
    "import lya_fields\n",
    "import snapshot"
   ]
  },
  {
   "cell_type": "markdown",
   "id": "bfeaa65d-90d1-4aab-ba0f-f735a75a72e9",
   "metadata": {},
   "source": [
    "# TensorFlow"
   ]
  },
  {
   "cell_type": "markdown",
   "id": "f4be3583-304f-482d-b13e-c56dbb01e665",
   "metadata": {},
   "source": [
    "## Interpolating $n(\\rho, T)$"
   ]
  },
  {
   "cell_type": "code",
   "execution_count": 2,
   "id": "decc2ece-44ea-46b8-8bc8-55d6a0b40a47",
   "metadata": {},
   "outputs": [],
   "source": [
    "filename = \"../../../../../cscratch1/sd/jupiter/sim2_z3_FGPA_cgs.h5\"\n",
    "\n",
    "snap = snapshot.Snapshot(filename)"
   ]
  },
  {
   "cell_type": "code",
   "execution_count": 8,
   "id": "e4794bc4-79e6-4930-8ab3-35733c8eaeef",
   "metadata": {
    "tags": []
   },
   "outputs": [
    {
     "name": "stdout",
     "output_type": "stream",
     "text": [
      "Duration: 2.020350694656372\n"
     ]
    }
   ],
   "source": [
    "## load in snapshot info\n",
    "a = snap.scale_factor\n",
    "z = snap.z\n",
    "u = snap.universe\n",
    "h = u.h\n",
    "omega_b = u.omega_b\n",
    "\n",
    "eos_obj = eos.EOS_at_z(z)\n",
    "mean_rhob_cgs = omega_b * h*h * constants.rho_crit_100_cgs\n",
    "a3_inv = 1.0 / (a * a * a)\n",
    "\n",
    "## create the rho, temp, and nhi arrays\n",
    "length = 100 # dimension size\n",
    "\n",
    "log10_rho = np.linspace(-1, 3, num=length)\n",
    "rhob = 10**log10_rho\n",
    "rhob_cgs = mean_rhob_cgs * a3_inv * rhob\n",
    "\n",
    "log10_t = np.linspace(3, 6, num=length)\n",
    "temp = 10**log10_t\n",
    "\n",
    "nhi_grid = np.ndarray((length, length))\n",
    "\n",
    "start = time.time()\n",
    "for i in range(length):\n",
    "    for j in range(length):\n",
    "        nhi_grid[i, j] = eos_obj.nyx_eos(rhob_cgs[i], temp[j])\n",
    "\n",
    "print('Duration:', time.time() - start)"
   ]
  },
  {
   "cell_type": "code",
   "execution_count": 4,
   "id": "d3ead25e-0c54-437e-9591-3c9f5c20de3f",
   "metadata": {},
   "outputs": [],
   "source": [
    "# interpolated function n(rho, T)\n",
    "deg = 3 # degree of spline; default is 3\n",
    "f_log10 = interp.RectBivariateSpline(log10_rho, log10_t, nhi, kx=deg, ky=deg)\n",
    "\n",
    "# the interpolated partial derivatives n_[log(rho)] and n_[log(T)]\n",
    "f_r_grid = f_log10(log10_rho, log10_t, dx=1, dy=0)\n",
    "f_r_log10 = interp.interp2d(log10_rho, log10_t, f_r_grid)\n",
    "\n",
    "f_t_grid = f_log10(log10_rho, log10_t, dx=0, dy=1)\n",
    "f_t_log10 = interp.interp2d(log10_rho, log10_t, f_t_grid)"
   ]
  },
  {
   "cell_type": "markdown",
   "id": "bc025d90-0fe7-4413-8afb-81b7052e9128",
   "metadata": {},
   "source": [
    "### Calculating $n_x$ from $n_{\\log{x}}$ via Chain Rule"
   ]
  },
  {
   "cell_type": "markdown",
   "id": "9072411a-dead-4ed7-b55b-6ce0ccad2774",
   "metadata": {},
   "source": [
    "The below calculation shows $x = \\rho$; the calculation with $T$ is essentially the same."
   ]
  },
  {
   "cell_type": "markdown",
   "id": "f727d77f-7569-45ea-bc23-8352740958d3",
   "metadata": {},
   "source": [
    "$$\n",
    "\\frac{\\partial n(\\log{\\rho}, \\log{T})}{\\partial \\log_{10}(\\rho)}\n",
    "=\n",
    "\\frac{\\partial n}{\\partial \\rho} \\frac{\\partial \\rho}{\\partial \\log_{10}(\\rho)} + \\frac{\\partial n}{\\partial T} \\frac{\\partial T}{\\partial \\log_{10}(\\rho)}\n",
    "=\n",
    "\\frac{\\partial n}{\\partial \\rho} \\frac{\\partial \\rho}{\\partial \\log_{10}(\\rho)}\n",
    "$$\n",
    "\n",
    "$$\n",
    "\\implies\n",
    "n_\\rho = \\frac{\\partial n}{\\partial \\rho} = \\frac{\\partial n(\\log{\\rho}, \\log{T})}{\\partial \\log_{10}(\\rho)} \\cdot \\frac{1}{\\rho \\ln{10}} = \\frac{n_{\\log{\\rho}}}{\\rho \\ln{10}}.\n",
    "$$"
   ]
  },
  {
   "cell_type": "code",
   "execution_count": 5,
   "id": "0d638a94-5479-4aee-8e1e-b862b7c843a8",
   "metadata": {},
   "outputs": [],
   "source": [
    "# define the partial derivatives n_rho and n_T\n",
    "# (here, we assume log_rho and log_t are the data point coordinates)\n",
    "def f_rho(log_rho, log_t):\n",
    "    return f_r_log10(log_rho, log_t) / 10**log_rho / np.log(10)\n",
    "\n",
    "def f_t(log_rho, log_t):\n",
    "    return f_t_log10(log_rho, log_t) / 10**log_t / np.log(10)"
   ]
  },
  {
   "cell_type": "code",
   "execution_count": 226,
   "id": "e99524cb-1ff3-4f83-bf8f-6177d6be9894",
   "metadata": {
    "tags": []
   },
   "outputs": [
    {
     "name": "stdout",
     "output_type": "stream",
     "text": [
      "low rhob, low T: 3.727715585859389e-12\n",
      "high rhob, low T: 0.0003288457287933871\n",
      "high rhob, high T: 2.8365009763626884e-09\n",
      "low rhob, high T: 1.2925375483321511e-14\n",
      "\n",
      "low rhob, low T: 3.72771558585939e-12\n",
      "high rhob, low T: 0.00032884572879338716\n",
      "high rhob, high T: 2.8365009763626884e-09\n",
      "low rhob, high T: 1.2925375483321511e-14\n",
      "-2.0225440253780743e-07\n",
      "-1.4336349542331395e-20\n"
     ]
    }
   ],
   "source": [
    "print('low rhob, low T:', nhi[0,0])\n",
    "print('high rhob, low T:', nhi[99,0])\n",
    "print('high rhob, high T:', nhi[99,99])\n",
    "print('low rhob, high T:', nhi[0,99])\n",
    "print()\n",
    "print('low rhob, low T:', f_log10(log10_rho, log10_t)[0,0])\n",
    "print('high rhob, low T:', f_log10(log10_rho, log10_t)[99,0])\n",
    "print('high rhob, high T:', f_log10(log10_rho, log10_t)[99,99])\n",
    "print('low rhob, high T:', f_log10(log10_rho, log10_t)[0,99])\n",
    "\n",
    "# comparing f_log10 and f_x_log10 (they all range from ~1e-14 to 1e-4)\n",
    "# print(np.min(f_log10(log10_rho, log10_t)))\n",
    "# print(np.min(f_r_log10(log10_rho, log10_t)))\n",
    "# print(np.min(f_t_log10(log10_rho, log10_t)))\n",
    "\n",
    "# looking at the ranges of f_x\n",
    "print(np.min(f_t(log10_rho, log10_t)))\n",
    "print(np.max(f_t(log10_rho, log10_t)))\n",
    "\n",
    "# check for the discontinuity in f_rho (appears with RectBivariateSpline)\n",
    "#print(f_rho(log10_rho, log10_t)[97:, 20:30])"
   ]
  },
  {
   "cell_type": "code",
   "execution_count": 229,
   "id": "11005fe4-7bac-40e5-a9ae-f42a66a36900",
   "metadata": {
    "tags": []
   },
   "outputs": [],
   "source": [
    "## plotting n_rho (un-comment this if gradient interpolations are done with RectBivariateSpline)\n",
    "\n",
    "# v = 1e-2\n",
    "# plt.imshow(f_rho(log10_rho, log10_t), \n",
    "#            vmin=-v, vmax=v, norm=mpl.colors.SymLogNorm(1e-13))\n",
    "\n",
    "# plt.colorbar(ticks=[-v, -1e-6, -1e-10, 0, 1e-10, 1e-6, v])"
   ]
  },
  {
   "cell_type": "markdown",
   "id": "878010b3-5715-467e-9fc4-282a2347e0b9",
   "metadata": {},
   "source": [
    "### Plotting the 3 interpolated functions (and the true n_HI grid)"
   ]
  },
  {
   "cell_type": "code",
   "execution_count": 6,
   "id": "4e1080b3-7101-43ae-a1d3-e80c0128a55d",
   "metadata": {
    "collapsed": true,
    "jupyter": {
     "outputs_hidden": true
    },
    "tags": []
   },
   "outputs": [
    {
     "data": {
      "image/png": "[encoded data removed]",
      "text/plain": [
       "<Figure size 792x792 with 8 Axes>"
      ]
     },
     "metadata": {
      "needs_background": "light"
     },
     "output_type": "display_data"
    }
   ],
   "source": [
    "fig, axes = plt.subplots(2, 2, figsize=(11,11))\n",
    "\n",
    "## interpolated function\n",
    "im1 = axes[0,0].imshow(np.log10(f_log10(log10_rho, log10_t, grid=True)))\n",
    "axes[0,0].set_title(\"log10(n) (interpolated)\")\n",
    "fig.colorbar(im1, ax=axes[0,0])\n",
    "\n",
    "axes[0,0].set_ylabel('log10(rho)')\n",
    "axes[0,0].set_yticks([0, length/4, length/2, length * 3/4])\n",
    "axes[0,0].set_yticklabels([-1,0,1,2])\n",
    "\n",
    "axes[0,0].set_xlabel('log10(T)')\n",
    "axes[0,0].set_xticks([0, length/3, length * 2/3])\n",
    "axes[0,0].set_xticklabels([3,4,5])\n",
    "\n",
    "## true n_HI grid\n",
    "im2 = axes[0,1].imshow(np.log10(nhi))\n",
    "axes[0,1].set_title(\"log10(n) (true grid)\")\n",
    "fig.colorbar(im2, ax=axes[0,1])\n",
    "\n",
    "axes[0,1].set_ylabel('log10(rho)')\n",
    "axes[0,1].set_yticks([0, length/4, length/2, length * 3/4])\n",
    "axes[0,1].set_yticklabels([-1,0,1,2])\n",
    "\n",
    "axes[0,1].set_xlabel('log10(T)')\n",
    "axes[0,1].set_xticks([0, length/3, length * 2/3])\n",
    "axes[0,1].set_xticklabels([3,4,5])\n",
    "\n",
    "## interpolated partial derivative n_rho\n",
    "\n",
    "# (un-comment this if gradient interpolations are done with RectBivariateSpline)\n",
    "# v = 1e-2\n",
    "# im3 = axes[1,0].imshow(f_rho(log10_rho, log10_t), \n",
    "#            vmin=-v, vmax=v, norm=mpl.colors.SymLogNorm(1e-11))\n",
    "# axes[1,0].set_title(r\"$n_\\rho$ (interpolated)\")\n",
    "\n",
    "# cbar = fig.colorbar(im3, ax=axes[1,0])\n",
    "# cbar.set_ticks([-v, -1e-6, -1e-10, 0, 1e-10, 1e-6, v])\n",
    "# cbar.set_ticklabels([-v, -1e-6, -1e-10, 0, 1e-10, 1e-6, v])\n",
    "\n",
    "im3 = axes[1,0].imshow(np.log10(f_rho(log10_rho, log10_t)))\n",
    "axes[1,0].set_title(r\"log10($n_\\rho$) (interpolated)\")\n",
    "fig.colorbar(im3, ax=axes[1,0])\n",
    "\n",
    "axes[1,0].set_ylabel('log10(rho)')\n",
    "axes[1,0].set_yticks([0, length/4, length/2, length * 3/4])\n",
    "axes[1,0].set_yticklabels([-1,0,1,2])\n",
    "\n",
    "axes[1,0].set_xlabel('log10(T)')\n",
    "axes[1,0].set_xticks([0, length/3, length * 2/3])\n",
    "axes[1,0].set_xticklabels([3,4,5])\n",
    "\n",
    "## interpolated partial derivative n_T\n",
    "im4 = axes[1,1].imshow(np.log10(-f_t(log10_rho, log10_t)))\n",
    "axes[1,1].set_title(r\"log10(-$n_T$) (interpolated)\")\n",
    "fig.colorbar(im4, ax=axes[1,1])\n",
    "\n",
    "axes[1,1].set_ylabel('log10(rho)')\n",
    "axes[1,1].set_yticks([0, length/4, length/2, length * 3/4])\n",
    "axes[1,1].set_yticklabels([-1,0,1,2])\n",
    "\n",
    "axes[1,1].set_xlabel('log10(T)')\n",
    "axes[1,1].set_xticks([0, length/3, length * 2/3])\n",
    "axes[1,1].set_xticklabels([3,4,5])\n",
    "\n",
    "plt.show()"
   ]
  },
  {
   "cell_type": "markdown",
   "id": "b7657dfe-a121-4302-9d5c-660b9a396a44",
   "metadata": {},
   "source": [
    "### Feeding tensors into interpolated functions\n",
    "We want to [evaluate the interp2d functions on arbitrary sets of inputs](https://stackoverflow.com/questions/47087109/evaluate-the-output-from-scipy-2d-interpolation-along-a-curve)."
   ]
  },
  {
   "cell_type": "code",
   "execution_count": 36,
   "id": "ad8ba5c0-22aa-4ef0-ac33-8080fbed66c4",
   "metadata": {},
   "outputs": [],
   "source": [
    "# get rho and T values from the snapshot\n",
    "shape = [2,10,10]\n",
    "\n",
    "rhob_grid = snap.read_subfield('/native_fields/baryon_density', shape)\n",
    "temp_grid = snap.read_subfield('/native_fields/temperature', shape)\n",
    "\n",
    "#nhi_tf = lya_fields.set_nhi(snap, rhob_grid, temp_grid).field\n",
    "\n",
    "rhob_tf = rhob_grid.field\n",
    "temp_tf = temp_grid.field\n",
    "\n",
    "log10_rhob_tf = tf.math.log(rhob_tf) / np.log(10)\n",
    "log10_temp_tf = tf.math.log(temp_tf) / np.log(10)"
   ]
  },
  {
   "cell_type": "code",
   "execution_count": 45,
   "id": "d687ee64-ceb1-4698-a6eb-257f15979076",
   "metadata": {
    "tags": []
   },
   "outputs": [],
   "source": [
    "def flatten(t):\n",
    "    '''\n",
    "    Flatten a tensor t.\n",
    "    \n",
    "    '''\n",
    "    size = tf.size(t)\n",
    "    return tf.reshape(t, [size])\n",
    "\n",
    "def unflatten(t, shape):\n",
    "    '''\n",
    "    Unflatten a tensor t to have a specified shape. \n",
    "    \n",
    "    '''\n",
    "\n",
    "    return tf.reshape(t, shape)"
   ]
  },
  {
   "cell_type": "code",
   "execution_count": 37,
   "id": "fa3c2141-fcf6-4aa6-8ddc-812e60040119",
   "metadata": {
    "tags": []
   },
   "outputs": [
    {
     "name": "stdout",
     "output_type": "stream",
     "text": [
      "nhi_interp's shape: [ 2 10 10]\n",
      "n_r_interp's shape: [200]\n"
     ]
    }
   ],
   "source": [
    "nhi_interp = f_log10(rhob_tf, temp_tf, grid=False)\n",
    "print('nhi_interp\\'s shape:', tf.shape(nhi_interp).numpy())\n",
    "\n",
    "# force interp2d functions to do n[i,j,k] = f(x[i,j,k], y[i,j,k]); i.e.\n",
    "# treat x,y as arbitrary inputs instead of coordinates\n",
    "n_r_interp = interp.dfitpack.bispeu(f_r_log10.tck[0], f_r_log10.tck[1], f_r_log10.tck[2], f_r_log10.tck[3], f_r_log10.tck[4], \\\n",
    "                                    flatten(log10_rhob_tf), flatten(log10_temp_tf))[0]\n",
    "\n",
    "print('n_r_interp\\'s shape:', tf.shape(n_r_interp).numpy())"
   ]
  },
  {
   "cell_type": "markdown",
   "id": "a3a796af-f5c7-421b-99c6-3e06c54e7e28",
   "metadata": {},
   "source": [
    "## Checking the orientation of interp2d's results"
   ]
  },
  {
   "cell_type": "code",
   "execution_count": 216,
   "id": "3962c3e4-c955-4ee2-b1a0-0817402e92d0",
   "metadata": {
    "tags": []
   },
   "outputs": [],
   "source": [
    "x = np.linspace(0, 10, num=length)\n",
    "y = np.linspace(0, 10, num=length)\n",
    "xs, ys = np.meshgrid(x,y)\n",
    "z = 2*xs**2 + ys**2\n",
    "\n",
    "# interpolated function n(rho, T)\n",
    "z_interp = interp.interp2d(x, y, z, kind='cubic')\n",
    "\n",
    "# the partial derivative grids\n",
    "z_x_interp = z_interp(x, y, dx=1, dy=0)\n",
    "z_y_interp = z_interp(x, y, dx=0, dy=1)"
   ]
  },
  {
   "cell_type": "code",
   "execution_count": 217,
   "id": "1f79c861-7638-4a79-851f-b9eb1429fa3b",
   "metadata": {
    "collapsed": true,
    "jupyter": {
     "outputs_hidden": true
    },
    "tags": []
   },
   "outputs": [
    {
     "data": {
      "image/png": "[encoded data removed]",
      "text/plain": [
       "<Figure size 432x288 with 2 Axes>"
      ]
     },
     "metadata": {
      "needs_background": "light"
     },
     "output_type": "display_data"
    },
    {
     "data": {
      "image/png": "[encoded data removed]",
      "text/plain": [
       "<Figure size 432x288 with 2 Axes>"
      ]
     },
     "metadata": {
      "needs_background": "light"
     },
     "output_type": "display_data"
    }
   ],
   "source": [
    "plt.imshow(z_interp(x,y))\n",
    "plt.xlabel('increasing x')\n",
    "plt.ylabel('increasing y')\n",
    "plt.colorbar()\n",
    "plt.show()\n",
    "\n",
    "plt.imshow(z_y_interp)\n",
    "plt.xlabel('increasing x')\n",
    "plt.ylabel('increasing y')\n",
    "plt.colorbar()\n",
    "plt.show()"
   ]
  },
  {
   "cell_type": "markdown",
   "id": "b05da115-cb44-4f69-acb8-8557f183635d",
   "metadata": {},
   "source": [
    "## Defining a 2-variable function and its gradients"
   ]
  },
  {
   "cell_type": "code",
   "execution_count": 3,
   "id": "87113958-6976-435d-bc34-1f90a124a9ac",
   "metadata": {},
   "outputs": [
    {
     "name": "stdout",
     "output_type": "stream",
     "text": [
      "z: tf.Tensor(6.0, shape=(), dtype=float32)\n",
      "dz/dx: tf.Tensor(3.0, shape=(), dtype=float32)\n",
      "dz/dy: tf.Tensor(2.0, shape=(), dtype=float32)\n"
     ]
    }
   ],
   "source": [
    "@tf.custom_gradient\n",
    "def bar(x, y): # f(x,y) = x * y\n",
    "    def grad(upstream): # pass in the \"upstream\" gradient\n",
    "        dz_dx = y\n",
    "        dz_dy = x\n",
    "        return upstream * dz_dx, upstream * dz_dy # pass grad \"downstream\"\n",
    "    z = x * y\n",
    "    return z, grad\n",
    "\n",
    "x = tf.constant(2.0, dtype=tf.float32)\n",
    "y = tf.constant(3.0, dtype=tf.float32)\n",
    "\n",
    "with tf.GradientTape(persistent=True) as tape:\n",
    "    tape.watch(x)\n",
    "    tape.watch(y)\n",
    "    z = bar(x, y)\n",
    "    \n",
    "print('z:', z)\n",
    "print('dz/dx:', tape.gradient(z, x))\n",
    "print('dz/dy:', tape.gradient(z, y))"
   ]
  },
  {
   "cell_type": "markdown",
   "id": "c5b09a18-a159-40d2-83dd-56cb086e4060",
   "metadata": {},
   "source": [
    "## Assigning an element to an existing tensor"
   ]
  },
  {
   "cell_type": "code",
   "execution_count": 7,
   "id": "484ebdfa-9778-4caa-ab8c-0d1b6dc7acf3",
   "metadata": {
    "tags": []
   },
   "outputs": [],
   "source": [
    "x = tf.zeros([3,3,3])\n",
    "#tf.tensor_scatter_nd_add?"
   ]
  },
  {
   "cell_type": "code",
   "execution_count": 6,
   "id": "76925059-1a5c-48f7-902f-8a1914ed85de",
   "metadata": {
    "collapsed": true,
    "jupyter": {
     "outputs_hidden": true
    },
    "tags": []
   },
   "outputs": [
    {
     "data": {
      "text/plain": [
       "<tf.Tensor: shape=(3, 3, 3), dtype=float32, numpy=\n",
       "array([[[0., 0., 0.],\n",
       "        [1., 1., 1.],\n",
       "        [2., 2., 2.]],\n",
       "\n",
       "       [[3., 3., 3.],\n",
       "        [4., 4., 4.],\n",
       "        [5., 5., 5.]],\n",
       "\n",
       "       [[6., 6., 6.],\n",
       "        [7., 7., 7.],\n",
       "        [8., 8., 8.]]], dtype=float32)>"
      ]
     },
     "execution_count": 6,
     "metadata": {},
     "output_type": "execute_result"
    }
   ],
   "source": [
    "skewer = tf.zeros([3])\n",
    "for i in range(3):\n",
    "    for j in range(3):\n",
    "        x = tf.tensor_scatter_nd_add(x, [[i,j]], [skewer])\n",
    "        skewer = skewer + 1\n",
    "x"
   ]
  },
  {
   "cell_type": "code",
   "execution_count": 12,
   "id": "b47f1073-f057-4157-aa1a-40aaeb1dbe5f",
   "metadata": {},
   "outputs": [
    {
     "data": {
      "text/plain": [
       "<tf.Tensor: shape=(3,), dtype=float32, numpy=array([0., 3., 0.], dtype=float32)>"
      ]
     },
     "execution_count": 12,
     "metadata": {},
     "output_type": "execute_result"
    }
   ],
   "source": [
    "x = tf.zeros([3])\n",
    "tf.tensor_scatter_nd_add(x, [[1]], [3])"
   ]
  },
  {
   "cell_type": "markdown",
   "id": "e6fdc33e-25ff-42bd-b68a-89e950e9a82b",
   "metadata": {},
   "source": [
    "## Testing speed of tensor access\n",
    "\n",
    "It takes too long to access a tensor's entries one-by-one; I need to avoid this when I'm passing fields into the EOS or optical depth routines"
   ]
  },
  {
   "cell_type": "code",
   "execution_count": 2,
   "id": "55b80325-ecaa-45ed-817e-92b048866772",
   "metadata": {},
   "outputs": [],
   "source": [
    "def time_stats(duration):\n",
    "    rate = duration / n**2\n",
    "    print(\"Duration:\", np.round(duration, 4))\n",
    "    print(\"Hours needed to access 1024^3 entries:\", \n",
    "      np.round(rate * 1024**3 / 3600, 4))"
   ]
  },
  {
   "cell_type": "code",
   "execution_count": 4,
   "id": "d8bbf403-fac1-444e-bf6f-74e425fd200f",
   "metadata": {
    "collapsed": true,
    "jupyter": {
     "outputs_hidden": true
    },
    "tags": []
   },
   "outputs": [
    {
     "name": "stdout",
     "output_type": "stream",
     "text": [
      "Duration: 0.0085\n",
      "Hours needed to access 1024^3 entries: 101.1769\n"
     ]
    }
   ],
   "source": [
    "import time\n",
    "\n",
    "n = 5\n",
    "field = tf.zeros((n,n))\n",
    "total = 0\n",
    "\n",
    "start = time.time()\n",
    "\n",
    "for i in range(n):\n",
    "    for j in range(n):\n",
    "        total += field[i,j]\n",
    "\n",
    "duration = time.time() - start\n",
    "time_stats(duration)"
   ]
  },
  {
   "cell_type": "markdown",
   "id": "1bd231c7-d919-4180-bdc2-f150fab9b4fd",
   "metadata": {},
   "source": [
    "### Nested loops"
   ]
  },
  {
   "cell_type": "code",
   "execution_count": 24,
   "id": "dbdcbdcf-b6f4-4857-ac2c-3ffdb9dcebd5",
   "metadata": {
    "collapsed": true,
    "jupyter": {
     "outputs_hidden": true
    },
    "tags": []
   },
   "outputs": [
    {
     "name": "stdout",
     "output_type": "stream",
     "text": [
      "(<tf.Tensor: shape=(), dtype=int32, numpy=10>, <tf.Tensor: shape=(), dtype=float32, numpy=15.0>)\n",
      "Duration: 0.0686\n",
      "Hours needed to access 1024^3 entries: 204.7353\n"
     ]
    }
   ],
   "source": [
    "count = 15\n",
    "n = 10\n",
    "\n",
    "start = time.time()\n",
    "\n",
    "# outer loop\n",
    "i = tf.constant(0)\n",
    "condition1 = lambda i, count: tf.less(i, n)\n",
    "\n",
    "def body1(i, r): # index i and result r\n",
    "    # inner loop\n",
    "    j = tf.constant(0)\n",
    "    condition2 = lambda i,j,r: tf.less(j, n)\n",
    "    \n",
    "    def body2(i, j, r):\n",
    "        r += field[i,j]\n",
    "        return i, tf.add(j, 1), r\n",
    "    \n",
    "    i, j, r = tf.while_loop(condition2, body2, loop_vars=[i,j, r])\n",
    "    \n",
    "    # increment r\n",
    "    return tf.add(i, 1), r\n",
    "\n",
    "# do the loop:\n",
    "r = tf.while_loop(condition1, body1, [i, count])\n",
    "print(r)\n",
    "\n",
    "duration = time.time() - start\n",
    "time_stats(duration)"
   ]
  },
  {
   "cell_type": "markdown",
   "id": "0a48ec23-8e6a-44ef-8e27-7a0ee43e2310",
   "metadata": {},
   "source": [
    "## Testing tf gradients"
   ]
  },
  {
   "cell_type": "code",
   "execution_count": 13,
   "id": "050ed521-66d7-4907-a1bb-3bb9cccb4f72",
   "metadata": {},
   "outputs": [
    {
     "data": {
      "text/plain": [
       "<tf.Tensor: shape=(), dtype=float32, numpy=9.0>"
      ]
     },
     "execution_count": 13,
     "metadata": {},
     "output_type": "execute_result"
    }
   ],
   "source": [
    "tf.math.pow(z, 2)"
   ]
  },
  {
   "cell_type": "code",
   "execution_count": 11,
   "id": "62c87d49-71a5-4543-b903-2739872cfdba",
   "metadata": {},
   "outputs": [
    {
     "name": "stdout",
     "output_type": "stream",
     "text": [
      "a: tf.Tensor(0.25, shape=(), dtype=float32)\n",
      "grad: tf.Tensor(-0.0625, shape=(), dtype=float32)\n"
     ]
    }
   ],
   "source": [
    "z = tf.constant(3.)\n",
    "with tf.GradientTape() as tape:\n",
    "    tape.watch(z) # without this line, grad is None\n",
    "    a = tf.divide(1, z+1)\n",
    "    print('a:', a)\n",
    "    \n",
    "grad = tape.gradient(a, z)\n",
    "print('grad:', grad)"
   ]
  },
  {
   "cell_type": "markdown",
   "id": "3194f80d-bf3f-4e01-81fb-6a93faeb0a8e",
   "metadata": {},
   "source": [
    "# Load in the data"
   ]
  },
  {
   "cell_type": "code",
   "execution_count": 2,
   "id": "f4603af4-2521-4c63-9245-a0b0c3a49b59",
   "metadata": {},
   "outputs": [],
   "source": [
    "filename = \"../../../../../cscratch1/sd/jupiter/sim2_z3_FGPA_cgs.h5\"\n",
    "\n",
    "#snap = h5py.File(filename,'r')"
   ]
  },
  {
   "cell_type": "code",
   "execution_count": 5,
   "id": "49a58af2-32e7-49a1-97f7-f4505643cde3",
   "metadata": {},
   "outputs": [
    {
     "name": "stdout",
     "output_type": "stream",
     "text": [
      "ok\n"
     ]
    }
   ],
   "source": [
    "name = 'aux_fields'\n",
    "\n",
    "snap.keys()\n",
    "\n",
    "if name in snap:\n",
    "    print('ok')"
   ]
  },
  {
   "cell_type": "markdown",
   "id": "3b275758-854f-4696-b5ed-c126efdde728",
   "metadata": {},
   "source": [
    "## Testing classes"
   ]
  },
  {
   "cell_type": "code",
   "execution_count": 3,
   "id": "ad74e4b1-33f9-4d43-bdd0-9822657c03ee",
   "metadata": {},
   "outputs": [],
   "source": [
    "snap = snapshot.Snapshot(filename)"
   ]
  },
  {
   "cell_type": "markdown",
   "id": "5250b425-7132-4f66-9feb-ca7c6b662dbe",
   "metadata": {},
   "source": [
    "### snapshot"
   ]
  },
  {
   "cell_type": "code",
   "execution_count": 4,
   "id": "058ee92d-3c5c-47dd-9072-e436712473b8",
   "metadata": {},
   "outputs": [
    {
     "name": "stdout",
     "output_type": "stream",
     "text": [
      "[1024 1024 1024]\n",
      "[21.09375 21.09375 21.09375]\n",
      "Time: 10.361153364181519\n"
     ]
    }
   ],
   "source": [
    "# test snapshot methods\n",
    "start = time.time()\n",
    "\n",
    "temp = snap.read_field('/native_fields/temperature')\n",
    "rhob = snap.read_field('/native_fields/baryon_density')\n",
    "print(temp.shape)\n",
    "print(temp.size)\n",
    "print('Time:', time.time() - start)"
   ]
  },
  {
   "cell_type": "code",
   "execution_count": 5,
   "id": "8146bd6c-8a28-41de-b1f4-8c7ef60dcd41",
   "metadata": {},
   "outputs": [
    {
     "name": "stdout",
     "output_type": "stream",
     "text": [
      "[2, 3, 5]\n",
      "tf.Tensor([0.04119873 0.0617981  0.10299683], shape=(3,), dtype=float64)\n",
      "Time: 2.255763530731201\n"
     ]
    }
   ],
   "source": [
    "# test read_subfield\n",
    "start = time.time()\n",
    "shape = [2,3,5]\n",
    "\n",
    "temp2 = snap.read_subfield('/native_fields/temperature', shape)\n",
    "print(temp2.shape)\n",
    "print(temp2.size)\n",
    "print('Time:', time.time() - start)"
   ]
  },
  {
   "cell_type": "markdown",
   "id": "a08babae-10a2-4bee-98b8-59c475cbccc2",
   "metadata": {},
   "source": [
    "### universe"
   ]
  },
  {
   "cell_type": "code",
   "execution_count": 3,
   "id": "acfee78b-119b-4aa8-a234-116d1266516b",
   "metadata": {},
   "outputs": [
    {
     "data": {
      "text/plain": [
       "<tf.Tensor: shape=(), dtype=float64, numpy=2.2856888888888885e+25>"
      ]
     },
     "execution_count": 3,
     "metadata": {},
     "output_type": "execute_result"
    }
   ],
   "source": [
    "u = snap.universe\n",
    "chi = 10\n",
    "z = 1\n",
    "u.chi_to_proper_cgs(chi, z)"
   ]
  },
  {
   "cell_type": "code",
   "execution_count": 4,
   "id": "28f75f47-fb47-4345-86d9-1713e3f3faea",
   "metadata": {},
   "outputs": [
    {
     "data": {
      "text/plain": [
       "<tf.Variable 'Variable:0' shape=() dtype=float64, numpy=0.675>"
      ]
     },
     "execution_count": 4,
     "metadata": {},
     "output_type": "execute_result"
    }
   ],
   "source": [
    "u.h"
   ]
  },
  {
   "cell_type": "markdown",
   "id": "31f092ad-5dcf-4f55-af08-48eba08c8a40",
   "metadata": {},
   "source": [
    "### eos"
   ]
  },
  {
   "cell_type": "code",
   "execution_count": 5,
   "id": "336c4016-5c2e-4278-9de0-a08613e07202",
   "metadata": {},
   "outputs": [
    {
     "data": {
      "text/plain": [
       "9.275646225472467e-13"
      ]
     },
     "execution_count": 5,
     "metadata": {},
     "output_type": "execute_result"
    }
   ],
   "source": [
    "import eos\n",
    "\n",
    "eos_obj = eos.EOS_at_z(snap.z)\n",
    "# returns nhi\n",
    "eos_obj.nyx_eos(rhob.field[0,0,0] * 1e-29, temp.field[0,0,0])"
   ]
  },
  {
   "cell_type": "markdown",
   "id": "af5cf49c-5b19-41de-9c31-210e4fb3a577",
   "metadata": {},
   "source": [
    "## Look at the ranges of rhob and temp"
   ]
  },
  {
   "cell_type": "markdown",
   "id": "e91be474-28ec-4fee-902f-e0d9d3de3c94",
   "metadata": {},
   "source": [
    "[Count the number of elements in a tensor that are above a threshold](https://stackoverflow.com/questions/48292059/in-tensorflow-what-is-the-easiest-way-to-count-the-elements-in-a-tensor-that-ar)"
   ]
  },
  {
   "cell_type": "code",
   "execution_count": 21,
   "id": "aa09c197-190e-4d53-9915-bdab373cbb88",
   "metadata": {},
   "outputs": [
    {
     "name": "stdout",
     "output_type": "stream",
     "text": [
      "max of this rhob slice: 80.97874\n"
     ]
    }
   ],
   "source": [
    "inds = (0, slice(0, 10), slice(0, 1024))\n",
    "\n",
    "print('max rhob in this slice:', tf.reduce_max(rhob.field[inds]).numpy())"
   ]
  },
  {
   "cell_type": "code",
   "execution_count": 49,
   "id": "74312c42-1c53-464d-96d2-533925b2abf0",
   "metadata": {},
   "outputs": [
    {
     "name": "stdout",
     "output_type": "stream",
     "text": [
      "Percent of elements out-of-range (rhob): 0.00018319115042686462%\n"
     ]
    }
   ],
   "source": [
    "## oor = out-of-range\n",
    "elements_oor = tf.math.less(rhob.field, 1e-2) | \\\n",
    "    tf.math.greater(rhob.field, 1e3)\n",
    "num_elements_oor = tf.math.reduce_sum(tf.cast(elements_oor, tf.int32))\n",
    "print('Percent of elements out-of-range (rhob):', \n",
    "      str((num_elements_oor / 1024**3 * 100).numpy()) + '%')\n",
    "\n",
    "## the below code prints 0.0%\n",
    "# elements_oor = tf.math.less(temp.field, 1e3) | \\\n",
    "#     tf.math.greater(temp.field, 1e6)\n",
    "# num_elements_oor = tf.math.reduce_sum(tf.cast(elements_oor, tf.int32))\n",
    "# print('Percent of elements out-of-range (temp):', \n",
    "#       str((num_elements_oor / 1024**3 * 100).numpy()) + '%')"
   ]
  },
  {
   "cell_type": "markdown",
   "id": "1bc1680a-afdf-4045-986d-17aeaf87633d",
   "metadata": {},
   "source": [
    "## Metadata"
   ]
  },
  {
   "cell_type": "code",
   "execution_count": 5,
   "id": "a1efd919-0f98-426a-8d85-709ff4774d9c",
   "metadata": {},
   "outputs": [],
   "source": [
    "shape = snap['domain'].attrs['shape']\n",
    "size = snap['domain'].attrs['size']\n",
    "\n",
    "z = snap['universe'].attrs['redshift']\n",
    "omega_b = snap['universe'].attrs['omega_b']\n",
    "omega_m = snap['universe'].attrs['omega_m']\n",
    "omega_l = snap['universe'].attrs['omega_l']\n",
    "h = snap['universe'].attrs['hubble']\n",
    "\n",
    "scale_factor = 1.0 / (1.0 + z)"
   ]
  },
  {
   "cell_type": "code",
   "execution_count": 6,
   "id": "c3e41af2-0130-43d2-9ee7-0dc0e850d2dc",
   "metadata": {},
   "outputs": [
    {
     "name": "stdout",
     "output_type": "stream",
     "text": [
      "[1024 1024 1024]\n",
      "[21.09375 21.09375 21.09375]\n"
     ]
    }
   ],
   "source": [
    "print(shape)\n",
    "print(size)"
   ]
  },
  {
   "cell_type": "code",
   "execution_count": 5,
   "id": "372e959a-eaf6-4272-8b2e-ddb388a1bc15",
   "metadata": {},
   "outputs": [],
   "source": [
    "snap.close()"
   ]
  },
  {
   "cell_type": "markdown",
   "id": "18a44d6d-0890-4004-a9ca-15018f31733c",
   "metadata": {},
   "source": [
    "## Wrapping Fortran functions to Python"
   ]
  },
  {
   "cell_type": "markdown",
   "id": "a8696260-3c27-482e-8487-cc3882a09a22",
   "metadata": {},
   "source": [
    "[Three ways to wrap](https://numpy.org/doc/stable/f2py/f2py.getting-started.html)\n",
    "\n",
    "- Quick way (this requires Python 3.7 and NumPy 1.18): `python3 -m numpy.f2py -c eos-t.f90 -m eos_t`\n"
   ]
  },
  {
   "cell_type": "code",
   "execution_count": 3,
   "id": "29f90b2e-2e33-467f-8446-bff352056943",
   "metadata": {},
   "outputs": [
    {
     "name": "stdout",
     "output_type": "stream",
     "text": [
      "3.7.10\n"
     ]
    }
   ],
   "source": [
    "from platform import python_version\n",
    "print(python_version())"
   ]
  },
  {
   "cell_type": "code",
   "execution_count": 4,
   "id": "f4c9aa7c-50aa-4503-a149-1d38143191e8",
   "metadata": {
    "tags": []
   },
   "outputs": [],
   "source": [
    "import eos_t"
   ]
  },
  {
   "cell_type": "code",
   "execution_count": 5,
   "id": "65c6caf7-76b7-4f4c-b227-4f69ec4c2638",
   "metadata": {},
   "outputs": [
    {
     "name": "stdout",
     "output_type": "stream",
     "text": [
      "[1.26271073e-10 1.25558019e-10 1.24848791e-10 ... 6.57445059e-19\n",
      " 6.47458444e-19 6.37622769e-19]\n"
     ]
    }
   ],
   "source": [
    "eos_t.atomic_rates.tabulate_rates()\n",
    "print(eos_t.atomic_rates.alphahp)"
   ]
  },
  {
   "cell_type": "code",
   "execution_count": null,
   "id": "603dc22e-46b1-4028-b819-c98f8567d6bf",
   "metadata": {},
   "outputs": [],
   "source": []
  }
 ],
 "metadata": {
  "kernelspec": {
   "display_name": "Lya-TF",
   "language": "python",
   "name": "lya-tf"
  },
  "language_info": {
   "codemirror_mode": {
    "name": "ipython",
    "version": 3
   },
   "file_extension": ".py",
   "mimetype": "text/x-python",
   "name": "python",
   "nbconvert_exporter": "python",
   "pygments_lexer": "ipython3",
   "version": "3.7.10"
  }
 },
 "nbformat": 4,
 "nbformat_minor": 5
}
