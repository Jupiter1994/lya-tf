{
 "cells": [
  {
   "cell_type": "code",
   "execution_count": 5,
   "id": "57c2b1af-7386-486d-9204-65441aa5257c",
   "metadata": {},
   "outputs": [],
   "source": [
    "import h5py\n",
    "import tensorflow as tf\n",
    "from numpy import f2py"
   ]
  },
  {
   "cell_type": "markdown",
   "id": "f6eb1c6d-fd74-4dc1-bbd6-d67c71630d8f",
   "metadata": {},
   "source": [
    "## Wrapping Fortran functions to Python"
   ]
  },
  {
   "cell_type": "markdown",
   "id": "c6173d98-9904-497b-84e6-973423cc81d9",
   "metadata": {},
   "source": [
    "[Three ways to wrap](https://numpy.org/doc/stable/f2py/f2py.getting-started.html)\n",
    "\n",
    "- Quick way: `python -m numpy.f2py -c eos.f90 -m eos`\n",
    "- Smart way: `python -m numpy.f2py eos.f90 -m eos -h eos.pyf` to create the signature file `eos.pyf`, then `python -m numpy.f2py -c eos.pyf eos.f` to build the extension module `eos.\n"
   ]
  },
  {
   "cell_type": "markdown",
   "id": "e6fdc33e-25ff-42bd-b68a-89e950e9a82b",
   "metadata": {},
   "source": [
    "## Testing speed of tensor access\n",
    "\n",
    "It takes too long to access a tensor's entries one-by-one; I need to avoid this when I'm passing fields into the EOS or optical depth routines"
   ]
  },
  {
   "cell_type": "code",
   "execution_count": 12,
   "id": "d8bbf403-fac1-444e-bf6f-74e425fd200f",
   "metadata": {},
   "outputs": [
    {
     "name": "stdout",
     "output_type": "stream",
     "text": [
      "Duration: 0.025780200958251953\n",
      "Time to access 1024^3 entries: 276812.8\n"
     ]
    }
   ],
   "source": [
    "import time\n",
    "\n",
    "n = 10\n",
    "field = tf.zeros((n,n))\n",
    "total = 0\n",
    "\n",
    "start = time.time()\n",
    "\n",
    "for i in range(n):\n",
    "    for j in range(n):\n",
    "        total += field[i,j]\n",
    "\n",
    "duration = time.time() - start\n",
    "rate = duration / n**2\n",
    "print(\"Duration:\", duration)\n",
    "print(\"Time needed to access 1024^3 entries:\", rate * 1024**3)"
   ]
  },
  {
   "cell_type": "markdown",
   "id": "0a48ec23-8e6a-44ef-8e27-7a0ee43e2310",
   "metadata": {},
   "source": [
    "## Testing tf gradients"
   ]
  },
  {
   "cell_type": "code",
   "execution_count": 13,
   "id": "050ed521-66d7-4907-a1bb-3bb9cccb4f72",
   "metadata": {},
   "outputs": [
    {
     "data": {
      "text/plain": [
       "<tf.Tensor: shape=(), dtype=float32, numpy=9.0>"
      ]
     },
     "execution_count": 13,
     "metadata": {},
     "output_type": "execute_result"
    }
   ],
   "source": [
    "tf.math.pow(z, 2)"
   ]
  },
  {
   "cell_type": "code",
   "execution_count": 11,
   "id": "62c87d49-71a5-4543-b903-2739872cfdba",
   "metadata": {},
   "outputs": [
    {
     "name": "stdout",
     "output_type": "stream",
     "text": [
      "a: tf.Tensor(0.25, shape=(), dtype=float32)\n",
      "grad: tf.Tensor(-0.0625, shape=(), dtype=float32)\n"
     ]
    }
   ],
   "source": [
    "z = tf.constant(3.)\n",
    "with tf.GradientTape() as tape:\n",
    "    tape.watch(z) # without this line, grad is None\n",
    "    a = tf.divide(1, z+1)\n",
    "    print('a:', a)\n",
    "    \n",
    "grad = tape.gradient(a, z)\n",
    "print('grad:', grad)"
   ]
  },
  {
   "cell_type": "markdown",
   "id": "3194f80d-bf3f-4e01-81fb-6a93faeb0a8e",
   "metadata": {},
   "source": [
    "# Load in the data"
   ]
  },
  {
   "cell_type": "code",
   "execution_count": 1,
   "id": "f4603af4-2521-4c63-9245-a0b0c3a49b59",
   "metadata": {},
   "outputs": [],
   "source": [
    "filename = \"../../../../../cscratch1/sd/jupiter/sim2_z3_FGPA_cgs.h5\"\n",
    "\n",
    "#snap = h5py.File(filename,'r')"
   ]
  },
  {
   "cell_type": "markdown",
   "id": "3b275758-854f-4696-b5ed-c126efdde728",
   "metadata": {},
   "source": [
    "## Testing classes"
   ]
  },
  {
   "cell_type": "code",
   "execution_count": 2,
   "id": "ad74e4b1-33f9-4d43-bdd0-9822657c03ee",
   "metadata": {},
   "outputs": [],
   "source": [
    "import snapshot\n",
    "\n",
    "snap = snapshot.Snapshot(filename)"
   ]
  },
  {
   "cell_type": "code",
   "execution_count": 3,
   "id": "058ee92d-3c5c-47dd-9072-e436712473b8",
   "metadata": {},
   "outputs": [
    {
     "data": {
      "text/plain": [
       "tensorflow.python.ops.resource_variable_ops.ResourceVariable"
      ]
     },
     "execution_count": 3,
     "metadata": {},
     "output_type": "execute_result"
    }
   ],
   "source": [
    "# test snapshot methods\n",
    "temp = snap.read_field('/native_fields/temperature')\n",
    "type(temp)"
   ]
  },
  {
   "cell_type": "code",
   "execution_count": 12,
   "id": "acfee78b-119b-4aa8-a234-116d1266516b",
   "metadata": {},
   "outputs": [
    {
     "data": {
      "text/plain": [
       "<tf.Tensor: shape=(), dtype=float64, numpy=2.2856888888888885e+25>"
      ]
     },
     "execution_count": 12,
     "metadata": {},
     "output_type": "execute_result"
    }
   ],
   "source": [
    "# test the universe class (from universe.py)\n",
    "u = snap.univ\n",
    "chi = 10\n",
    "z = 1\n",
    "u.chi_to_proper_cgs(chi, z)"
   ]
  },
  {
   "cell_type": "markdown",
   "id": "1bc1680a-afdf-4045-986d-17aeaf87633d",
   "metadata": {},
   "source": [
    "## Metadata"
   ]
  },
  {
   "cell_type": "code",
   "execution_count": 6,
   "id": "a1efd919-0f98-426a-8d85-709ff4774d9c",
   "metadata": {},
   "outputs": [],
   "source": [
    "shape = snap['domain'].attrs['shape']\n",
    "size = snap['domain'].attrs['size']\n",
    "\n",
    "z = snap['universe'].attrs['redshift']\n",
    "omega_b = snap['universe'].attrs['omega_b']\n",
    "omega_m = snap['universe'].attrs['omega_m']\n",
    "omega_l = snap['universe'].attrs['omega_l']\n",
    "h = snap['universe'].attrs['hubble']\n",
    "\n",
    "scale_factor = 1.0 / (1.0 + z)"
   ]
  },
  {
   "cell_type": "code",
   "execution_count": null,
   "id": "d8ffd9ca-14fa-4262-9936-c15d26d83cf1",
   "metadata": {},
   "outputs": [],
   "source": [
    "# TODO: (possibly) implement a grid class\n",
    "# grid = new Grid(shape[0], shape[1], shape[2], size[0], size[1], size[2])"
   ]
  },
  {
   "cell_type": "code",
   "execution_count": 7,
   "id": "372e959a-eaf6-4272-8b2e-ddb388a1bc15",
   "metadata": {},
   "outputs": [],
   "source": [
    "#snap.close()"
   ]
  },
  {
   "cell_type": "code",
   "execution_count": null,
   "id": "603dc22e-46b1-4028-b819-c98f8567d6bf",
   "metadata": {},
   "outputs": [],
   "source": []
  }
 ],
 "metadata": {
  "kernelspec": {
   "display_name": "Lya-TF",
   "language": "python",
   "name": "lya-tf"
  },
  "language_info": {
   "codemirror_mode": {
    "name": "ipython",
    "version": 3
   },
   "file_extension": ".py",
   "mimetype": "text/x-python",
   "name": "python",
   "nbconvert_exporter": "python",
   "pygments_lexer": "ipython3",
   "version": "3.8.10"
  }
 },
 "nbformat": 4,
 "nbformat_minor": 5
}
